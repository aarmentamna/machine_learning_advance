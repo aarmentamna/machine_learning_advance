{
  "cells": [
    {
      "cell_type": "markdown",
      "metadata": {
        "id": "view-in-github",
        "colab_type": "text"
      },
      "source": [
        "<a href=\"https://colab.research.google.com/github/aarmentamna/machine_learning_advance/blob/main/TC4033_Activity4_42.ipynb\" target=\"_parent\"><img src=\"https://colab.research.google.com/assets/colab-badge.svg\" alt=\"Open In Colab\"/></a>"
      ]
    },
    {
      "cell_type": "markdown",
      "metadata": {
        "id": "uFYXOadkCwN2"
      },
      "source": [
        "## **Maestría en Inteligencia Artificial Aplicada**\n",
        "### **Curso: ADVANCED MACHINE LEARNING METHODS**\n",
        "## Tecnológico de Monterrey\n",
        "### Dr. José Antonio Cantoral Ceballos\n",
        "\n",
        "## Activity Week 9\n",
        "### **Text Generator.**\n",
        "\n",
        "*TEAM MEMBERS:*\n",
        "\n",
        "*   Roberto Romero Vielma - A00822314\n",
        "*   José Javier Granados Hernández - A00556717\n",
        "*   Aquiles Yonatan Armenta Hernandez - A01793252\n",
        "*   Alan Avelino Fernández Juárez - A00989308"
      ],
      "id": "uFYXOadkCwN2"
    },
    {
      "cell_type": "markdown",
      "id": "037e89c8",
      "metadata": {
        "id": "037e89c8"
      },
      "source": [
        "## TC 5033\n",
        "### Text Generation\n",
        "\n",
        "<br>\n",
        "\n",
        "#### Activity 4: Building a Simple LSTM Text Generator using WikiText-2\n",
        "<br>\n",
        "\n",
        "- Objective:\n",
        "    - Gain a fundamental understanding of Long Short-Term Memory (LSTM) networks.\n",
        "    - Develop hands-on experience with sequence data processing and text generation in PyTorch. Given the simplicity of the model, amount of data, and computer resources, the text you generate will not replace ChatGPT, and results must likely will not make a lot of sense. Its only purpose is academic and to understand the text generation using RNNs.\n",
        "    - Enhance code comprehension and documentation skills by commenting on provided starter code.\n",
        "    \n",
        "<br>\n",
        "\n",
        "- Instructions:\n",
        "    - Code Understanding: Begin by thoroughly reading and understanding the code. Comment each section/block of the provided code to demonstrate your understanding. For this, you are encouraged to add cells with experiments to improve your understanding\n",
        "\n",
        "    - Model Overview: The starter code includes an LSTM model setup for sequence data processing. Familiarize yourself with the model architecture and its components. Once you are familiar with the provided model, feel free to change the model to experiment.\n",
        "\n",
        "    - Training Function: Implement a function to train the LSTM model on the WikiText-2 dataset. This function should feed the training data into the model and perform backpropagation.\n",
        "\n",
        "    - Text Generation Function: Create a function that accepts starting text (seed text) and a specified total number of words to generate. The function should use the trained model to generate a continuation of the input text.\n",
        "\n",
        "    - Code Commenting: Ensure that all the provided starter code is well-commented. Explain the purpose and functionality of each section, indicating your understanding.\n",
        "\n",
        "    - Submission: Submit your Jupyter Notebook with all sections completed and commented. Include a markdown cell with the full names of all contributing team members at the beginning of the notebook.\n",
        "    \n",
        "<br>\n",
        "\n",
        "- Evaluation Criteria:\n",
        "    - Code Commenting (60%): The clarity, accuracy, and thoroughness of comments explaining the provided code. You are suggested to use markdown cells for your explanations.\n",
        "\n",
        "    - Training Function Implementation (20%): The correct implementation of the training function, which should effectively train the model.\n",
        "\n",
        "    - Text Generation Functionality (10%): A working function is provided in comments. You are free to use it as long as you make sure to uderstand it, you may as well improve it as you see fit. The minimum expected is to provide comments for the given function.\n",
        "\n",
        "    - Conclusions (10%): Provide some final remarks specifying the differences you notice between this model and the one used  for classification tasks. Also comment on changes you made to the model, hyperparameters, and any other information you consider relevant. Also, please provide 3 examples of generated texts.\n",
        "\n"
      ]
    },
    {
      "cell_type": "markdown",
      "source": [
        "##Install mising libraries\n",
        "\n",
        "To run the code successfully, you need to install the PyTorch and torchvision libraries. The following code uses pip to install these libraries:"
      ],
      "metadata": {
        "id": "3ypC8MQo7kuR"
      },
      "id": "3ypC8MQo7kuR"
    },
    {
      "cell_type": "code",
      "execution_count": null,
      "metadata": {
        "id": "zBBbIoHGCwN6",
        "outputId": "fedbd0f4-9736-43f3-956a-8df9176812b0",
        "colab": {
          "base_uri": "https://localhost:8080/"
        }
      },
      "outputs": [
        {
          "output_type": "stream",
          "name": "stdout",
          "text": [
            "Requirement already satisfied: torchtext in /usr/local/lib/python3.10/dist-packages (0.16.0)\n",
            "Requirement already satisfied: tqdm in /usr/local/lib/python3.10/dist-packages (from torchtext) (4.66.1)\n",
            "Requirement already satisfied: requests in /usr/local/lib/python3.10/dist-packages (from torchtext) (2.31.0)\n",
            "Requirement already satisfied: torch==2.1.0 in /usr/local/lib/python3.10/dist-packages (from torchtext) (2.1.0+cu118)\n",
            "Requirement already satisfied: numpy in /usr/local/lib/python3.10/dist-packages (from torchtext) (1.23.5)\n",
            "Requirement already satisfied: torchdata==0.7.0 in /usr/local/lib/python3.10/dist-packages (from torchtext) (0.7.0)\n",
            "Requirement already satisfied: filelock in /usr/local/lib/python3.10/dist-packages (from torch==2.1.0->torchtext) (3.13.1)\n",
            "Requirement already satisfied: typing-extensions in /usr/local/lib/python3.10/dist-packages (from torch==2.1.0->torchtext) (4.5.0)\n",
            "Requirement already satisfied: sympy in /usr/local/lib/python3.10/dist-packages (from torch==2.1.0->torchtext) (1.12)\n",
            "Requirement already satisfied: networkx in /usr/local/lib/python3.10/dist-packages (from torch==2.1.0->torchtext) (3.2.1)\n",
            "Requirement already satisfied: jinja2 in /usr/local/lib/python3.10/dist-packages (from torch==2.1.0->torchtext) (3.1.2)\n",
            "Requirement already satisfied: fsspec in /usr/local/lib/python3.10/dist-packages (from torch==2.1.0->torchtext) (2023.6.0)\n",
            "Requirement already satisfied: triton==2.1.0 in /usr/local/lib/python3.10/dist-packages (from torch==2.1.0->torchtext) (2.1.0)\n",
            "Requirement already satisfied: urllib3>=1.25 in /usr/local/lib/python3.10/dist-packages (from torchdata==0.7.0->torchtext) (2.0.7)\n",
            "Requirement already satisfied: charset-normalizer<4,>=2 in /usr/local/lib/python3.10/dist-packages (from requests->torchtext) (3.3.2)\n",
            "Requirement already satisfied: idna<4,>=2.5 in /usr/local/lib/python3.10/dist-packages (from requests->torchtext) (3.4)\n",
            "Requirement already satisfied: certifi>=2017.4.17 in /usr/local/lib/python3.10/dist-packages (from requests->torchtext) (2023.7.22)\n",
            "Requirement already satisfied: MarkupSafe>=2.0 in /usr/local/lib/python3.10/dist-packages (from jinja2->torch==2.1.0->torchtext) (2.1.3)\n",
            "Requirement already satisfied: mpmath>=0.19 in /usr/local/lib/python3.10/dist-packages (from sympy->torch==2.1.0->torchtext) (1.3.0)\n"
          ]
        }
      ],
      "source": [
        "!pip install portalocker>=2.0.0\n",
        "!pip install torchtext"
      ],
      "id": "zBBbIoHGCwN6"
    },
    {
      "cell_type": "markdown",
      "source": [],
      "metadata": {
        "id": "EREhCm457f80"
      },
      "id": "EREhCm457f80"
    },
    {
      "cell_type": "code",
      "execution_count": null,
      "id": "3eb4b117",
      "metadata": {
        "id": "3eb4b117"
      },
      "outputs": [],
      "source": [
        "#PyTorch libraries\n",
        "import torch\n",
        "import torchtext\n",
        "from torchtext.datasets import WikiText2\n",
        "# Dataloader library\n",
        "from torch.utils.data import DataLoader, TensorDataset\n",
        "from torch.utils.data.dataset import random_split\n",
        "# Libraries to prepare the data\n",
        "from torchtext.data.utils import get_tokenizer\n",
        "from torchtext.vocab import build_vocab_from_iterator\n",
        "from torchtext.data.functional import to_map_style_dataset\n",
        "# neural layers\n",
        "from torch import nn\n",
        "from torch.nn import functional as F\n",
        "import torch.optim as optim\n",
        "from tqdm import tqdm\n",
        "\n",
        "import numpy as np\n",
        "import random"
      ]
    },
    {
      "cell_type": "markdown",
      "source": [
        "This code imports various libraries and modules related to PyTorch, data handling, and neural networks. Here's a summary of the imported libraries:\n",
        "\n",
        "1. PyTorch Libraries:\n",
        "  - import torch: Core PyTorch library.\n",
        "  - import torchtext: Library for text processing with PyTorch.\n",
        "  - from torchtext.datasets import WikiText2: Importing the WikiText2 dataset from the torchtext.datasets module.\n",
        "\n",
        "2. Dataloader Library:\n",
        "  - from torch.utils.data import DataLoader, TensorDataset: Importing DataLoader and TensorDataset classes for efficient data loading.\n",
        "\n",
        "3. Libraries to Prepare the Data:\n",
        "  - from torchtext.data.utils import get_tokenizer: Importing a tokenizer for text processing.\n",
        "  - from torchtext.vocab import build_vocab_from_iterator: Importing a function to build vocabulary from iterators.\n",
        "  - from torchtext.data.functional import to_map_style_dataset: Importing a function to convert a dataset to a map-style dataset.\n",
        "\n",
        "4. Neural Layers:\n",
        "  - from torch import nn: Importing the neural network module from PyTorch.\n",
        "  - from torch.nn import functional as F: Importing the functional module from PyTorch, often used for activation functions.\n",
        "  - import torch.optim as optim: Importing the PyTorch module for optimization algorithms.\n",
        "\n",
        "5. Other Utilities:\n",
        "  - from tqdm import tqdm: Importing the tqdm library for creating progress bars during iterations.\n",
        "  - import numpy as np: Importing NumPy for numerical operations.\n",
        "  - import random: Importing the random module for generating random numbers."
      ],
      "metadata": {
        "id": "vjDhjjHJ7pic"
      },
      "id": "vjDhjjHJ7pic"
    },
    {
      "cell_type": "markdown",
      "source": [
        "##Define M1 Mac GPU Speed or CUDA if available\n",
        "\n",
        "This code checks for the availability of CUDA-enabled GPU (Graphics Processing Unit) for PyTorch and sets the device accordingly. Here's a step-by-step explanation of the code:\n",
        "\n",
        "1. It uses `torch.cuda.is_available()` to check if a CUDA-enabled GPU is available.\n",
        "\n",
        "2. If a GPU is available (torch.cuda.is_available() returns True), it sets the device to 'cuda' using torch.device('cuda').\n",
        "\n",
        "3. If a GPU is not available, it attempts to set the device to 'mps' (Multi-Process Service), which is a feature provided by some CUDA-enabled GPUs for improved multi-GPU performance. This is done inside a try-except block, which means if 'mps' is not supported or available, it will fall back to using the CPU.\n",
        "\n",
        "4. If neither 'cuda' nor 'mps' is available, it sets the device to 'cpu' using torch.device('cpu').\n",
        "\n",
        "5. Finally, it prints the selected device to the console, indicating whether it's 'cuda' (GPU), 'mps', or 'cpu'."
      ],
      "metadata": {
        "id": "K4x5i37ezl69"
      },
      "id": "K4x5i37ezl69"
    },
    {
      "cell_type": "code",
      "execution_count": null,
      "id": "6d8ff971",
      "metadata": {
        "id": "6d8ff971",
        "outputId": "58dee80b-932b-4920-c4eb-54921f304058",
        "colab": {
          "base_uri": "https://localhost:8080/"
        }
      },
      "outputs": [
        {
          "output_type": "stream",
          "name": "stdout",
          "text": [
            "cuda\n"
          ]
        }
      ],
      "source": [
        "if torch.cuda.is_available():\n",
        "    device = torch.device('cuda')\n",
        "else:\n",
        "    try:\n",
        "        device = torch.device('mps')\n",
        "    except:\n",
        "        device = torch.device('cpu')\n",
        "print(device)"
      ]
    },
    {
      "cell_type": "markdown",
      "source": [
        "Next line of code is loading the WikiText2 dataset and assigning it to three variables: train_dataset, val_dataset, and test_dataset. Here's a step-by-step explanation of the code:\n",
        "\n",
        "1. Dataset Loading: The `WikiText2()` function is used to load the WikiText2 dataset. This dataset is commonly used in natural language processing tasks, particularly for language modeling.\n",
        "\n",
        "2. Data Splitting: The WikiText2 dataset is split into three subsets:\n",
        "  - `train_dataset`: This subset is typically used for training a machine learning model. It contains examples that the model will learn from.\n",
        "  - `val_dataset`: This subset is used for validation during the training process. It helps monitor the model's performance on data it has not seen during training and can be used for hyperparameter tuning.\n",
        "  - `test_dataset`: This subset is reserved for evaluating the final performance of the trained model. It is used to assess how well the model generalizes to new, unseen data.\n",
        "\n",
        "3. Variable Assignment: The three datasets (train, validation, and test) are assigned to the variables train_dataset, val_dataset, and test_dataset, respectively."
      ],
      "metadata": {
        "id": "xxEpuLit8b-N"
      },
      "id": "xxEpuLit8b-N"
    },
    {
      "cell_type": "code",
      "execution_count": null,
      "id": "f3288ce5",
      "metadata": {
        "id": "f3288ce5"
      },
      "outputs": [],
      "source": [
        "train_dataset, val_dataset, test_dataset = WikiText2()"
      ]
    },
    {
      "cell_type": "markdown",
      "source": [
        "Next code is defining a tokenization process using the get_tokenizer function from the torchtext.data.utils module. Here's a step-by-step explanation of the code:\n",
        "\n",
        "1. Tokenization Setup:\n",
        "\n",
        "  - `tokeniser = get_tokenizer('basic_english')`: This line sets up a tokenizer named tokeniser using the 'basic_english' preset provided by get_tokenizer. This particular tokenizer is designed for basic English text processing.\n",
        "\n",
        "2. Tokenization Function:\n",
        "\n",
        "  - `def yield_tokens(data):`: This line defines a function named yield_tokens that takes a dataset (data) as input.\n",
        "  - `for text in data:`: It iterates over each text in the dataset.\n",
        "  - `yield tokeniser(text)`: For each text, it uses the tokeniser to tokenize the text and yields the resulting tokens. The yield keyword is used here to create a generator function, allowing tokens to be generated one at a time rather than storing all tokens in memory at once."
      ],
      "metadata": {
        "id": "mgRvueW68xBR"
      },
      "id": "mgRvueW68xBR"
    },
    {
      "cell_type": "code",
      "execution_count": null,
      "id": "fc4c7dbd",
      "metadata": {
        "id": "fc4c7dbd"
      },
      "outputs": [],
      "source": [
        "tokeniser = get_tokenizer('basic_english')\n",
        "def yield_tokens(data):\n",
        "    for text in data:\n",
        "        yield tokeniser(text)"
      ]
    },
    {
      "cell_type": "markdown",
      "source": [
        "Next code is focused on building a vocabulary from a training dataset for natural language processing tasks. Here's a step-by-step explanation of the code:\n",
        "\n",
        "1. Build Vocabulary:\n",
        "  - `vocab = build_vocab_from_iterator(yield_tokens(train_dataset), specials=[\"<unk>\", \"<pad>\", \"<bos>\", \"<eos>\"])`:\n",
        "    - `yield_tokens(train_dataset)`: This generates tokens from the training dataset using the yield_tokens function. It is passed as an iterator to build_vocab_from_iterator.\n",
        "    - `specials=[\"<unk>\", \"<pad>\", \"<bos>\", \"<eos>\"]`: These are special tokens that are added to the vocabulary. For example, `<unk>` represents unknown words, `<pad>` represents padding, `<bos>` is the beginning-of-sequence token, and `<eos>` is the end-of-sequence token.\n",
        "    - `vocab = ...`: The result is a vocabulary (`vocab`) constructed from the tokens in the training dataset.\n",
        "\n",
        "2. Set Default Index for Unknown Tokens:\n",
        "  - `vocab.set_default_index(vocab[\"<unk>\"])`:\n",
        "    -  `vocab[\"<unk>\"]`: Retrieves the index of the `<unk>` (unknown) token in the vocabulary.\n",
        "    - `vocab.set_default_index(...)`: Sets the default index of the vocabulary to the index of the `<unk>` token. This means that if an out-of-vocabulary word is encountered during later processing, it will be represented by the index of the `<unk>` token.\n",
        "\n"
      ],
      "metadata": {
        "id": "wTieXgEq-SzA"
      },
      "id": "wTieXgEq-SzA"
    },
    {
      "cell_type": "code",
      "execution_count": null,
      "id": "2c2cb068",
      "metadata": {
        "id": "2c2cb068"
      },
      "outputs": [],
      "source": [
        "# Build the vocabulary\n",
        "vocab = build_vocab_from_iterator(yield_tokens(train_dataset), specials=[\"<unk>\", \"<pad>\", \"<bos>\", \"<eos>\"])\n",
        "#set unknown token at position 0\n",
        "vocab.set_default_index(vocab[\"<unk>\"])"
      ]
    },
    {
      "cell_type": "markdown",
      "source": [
        "Next code is part of the data processing pipeline for preparing sequences of text data for training a model. Here's a step-by-step explanation of the code:\n",
        "\n",
        "1. Set Sequence Length:\n",
        "  - `seq_length = 50`: This line defines the sequence length, indicating the number of tokens in each sequence. In this case, it is set to 50.\n",
        "\n",
        "2. Data Processing Function:\n",
        "  - `def data_process(raw_text_iter, seq_length=50)`: This function takes an iterator (`raw_text_iter`) containing raw text data and an optional parameter for the sequence length.\n",
        "  - `data = [torch.tensor(vocab(tokeniser(item)), dtype=torch.long) for item in raw_text_iter]`: It tokenizes each item in the raw text iterator using the `vocab` and `tokeniser` functions, then converts the resulting tokens into PyTorch tensors of type `long`.\n",
        "  - `data = torch.cat(tuple(filter(lambda t: t.numel() > 0, data)))`: It concatenates the tensors into a single tensor along the first dimension (using `torch.cat`). The `filter` function is used to remove any empty tensors.\n",
        "  - The function returns a tuple containing two tensors:\n",
        "    - `data[:-(data.size(0) % seq_length)].view(-1, seq_length)`: This tensor represents the input data. It is reshaped into sequences of length `seq_length`. The part before the last sequence that doesn't fit evenly into s`eq_length` is discarded.\n",
        "    - `data[1:-(data.size(0) % seq_length - 1)].view(-1, seq_length)`: This tensor represents the target data, shifted by one position compared to the input data. It is also reshaped into sequences of length `seq_length`.\n",
        "\n",
        "4. Create Tensors for Training, Validation, and Test Sets:\n",
        "  - `x_train, y_train = data_process(train_dataset, seq_length)`: Calls the `data_process` function on the training dataset, generating input (`x_train`) and target (`y_train`) tensors.\n",
        "  - Similar lines create tensors for the validation (`x_val, y_val`) and test (`x_test, y_test`) datasets."
      ],
      "metadata": {
        "id": "6emV5kpDAMnt"
      },
      "id": "6emV5kpDAMnt"
    },
    {
      "cell_type": "code",
      "execution_count": null,
      "id": "134b832b",
      "metadata": {
        "id": "134b832b"
      },
      "outputs": [],
      "source": [
        "seq_length = 50\n",
        "def data_process(raw_text_iter, seq_length = 50):\n",
        "    data = [torch.tensor(vocab(tokeniser(item)), dtype=torch.long) for item in raw_text_iter]\n",
        "    data = torch.cat(tuple(filter(lambda t: t.numel() > 0, data))) #remove empty tensors\n",
        "#     target_data = torch.cat(d)\n",
        "    return (data[:-(data.size(0)%seq_length)].view(-1, seq_length),\n",
        "            data[1:-(data.size(0)%seq_length-1)].view(-1, seq_length))\n",
        "\n",
        "# # Create tensors for the training set\n",
        "x_train, y_train = data_process(train_dataset, seq_length)\n",
        "x_val, y_val = data_process(val_dataset, seq_length)\n",
        "x_test, y_test = data_process(test_dataset, seq_length)"
      ]
    },
    {
      "cell_type": "markdown",
      "source": [
        "Next code is creating PyTorch TensorDataset instances for the training, validation, and test sets. Here's a summary:\n",
        "\n",
        "- Create TensorDataset Instances:\n",
        "  - `train_dataset = TensorDataset(x_train, y_train)`: This line creates a `TensorDataset` instance for the training set. It takes two tensors (`x_train` and `y_train`) representing input and target sequences, respectively.\n",
        "  - `val_dataset = TensorDataset(x_val, y_val)`: Similarly, a `TensorDataset` instance is created for the validation set.\n",
        "  - `test_dataset = TensorDataset(x_test, y_test)`: Likewise, a `TensorDataset` instance is created for the test set."
      ],
      "metadata": {
        "id": "0RqaKrJBBjel"
      },
      "id": "0RqaKrJBBjel"
    },
    {
      "cell_type": "code",
      "execution_count": null,
      "id": "4b54c04d",
      "metadata": {
        "id": "4b54c04d"
      },
      "outputs": [],
      "source": [
        "train_dataset = TensorDataset(x_train, y_train)\n",
        "val_dataset = TensorDataset(x_val, y_val)\n",
        "test_dataset = TensorDataset(x_test, y_test)"
      ]
    },
    {
      "cell_type": "markdown",
      "source": [
        "Next code sets up PyTorch DataLoader instances for the training, validation, and test sets, enabling efficient loading of data in batches during model training and evaluation. Here's a summary:\n",
        "\n",
        "1. Define Batch Size:\n",
        "   - `batch_size = 64`: This line sets the batch size, which is the number of samples processed in one iteration during training.\n",
        "\n",
        "2. Create `DataLoader` Instances:\n",
        "  - `train_loader = DataLoader(train_dataset, batch_size=batch_size, shuffle=True, drop_last=True)`: This line creates a `DataLoader` for the training set (`train_dataset`). It specifies the batch size, enables shuffling of the data before each epoch (`huffle=True`), and drops the last incomplete batch if the dataset size is not divisible by the batch size (`drop_last=True`).\n",
        "  - `val_loader = DataLoader(val_dataset, batch_size=batch_size, shuffle=True, drop_last=True)`: Similarly, a `DataLoader` is created for the validation set (`val_dataset`).\n",
        "  - `test_loader = DataLoader(test_dataset, batch_size=batch_size, shuffle=True, drop_last=True)`: Likewise, a `DataLoader` is created for the test set (`test_dataset`)."
      ],
      "metadata": {
        "id": "0ckQvpKmCAyF"
      },
      "id": "0ckQvpKmCAyF"
    },
    {
      "cell_type": "code",
      "execution_count": null,
      "id": "f4d400fb",
      "metadata": {
        "id": "f4d400fb"
      },
      "outputs": [],
      "source": [
        "batch_size = 64  # choose a batch size that fits your computation resources\n",
        "train_loader = DataLoader(train_dataset, batch_size=batch_size, shuffle=True, drop_last=True)\n",
        "val_loader = DataLoader(val_dataset, batch_size=batch_size, shuffle=True, drop_last=True)\n",
        "test_loader = DataLoader(test_dataset, batch_size=batch_size, shuffle=True, drop_last=True)"
      ]
    },
    {
      "cell_type": "markdown",
      "source": [
        "Next code defines an LSTM (Long Short-Term Memory) model using PyTorch's nn.Module interface. Here's a step-by-step summary:\n",
        "\n",
        "1. Define the LSTM Model Class:\n",
        "  - `class LSTMModel(nn.Module):`: Defines a new class `LSTMModel` that inherits from `nn.Module`, indicating that it is a PyTorch model.\n",
        "  - `def __init__(self, vocab_size, embed_size, hidden_size, num_layers):`: Initializes the model with specified hyperparameters.\n",
        "    - `self.embeddings = nn.Embedding(vocab_size, embed_size)`: Defines an embedding layer with vocabulary size `vocab_size` and embedding size `embed_size`.\n",
        "    - `self.hidden_size = hidden_size`: Stores the hidden size as an attribute.\n",
        "    - `self.num_layers = num_layers`: Stores the number of LSTM layers as an attribute.\n",
        "    - `self.lstm = nn.LSTM(embed_size, hidden_size, num_layers, batch_first=True)`: Defines an LSTM layer with input size `embed_size`, hidden size `hidden_size`, `num_layers` LSTM layers, and `batch_first=True` indicating that the input and output tensors are provided as (batch, seq, feature).\n",
        "    - `self.fc = nn.Linear(hidden_size, vocab_size)`: Defines a fully connected layer with input size `hidden_size` and output size `vocab_size`, mapping LSTM output to vocabulary size.\n",
        "\n",
        "  - `def forward(self, text, hidden):`: Defines the forward pass of the model.\n",
        "    - `embeddings = self.embeddings(text)`: Applies the embedding layer to the input text.\n",
        "    - `output, hidden = self.lstm(embeddings, hidden)`: Applies the LSTM layer to the embeddings, producing output and hidden states.\n",
        "    - `decoded = self.fc(output)`: Applies the fully connected layer to the LSTM output.\n",
        "    - `return decoded, hidden`: Returns the decoded output and the hidden state.\n",
        "\n",
        "  - `def init_hidden(self, batch_size):`: Initializes the hidden state of the LSTM.\n",
        "    - `return (torch.zeros(self.num_layers, batch_size, self.hidden_size).to(device), torch.zeros(self.num_layers, batch_size, self.hidden_size).to(device))`: Returns a tuple containing two tensors of zeros, representing the initial hidden state and cell state of the LSTM.\n",
        "\n",
        "2. Set Model Hyperparameters:\n",
        "  - `vocab_size = len(vocab)`: Determines the vocabulary size based on the size of the vocabulary (`vocab`).\n",
        "  - `emb_size = 100`: Sets the embedding size to 100.\n",
        "  - `neurons = 128`: Sets the number of neurons (hidden size) to 128.\n",
        "  - `num_layers = 1`: Sets the number of LSTM layers to 1.\n",
        "\n",
        "3. Instantiate the Model:\n",
        "  - `model = LSTMModel(vocab_size, emb_size, neurons, num_layers)`: Creates an instance of the `LSTMModel` with the specified hyperparameters."
      ],
      "metadata": {
        "id": "YIMTWAEHCsjr"
      },
      "id": "YIMTWAEHCsjr"
    },
    {
      "cell_type": "code",
      "execution_count": null,
      "id": "59c63b01",
      "metadata": {
        "id": "59c63b01"
      },
      "outputs": [],
      "source": [
        "# Define the LSTM model\n",
        "# Feel free to experiment\n",
        "class LSTMModel(nn.Module):\n",
        "    def __init__(self, vocab_size, embed_size, hidden_size, num_layers):\n",
        "        super(LSTMModel, self).__init__()\n",
        "        self.embeddings = nn.Embedding(vocab_size, embed_size)\n",
        "        self.hidden_size = hidden_size\n",
        "        self.num_layers = num_layers\n",
        "        self.lstm = nn.LSTM(embed_size, hidden_size, num_layers, batch_first=True)\n",
        "        self.fc = nn.Linear(hidden_size, vocab_size)\n",
        "\n",
        "    def forward(self, text, hidden):\n",
        "        embeddings = self.embeddings(text)\n",
        "        output, hidden = self.lstm(embeddings, hidden)\n",
        "        decoded = self.fc(output)\n",
        "        return decoded, hidden\n",
        "\n",
        "    def init_hidden(self, batch_size):\n",
        "\n",
        "        return (torch.zeros(self.num_layers, batch_size, self.hidden_size).to(device),\n",
        "                torch.zeros(self.num_layers, batch_size, self.hidden_size).to(device))\n",
        "\n",
        "\n",
        "\n",
        "vocab_size = len(vocab) # vocabulary size\n",
        "emb_size = 100 # embedding size\n",
        "neurons = 128 # the dimension of the feedforward network model, i.e. # of neurons\n",
        "num_layers = 1 # the number of nn.LSTM layers\n",
        "model = LSTMModel(vocab_size, emb_size, neurons, num_layers)\n"
      ]
    },
    {
      "cell_type": "markdown",
      "source": [
        "Next code defines a training function for a given model using PyTorch. Here's a step-by-step summary:\n",
        "\n",
        "1. Define the Training Function:\n",
        "  - `def train(model, epochs, optimizer, criterion):`: Defines a training function that takes a model, the number of epochs, an optimizer, and a loss criterion as inputs.\n",
        "\n",
        "2. Move Model to Device and Set to Train Mode:\n",
        "  - `model = model.to(device=device)`: Moves the model to the specified device (CPU or GPU).\n",
        "  - `model.train()`: Sets the model in training mode, enabling features like dropout.\n",
        "\n",
        "3. Training Loop Over Epochs:\n",
        "  - `for epoch in range(epochs):`: Iterates over the specified number of epochs.\n",
        "\n",
        "4. Initialize Metrics:\n",
        "  - `total_loss = 0.0`: Initializes the total loss for the epoch.\n",
        "  - `correct_predictions = 0`: Initializes the count of correct predictions.\n",
        "  - `total_samples = 0`: Initializes the total number of samples processed.\n",
        "\n",
        "5. Training Loop Over Batches:\n",
        "  - `for i, (data, targets) in enumerate(train_loader):`: Iterates over batches in the training data.\n",
        "  - `optimizer.zero_grad()`: Zeroes the gradients to prevent accumulation.\n",
        "\n",
        "6. Move Data to Device and Initialize Hidden State:\n",
        "  - `data, targets = data.to(device), targets.to(device)`: Moves the input data and targets to the specified device.\n",
        "  - `hidden = model.init_hidden(data.size(0))`: Initializes the hidden state for the LSTM model.\n",
        "\n",
        "7. Forward Pass:\n",
        "  - `outputs, hidden = model(data, hidden)`: Performs a forward pass through the model.\n",
        "\n",
        "8. Calculate Loss and Update Metrics:\n",
        "  - `loss = criterion(outputs.view(-1, len(vocab)), targets.view(-1))`: Calculates the loss using the specified criterion.\n",
        "  - `total_loss += loss.item()`: Accumulates the total loss for the epoch.\n",
        "  - `_, predicted = torch.max(outputs, 2)`: Obtains predictions by selecting the index with the maximum value along the third dimension.\n",
        "  - `correct_predictions += (predicted == targets).sum().item()`: Counts the number of correct predictions.\n",
        "  - `total_samples += targets.numel()`: Updates the total number of processed samples.\n",
        "\n",
        "9. Backward Pass and Optimization:\n",
        "  - `loss.backward()`: Performs a backward pass to compute gradients.\n",
        "  - `optimizer.step()`: Updates the model parameters using the optimizer.\n",
        "\n",
        "10. Compute Metrics for the Epoch and Print:\n",
        "  - `loss = total_loss / len(train_loader)`: Computes the average loss for the epoch.\n",
        "  - `accuracy = correct_predictions / total_samples`: Computes the accuracy for the epoch.\n",
        "  - `print(f'Epoch [{epoch + 1}/{epochs}], Loss: {loss:.4f}, Accuracy: {accuracy * 100:.2f}%')`: Prints the epoch, loss, and accuracy."
      ],
      "metadata": {
        "id": "6sU3PrJuE4Ev"
      },
      "id": "6sU3PrJuE4Ev"
    },
    {
      "cell_type": "code",
      "execution_count": null,
      "id": "215eabb9",
      "metadata": {
        "id": "215eabb9"
      },
      "outputs": [],
      "source": [
        "def train(model, epochs, optimizer, criterion):\n",
        "    model = model.to(device=device)\n",
        "    model.train()\n",
        "\n",
        "    for epoch in range(epochs):\n",
        "        total_loss = 0.0\n",
        "        correct_predictions = 0\n",
        "        total_samples = 0\n",
        "\n",
        "        for i, (data, targets) in enumerate(train_loader):\n",
        "            optimizer.zero_grad()\n",
        "\n",
        "            # Move data to the device\n",
        "            data, targets = data.to(device), targets.to(device)\n",
        "\n",
        "            # Initialize hidden state\n",
        "            hidden = model.init_hidden(data.size(0))\n",
        "\n",
        "            # Forward pass\n",
        "            outputs, hidden = model(data, hidden)\n",
        "\n",
        "            # Calculate the loss\n",
        "            loss = criterion(outputs.view(-1, len(vocab)), targets.view(-1))\n",
        "            total_loss += loss.item()\n",
        "\n",
        "            # Compute accuracy\n",
        "            _, predicted = torch.max(outputs, 2)\n",
        "            correct_predictions += (predicted == targets).sum().item()\n",
        "            total_samples += targets.numel()\n",
        "\n",
        "            # Backward pass and optimization\n",
        "            loss.backward()\n",
        "            optimizer.step()\n",
        "\n",
        "        loss = total_loss / len(train_loader)\n",
        "        accuracy = correct_predictions / total_samples\n",
        "        print(f'Epoch [{epoch + 1}/{epochs}], Loss: {loss:.4f}, Accuracy: {accuracy * 100:.2f}%')\n"
      ]
    },
    {
      "cell_type": "markdown",
      "source": [
        "Next code is calling the train function to train a given model using the specified loss function, learning rate, and number of epochs. Here's a step-by-step summary:\n",
        "\n",
        "1. Define Loss Function:\n",
        "  - `loss_function = nn.CrossEntropyLoss()`: Creates an instance of the CrossEntropyLoss, which is commonly used for classification tasks.\n",
        "\n",
        "2. Set Learning Rate and Number of Epochs:\n",
        "  - `lr = 0.001`: Sets the learning rate for the Adam optimizer to 0.001.\n",
        "  - `epochs = 10:` Specifies the number of training epochs.\n",
        "\n",
        "3. Initialize Adam Optimizer:\n",
        "  - `optimiser = optim.Adam(model.parameters(), lr=lr)`: Creates an Adam optimizer for the model's parameters with the specified learning rate.\n",
        "\n",
        "4. Call the Training Function:\n",
        "  - `train(model, epochs, optimiser, loss_function)`: Calls the `train` function to train the model. It passes the model, number of epochs, optimizer, and loss function as arguments."
      ],
      "metadata": {
        "id": "_9jV8e0EGX1W"
      },
      "id": "_9jV8e0EGX1W"
    },
    {
      "cell_type": "code",
      "execution_count": null,
      "id": "aa9c84ce",
      "metadata": {
        "id": "aa9c84ce",
        "outputId": "5317e4fc-1d4c-448f-c61e-2b4a5ba0f4d2",
        "colab": {
          "base_uri": "https://localhost:8080/"
        }
      },
      "outputs": [
        {
          "output_type": "stream",
          "name": "stdout",
          "text": [
            "Epoch [1/10], Loss: 3.3948, Accuracy: 37.21%\n",
            "Epoch [2/10], Loss: 3.3670, Accuracy: 37.66%\n",
            "Epoch [3/10], Loss: 3.3538, Accuracy: 37.88%\n",
            "Epoch [4/10], Loss: 3.3420, Accuracy: 38.06%\n",
            "Epoch [5/10], Loss: 3.3307, Accuracy: 38.24%\n",
            "Epoch [6/10], Loss: 3.3203, Accuracy: 38.40%\n",
            "Epoch [7/10], Loss: 3.3106, Accuracy: 38.54%\n",
            "Epoch [8/10], Loss: 3.3012, Accuracy: 38.68%\n",
            "Epoch [9/10], Loss: 3.2919, Accuracy: 38.82%\n",
            "Epoch [10/10], Loss: 3.2831, Accuracy: 38.94%\n"
          ]
        }
      ],
      "source": [
        "# Call the train function\n",
        "loss_function = nn.CrossEntropyLoss()\n",
        "lr = 0.001\n",
        "epochs = 10\n",
        "optimiser = optim.Adam(model.parameters(), lr=lr)\n",
        "train(model, epochs, optimiser,loss_function)"
      ]
    },
    {
      "cell_type": "markdown",
      "source": [
        "Next code defines a function for text generation using a trained model. Here's a step-by-step summary:\n",
        "\n",
        "1. Define Text Generation Function:\n",
        "  - `def generate_text(model, start_text, num_words, temperature=1.0):`: Defines a function for generating text given a trained model, a starting text sequence (`start_text`), and the number of words to generate (`num_words`). The optional parameter `temperature` controls the level of randomness in the generation.\n",
        "\n",
        "2. Set Model to Evaluation Mode:\n",
        "  - `model.eval()`: Sets the model to evaluation mode, indicating that no gradients need to be computed during generation.\n",
        "\n",
        "3. Tokenize the Starting Text and Initialize Hidden State:\n",
        "  - `words = tokeniser(start_text)`: Tokenizes the starting text using the provided tokenizer.\n",
        "  - `hidden = model.init_hidden(1)`: Initializes the hidden state for the LSTM model. The batch size is set to 1 for text generation.\n",
        "\n",
        "4. Generate Text Loop:\n",
        "  - `with torch.no_grad():`: Ensures that no gradients are calculated during the generation loop.\n",
        "  - `for _ in range(num_words):`: Iterates over the specified number of words to generate.\n",
        "\n",
        "5. Prepare Input for the Model:\n",
        "  - `x = torch.tensor([[vocab[word] for word in words[-seq_length:]]], dtype=torch.long, device=device)`: Creates a tensor representing the input sequence for the model. It includes the last `seq_length` words from the generated text.\n",
        "\n",
        "6. Forward Pass Through the Model:\n",
        "  - `y_pred, hidden = model(x, hidden)`: Performs a forward pass through the model to get predictions for the next word.\n",
        "\n",
        "7. Sample the Next Word:\n",
        "  - `last_word_logits = y_pred[0][-1]`: Extracts the logits for the last word in the sequence.\n",
        "  - `p = F.softmax(last_word_logits / temperature, dim=0).cpu().numpy()`: Applies a softmax function with temperature to the logits, creating a probability distribution.\n",
        "  - `word_index = np.random.choice(len(last_word_logits), p=p)`: Samples the next word index based on the probability distribution.\n",
        "\n",
        "8. Append the Predicted Word to the Sequence:\n",
        "  - `words.append(vocab.lookup_token(word_index))`: Appends the predicted word to the list of generated words.\n",
        "\n",
        "9. Return the Generated Text:\n",
        "  - `return ' '.join(words)`: Joins the generated words into a text string."
      ],
      "metadata": {
        "id": "TFbtdUDXHByQ"
      },
      "id": "TFbtdUDXHByQ"
    },
    {
      "cell_type": "code",
      "source": [
        "def generate_text(model, start_text, num_words, temperature=1.0):\n",
        "    '''\n",
        "    Generate text using the trained model.\n",
        "\n",
        "    Parameters:\n",
        "        model (LSTMModel): The trained LSTM model.\n",
        "        start_text (str): The starting text or seed.\n",
        "        num_words (int): The total number of words to generate.\n",
        "        temperature (float): Controls the randomness of the generated text.\n",
        "\n",
        "    Returns:\n",
        "        str: The generated text.\n",
        "    '''\n",
        "    model.eval()\n",
        "\n",
        "    words = tokeniser(start_text)\n",
        "    hidden = model.init_hidden(1)\n",
        "\n",
        "    with torch.no_grad():  # No need to track gradients during generation\n",
        "        for _ in range(num_words):\n",
        "            x = torch.tensor([[vocab[word] for word in words[-seq_length:]]], dtype=torch.long, device=device)\n",
        "            y_pred, hidden = model(x, hidden)\n",
        "            last_word_logits = y_pred[0][-1]\n",
        "            p = F.softmax(last_word_logits / temperature, dim=0).cpu().numpy()\n",
        "            word_index = np.random.choice(len(last_word_logits), p=p)\n",
        "            words.append(vocab.lookup_token(word_index))\n",
        "\n",
        "    return ' '.join(words)"
      ],
      "metadata": {
        "id": "H4fata_-MIT9"
      },
      "id": "H4fata_-MIT9",
      "execution_count": null,
      "outputs": []
    },
    {
      "cell_type": "markdown",
      "source": [
        "Finally code prints the result of generating text using the generate_text function with a pre-trained model. Here's a summary:\n",
        "\n",
        "- Generate Text:\n",
        "\n",
        "  - `generate_text(model, start_text=\"I like\", num_words=100)`: Calls the `generate_text` function with the following parameters:\n",
        "  - `model`: The pre-trained LSTM model.\n",
        "  - `start_text=\"I like\"`: The starting text for text generation.\n",
        "  - `num_words=100`: The desired number of words to generate.\n",
        "\n",
        "- Print the Generated Text:\n",
        "  - `print(...)`: Prints the result of the text generation."
      ],
      "metadata": {
        "id": "FU7s-E_iH7VR"
      },
      "id": "FU7s-E_iH7VR"
    },
    {
      "cell_type": "code",
      "execution_count": null,
      "id": "d2884543",
      "metadata": {
        "id": "d2884543",
        "outputId": "85bc3682-4db1-4c82-f6a1-20dd53c91723",
        "colab": {
          "base_uri": "https://localhost:8080/"
        }
      },
      "outputs": [
        {
          "output_type": "stream",
          "name": "stdout",
          "text": [
            "i like a lot about the music we show gotten verses laugh and working on mainstream , right to the contrary . by an appearance of his time praised traits of differences , the characters are , this understanding romantic fundamentalist shaolin fictional <unk> . while staying in full producers worldwide , the book continued to townsend ' s promotional websites for hollywood about eight years . he is built by examining the second producer , highly varied behind all @-@ dose film , and promote <unk> of tv @-@ general today . richard <unk> of <unk> played <unk> mary as <unk>\n"
          ]
        }
      ],
      "source": [
        "# Generate some text\n",
        "print(generate_text(model, start_text=\"I like\", num_words=100))"
      ]
    }
  ],
  "metadata": {
    "kernelspec": {
      "display_name": "Python 3",
      "name": "python3"
    },
    "language_info": {
      "codemirror_mode": {
        "name": "ipython",
        "version": 3
      },
      "file_extension": ".py",
      "mimetype": "text/x-python",
      "name": "python",
      "nbconvert_exporter": "python",
      "pygments_lexer": "ipython3",
      "version": "3.10.10"
    },
    "varInspector": {
      "cols": {
        "lenName": 16,
        "lenType": 16,
        "lenVar": 40
      },
      "kernels_config": {
        "python": {
          "delete_cmd_postfix": "",
          "delete_cmd_prefix": "del ",
          "library": "var_list.py",
          "varRefreshCmd": "print(var_dic_list())"
        },
        "r": {
          "delete_cmd_postfix": ") ",
          "delete_cmd_prefix": "rm(",
          "library": "var_list.r",
          "varRefreshCmd": "cat(var_dic_list()) "
        }
      },
      "types_to_exclude": [
        "module",
        "function",
        "builtin_function_or_method",
        "instance",
        "_Feature"
      ],
      "window_display": false
    },
    "colab": {
      "provenance": [],
      "gpuType": "T4",
      "include_colab_link": true
    },
    "accelerator": "GPU"
  },
  "nbformat": 4,
  "nbformat_minor": 5
}