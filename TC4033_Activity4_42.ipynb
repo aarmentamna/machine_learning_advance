{
  "cells": [
    {
      "cell_type": "markdown",
      "metadata": {
        "id": "view-in-github",
        "colab_type": "text"
      },
      "source": [
        "<a href=\"https://colab.research.google.com/github/aarmentamna/machine_learning_advance/blob/main/TC4033_Activity4_42.ipynb\" target=\"_parent\"><img src=\"https://colab.research.google.com/assets/colab-badge.svg\" alt=\"Open In Colab\"/></a>"
      ]
    },
    {
      "cell_type": "markdown",
      "metadata": {
        "id": "uFYXOadkCwN2"
      },
      "source": [
        "## **Maestría en Inteligencia Artificial Aplicada**\n",
        "### **Curso: ADVANCED MACHINE LEARNING METHODS**\n",
        "## Tecnológico de Monterrey\n",
        "### Dr. José Antonio Cantoral Ceballos\n",
        "\n",
        "## Activity Week 9\n",
        "### **Text Generator.**\n",
        "\n",
        "*TEAM MEMBERS:*\n",
        "\n",
        "*   Roberto Romero Vielma - A00822314\n",
        "*   José Javier Granados Hernández - A00556717\n",
        "*   Aquiles Yonatan Armenta Hernandez - A01793252\n",
        "*   Alan Avelino Fernández Juárez - A00989308"
      ],
      "id": "uFYXOadkCwN2"
    },
    {
      "cell_type": "markdown",
      "id": "037e89c8",
      "metadata": {
        "id": "037e89c8"
      },
      "source": [
        "## TC 5033\n",
        "### Text Generation\n",
        "\n",
        "<br>\n",
        "\n",
        "#### Activity 4: Building a Simple LSTM Text Generator using WikiText-2\n",
        "<br>\n",
        "\n",
        "- Objective:\n",
        "    - Gain a fundamental understanding of Long Short-Term Memory (LSTM) networks.\n",
        "    - Develop hands-on experience with sequence data processing and text generation in PyTorch. Given the simplicity of the model, amount of data, and computer resources, the text you generate will not replace ChatGPT, and results must likely will not make a lot of sense. Its only purpose is academic and to understand the text generation using RNNs.\n",
        "    - Enhance code comprehension and documentation skills by commenting on provided starter code.\n",
        "    \n",
        "<br>\n",
        "\n",
        "- Instructions:\n",
        "    - Code Understanding: Begin by thoroughly reading and understanding the code. Comment each section/block of the provided code to demonstrate your understanding. For this, you are encouraged to add cells with experiments to improve your understanding\n",
        "\n",
        "    - Model Overview: The starter code includes an LSTM model setup for sequence data processing. Familiarize yourself with the model architecture and its components. Once you are familiar with the provided model, feel free to change the model to experiment.\n",
        "\n",
        "    - Training Function: Implement a function to train the LSTM model on the WikiText-2 dataset. This function should feed the training data into the model and perform backpropagation.\n",
        "\n",
        "    - Text Generation Function: Create a function that accepts starting text (seed text) and a specified total number of words to generate. The function should use the trained model to generate a continuation of the input text.\n",
        "\n",
        "    - Code Commenting: Ensure that all the provided starter code is well-commented. Explain the purpose and functionality of each section, indicating your understanding.\n",
        "\n",
        "    - Submission: Submit your Jupyter Notebook with all sections completed and commented. Include a markdown cell with the full names of all contributing team members at the beginning of the notebook.\n",
        "    \n",
        "<br>\n",
        "\n",
        "- Evaluation Criteria:\n",
        "    - Code Commenting (60%): The clarity, accuracy, and thoroughness of comments explaining the provided code. You are suggested to use markdown cells for your explanations.\n",
        "\n",
        "    - Training Function Implementation (20%): The correct implementation of the training function, which should effectively train the model.\n",
        "\n",
        "    - Text Generation Functionality (10%): A working function is provided in comments. You are free to use it as long as you make sure to uderstand it, you may as well improve it as you see fit. The minimum expected is to provide comments for the given function.\n",
        "\n",
        "    - Conclusions (10%): Provide some final remarks specifying the differences you notice between this model and the one used  for classification tasks. Also comment on changes you made to the model, hyperparameters, and any other information you consider relevant. Also, please provide 3 examples of generated texts.\n",
        "\n"
      ]
    },
    {
      "cell_type": "markdown",
      "source": [
        "##Install mising libraries\n",
        "\n",
        "To run the code successfully, you need to install the PyTorch, torchtext and portalocker libraries. The following code uses pip to install these libraries:"
      ],
      "metadata": {
        "id": "3ypC8MQo7kuR"
      },
      "id": "3ypC8MQo7kuR"
    },
    {
      "cell_type": "code",
      "execution_count": 1,
      "metadata": {
        "id": "zBBbIoHGCwN6",
        "outputId": "e1ccd80c-d0a7-4166-b22d-3ee14d650b94",
        "colab": {
          "base_uri": "https://localhost:8080/"
        }
      },
      "outputs": [
        {
          "output_type": "stream",
          "name": "stdout",
          "text": [
            "Requirement already satisfied: torch in /usr/local/lib/python3.10/dist-packages (2.1.0+cu118)\n",
            "Requirement already satisfied: filelock in /usr/local/lib/python3.10/dist-packages (from torch) (3.13.1)\n",
            "Requirement already satisfied: typing-extensions in /usr/local/lib/python3.10/dist-packages (from torch) (4.5.0)\n",
            "Requirement already satisfied: sympy in /usr/local/lib/python3.10/dist-packages (from torch) (1.12)\n",
            "Requirement already satisfied: networkx in /usr/local/lib/python3.10/dist-packages (from torch) (3.2.1)\n",
            "Requirement already satisfied: jinja2 in /usr/local/lib/python3.10/dist-packages (from torch) (3.1.2)\n",
            "Requirement already satisfied: fsspec in /usr/local/lib/python3.10/dist-packages (from torch) (2023.6.0)\n",
            "Requirement already satisfied: triton==2.1.0 in /usr/local/lib/python3.10/dist-packages (from torch) (2.1.0)\n",
            "Requirement already satisfied: MarkupSafe>=2.0 in /usr/local/lib/python3.10/dist-packages (from jinja2->torch) (2.1.3)\n",
            "Requirement already satisfied: mpmath>=0.19 in /usr/local/lib/python3.10/dist-packages (from sympy->torch) (1.3.0)\n",
            "Requirement already satisfied: torchtext in /usr/local/lib/python3.10/dist-packages (0.16.0)\n",
            "Requirement already satisfied: tqdm in /usr/local/lib/python3.10/dist-packages (from torchtext) (4.66.1)\n",
            "Requirement already satisfied: requests in /usr/local/lib/python3.10/dist-packages (from torchtext) (2.31.0)\n",
            "Requirement already satisfied: torch==2.1.0 in /usr/local/lib/python3.10/dist-packages (from torchtext) (2.1.0+cu118)\n",
            "Requirement already satisfied: numpy in /usr/local/lib/python3.10/dist-packages (from torchtext) (1.23.5)\n",
            "Requirement already satisfied: torchdata==0.7.0 in /usr/local/lib/python3.10/dist-packages (from torchtext) (0.7.0)\n",
            "Requirement already satisfied: filelock in /usr/local/lib/python3.10/dist-packages (from torch==2.1.0->torchtext) (3.13.1)\n",
            "Requirement already satisfied: typing-extensions in /usr/local/lib/python3.10/dist-packages (from torch==2.1.0->torchtext) (4.5.0)\n",
            "Requirement already satisfied: sympy in /usr/local/lib/python3.10/dist-packages (from torch==2.1.0->torchtext) (1.12)\n",
            "Requirement already satisfied: networkx in /usr/local/lib/python3.10/dist-packages (from torch==2.1.0->torchtext) (3.2.1)\n",
            "Requirement already satisfied: jinja2 in /usr/local/lib/python3.10/dist-packages (from torch==2.1.0->torchtext) (3.1.2)\n",
            "Requirement already satisfied: fsspec in /usr/local/lib/python3.10/dist-packages (from torch==2.1.0->torchtext) (2023.6.0)\n",
            "Requirement already satisfied: triton==2.1.0 in /usr/local/lib/python3.10/dist-packages (from torch==2.1.0->torchtext) (2.1.0)\n",
            "Requirement already satisfied: urllib3>=1.25 in /usr/local/lib/python3.10/dist-packages (from torchdata==0.7.0->torchtext) (2.0.7)\n",
            "Requirement already satisfied: charset-normalizer<4,>=2 in /usr/local/lib/python3.10/dist-packages (from requests->torchtext) (3.3.2)\n",
            "Requirement already satisfied: idna<4,>=2.5 in /usr/local/lib/python3.10/dist-packages (from requests->torchtext) (3.4)\n",
            "Requirement already satisfied: certifi>=2017.4.17 in /usr/local/lib/python3.10/dist-packages (from requests->torchtext) (2023.7.22)\n",
            "Requirement already satisfied: MarkupSafe>=2.0 in /usr/local/lib/python3.10/dist-packages (from jinja2->torch==2.1.0->torchtext) (2.1.3)\n",
            "Requirement already satisfied: mpmath>=0.19 in /usr/local/lib/python3.10/dist-packages (from sympy->torch==2.1.0->torchtext) (1.3.0)\n"
          ]
        }
      ],
      "source": [
        "# Install the torch library\n",
        "!pip install torch\n",
        "\n",
        "# Install the torchtext library\n",
        "!pip install torchtext\n",
        "\n",
        "# Install portalocker with version greater than or equal to 2.0.0\n",
        "!pip install portalocker>=2.0.0"
      ],
      "id": "zBBbIoHGCwN6"
    },
    {
      "cell_type": "code",
      "execution_count": 2,
      "id": "3eb4b117",
      "metadata": {
        "id": "3eb4b117"
      },
      "outputs": [],
      "source": [
        "# Import torch\n",
        "# torch: A deep learning library for creating and training neural networks.\n",
        "import torch\n",
        "\n",
        "# Import torchtext\n",
        "# torchtext: A library for text processing, including dataset loading and tokenization utilities.\n",
        "import torchtext\n",
        "\n",
        "# Import specific classes/modules from torchtext\n",
        "# WikiText2: Dataset class for loading the WikiText-2 dataset.\n",
        "from torchtext.datasets import WikiText2\n",
        "\n",
        "# Import DataLoader, TensorDataset, and random_split from torch.utils.data\n",
        "# DataLoader: Iterable over a dataset, allowing batch loading of data.\n",
        "# TensorDataset: Dataset wrapping tensors, useful for creating input-output pairs.\n",
        "# random_split: Splits a dataset into random train and validation subsets.\n",
        "from torch.utils.data import DataLoader, TensorDataset\n",
        "from torch.utils.data.dataset import random_split\n",
        "\n",
        "# Import get_tokenizer from torchtext.data.utils\n",
        "# get_tokenizer: Function to get a tokenizer for text processing.\n",
        "from torchtext.data.utils import get_tokenizer\n",
        "\n",
        "# Import build_vocab_from_iterator from torchtext.vocab\n",
        "# build_vocab_from_iterator: Function for building a vocabulary from an iterator of tokenized texts.\n",
        "from torchtext.vocab import build_vocab_from_iterator\n",
        "\n",
        "# Import to_map_style_dataset from torchtext.data.functional\n",
        "# to_map_style_dataset: Function for converting a dataset to the map-style dataset.\n",
        "from torchtext.data.functional import to_map_style_dataset\n",
        "\n",
        "# Import nn and F (functional) from torch\n",
        "# nn (neural network): Basic building blocks for creating and training neural networks.\n",
        "# F (functional): Contains functions that operate on tensors and are used in building neural network layers.\n",
        "from torch import nn\n",
        "from torch.nn import functional as F\n",
        "\n",
        "# Import optim from torch\n",
        "# optim: Contains various optimization algorithms such as SGD, Adam, etc., for training neural networks.\n",
        "import torch.optim as optim\n",
        "\n",
        "# Import tqdm\n",
        "# tqdm: A library for creating progress bars to visualize the progress of loops or computations.\n",
        "from tqdm import tqdm\n",
        "\n",
        "# Import numpy as np\n",
        "# np (numpy): A powerful library for numerical operations in Python, providing support for large, multi-dimensional arrays and matrices.\n",
        "import numpy as np\n",
        "\n",
        "# Import random\n",
        "# random: Module for generating random numbers and performing random operations.\n",
        "import random"
      ]
    },
    {
      "cell_type": "markdown",
      "source": [
        "This code imports various libraries and modules related to PyTorch, data handling, and neural networks. Here's a summary of the imported libraries:\n",
        "\n",
        "1. PyTorch Libraries:\n",
        "  - import torch: Core PyTorch library.\n",
        "  - import torchtext: Library for text processing with PyTorch.\n",
        "  - from torchtext.datasets import WikiText2: Importing the WikiText2 dataset from the torchtext.datasets module.\n",
        "\n",
        "2. Dataloader Library:\n",
        "  - from torch.utils.data import DataLoader, TensorDataset: Importing DataLoader and TensorDataset classes for efficient data loading.\n",
        "\n",
        "3. Libraries to Prepare the Data:\n",
        "  - from torchtext.data.utils import get_tokenizer: Importing a tokenizer for text processing.\n",
        "  - from torchtext.vocab import build_vocab_from_iterator: Importing a function to build vocabulary from iterators.\n",
        "  - from torchtext.data.functional import to_map_style_dataset: Importing a function to convert a dataset to a map-style dataset.\n",
        "\n",
        "4. Neural Layers:\n",
        "  - from torch import nn: Importing the neural network module from PyTorch.\n",
        "  - from torch.nn import functional as F: Importing the functional module from PyTorch, often used for activation functions.\n",
        "  - import torch.optim as optim: Importing the PyTorch module for optimization algorithms.\n",
        "\n",
        "5. Other Utilities:\n",
        "  - from tqdm import tqdm: Importing the tqdm library for creating progress bars during iterations.\n",
        "  - import numpy as np: Importing NumPy for numerical operations.\n",
        "  - import random: Importing the random module for generating random numbers."
      ],
      "metadata": {
        "id": "vjDhjjHJ7pic"
      },
      "id": "vjDhjjHJ7pic"
    },
    {
      "cell_type": "markdown",
      "source": [
        "##Define M1 Mac GPU Speed or CUDA if available\n",
        "\n",
        "This code checks for the availability of CUDA-enabled GPU (Graphics Processing Unit) for PyTorch and sets the device accordingly. Here's a step-by-step explanation of the code:\n",
        "\n",
        "1. It uses `torch.cuda.is_available()` to check if a CUDA-enabled GPU is available.\n",
        "\n",
        "2. If a GPU is available (torch.cuda.is_available() returns True), it sets the device to 'cuda' using torch.device('cuda').\n",
        "\n",
        "3. If a GPU is not available, it attempts to set the device to 'mps' (Multi-Process Service), which is a feature provided by some CUDA-enabled GPUs for improved multi-GPU performance. This is done inside a try-except block, which means if 'mps' is not supported or available, it will fall back to using the CPU.\n",
        "\n",
        "4. If neither 'cuda' nor 'mps' is available, it sets the device to 'cpu' using torch.device('cpu').\n",
        "\n",
        "5. Finally, it prints the selected device to the console, indicating whether it's 'cuda' (GPU), 'mps', or 'cpu'."
      ],
      "metadata": {
        "id": "K4x5i37ezl69"
      },
      "id": "K4x5i37ezl69"
    },
    {
      "cell_type": "code",
      "execution_count": 3,
      "id": "6d8ff971",
      "metadata": {
        "id": "6d8ff971",
        "outputId": "70da026b-0ad9-4ae7-d5c8-6fcf26b910cf",
        "colab": {
          "base_uri": "https://localhost:8080/"
        }
      },
      "outputs": [
        {
          "output_type": "stream",
          "name": "stdout",
          "text": [
            "cuda\n"
          ]
        }
      ],
      "source": [
        "# Check if CUDA (GPU) is available\n",
        "if torch.cuda.is_available():\n",
        "    # If CUDA is available, set the device to CUDA\n",
        "    device = torch.device('cuda')\n",
        "else:\n",
        "    try:\n",
        "        # If CUDA is not available, try using MPS (Multi-Process Service)\n",
        "        device = torch.device('mps')\n",
        "    except:\n",
        "        # If both CUDA and MPS are not available, fall back to CPU\n",
        "        device = torch.device('cpu')\n",
        "\n",
        "# Print the selected device\n",
        "print(device)"
      ]
    },
    {
      "cell_type": "markdown",
      "source": [
        "Next line of code is loading the WikiText2 dataset and assigning it to three variables: train_dataset, val_dataset, and test_dataset. Here's a step-by-step explanation of the code:\n",
        "\n",
        "1. Dataset Loading: The `WikiText2()` function is used to load the WikiText2 dataset. This dataset is commonly used in natural language processing tasks, particularly for language modeling.\n",
        "\n",
        "2. Data Splitting: The WikiText2 dataset is split into three subsets:\n",
        "  - `train_dataset`: This subset is typically used for training a machine learning model. It contains examples that the model will learn from.\n",
        "  - `val_dataset`: This subset is used for validation during the training process. It helps monitor the model's performance on data it has not seen during training and can be used for hyperparameter tuning.\n",
        "  - `test_dataset`: This subset is reserved for evaluating the final performance of the trained model. It is used to assess how well the model generalizes to new, unseen data.\n",
        "\n",
        "3. Variable Assignment: The three datasets (train, validation, and test) are assigned to the variables train_dataset, val_dataset, and test_dataset, respectively."
      ],
      "metadata": {
        "id": "xxEpuLit8b-N"
      },
      "id": "xxEpuLit8b-N"
    },
    {
      "cell_type": "code",
      "execution_count": 4,
      "id": "f3288ce5",
      "metadata": {
        "id": "f3288ce5"
      },
      "outputs": [],
      "source": [
        "# Load WikiText2 dataset and split it into training, validation, and test sets\n",
        "train_dataset, val_dataset, test_dataset = WikiText2()"
      ]
    },
    {
      "cell_type": "markdown",
      "source": [
        "Next code is defining a tokenization process using the get_tokenizer function from the torchtext.data.utils module. Here's a step-by-step explanation of the code:\n",
        "\n",
        "1. Tokenization Setup:\n",
        "\n",
        "  - `tokeniser = get_tokenizer('basic_english')`: This line sets up a tokenizer named tokeniser using the 'basic_english' preset provided by get_tokenizer. This particular tokenizer is designed for basic English text processing.\n",
        "\n",
        "2. Tokenization Function:\n",
        "\n",
        "  - `def yield_tokens(data):`: This line defines a function named yield_tokens that takes a dataset (data) as input.\n",
        "  - `for text in data:`: It iterates over each text in the dataset.\n",
        "  - `yield tokeniser(text)`: For each text, it uses the tokeniser to tokenize the text and yields the resulting tokens. The yield keyword is used here to create a generator function, allowing tokens to be generated one at a time rather than storing all tokens in memory at once."
      ],
      "metadata": {
        "id": "mgRvueW68xBR"
      },
      "id": "mgRvueW68xBR"
    },
    {
      "cell_type": "code",
      "execution_count": 5,
      "id": "fc4c7dbd",
      "metadata": {
        "id": "fc4c7dbd"
      },
      "outputs": [],
      "source": [
        "# Define a tokenizer using the 'basic_english' tokenization method from torchtext\n",
        "tokeniser = get_tokenizer('basic_english')\n",
        "\n",
        "# Define a function that yields tokens for a given dataset\n",
        "def yield_tokens(data):\n",
        "    # Iterate through each text in the dataset\n",
        "    for text in data:\n",
        "        # Tokenize the text using the defined tokenizer\n",
        "        yield tokeniser(text)"
      ]
    },
    {
      "cell_type": "markdown",
      "source": [
        "Next code is focused on building a vocabulary from a training dataset for natural language processing tasks. Here's a step-by-step explanation of the code:\n",
        "\n",
        "1. Build Vocabulary:\n",
        "  - `vocab = build_vocab_from_iterator(yield_tokens(train_dataset), specials=[\"<unk>\", \"<pad>\", \"<bos>\", \"<eos>\"])`:\n",
        "    - `yield_tokens(train_dataset)`: This generates tokens from the training dataset using the yield_tokens function. It is passed as an iterator to build_vocab_from_iterator.\n",
        "    - `specials=[\"<unk>\", \"<pad>\", \"<bos>\", \"<eos>\"]`: These are special tokens that are added to the vocabulary. For example, `<unk>` represents unknown words, `<pad>` represents padding, `<bos>` is the beginning-of-sequence token, and `<eos>` is the end-of-sequence token.\n",
        "    - `vocab = ...`: The result is a vocabulary (`vocab`) constructed from the tokens in the training dataset.\n",
        "\n",
        "2. Set Default Index for Unknown Tokens:\n",
        "  - `vocab.set_default_index(vocab[\"<unk>\"])`:\n",
        "    -  `vocab[\"<unk>\"]`: Retrieves the index of the `<unk>` (unknown) token in the vocabulary.\n",
        "    - `vocab.set_default_index(...)`: Sets the default index of the vocabulary to the index of the `<unk>` token. This means that if an out-of-vocabulary word is encountered during later processing, it will be represented by the index of the `<unk>` token.\n",
        "\n"
      ],
      "metadata": {
        "id": "wTieXgEq-SzA"
      },
      "id": "wTieXgEq-SzA"
    },
    {
      "cell_type": "code",
      "execution_count": 6,
      "id": "2c2cb068",
      "metadata": {
        "id": "2c2cb068"
      },
      "outputs": [],
      "source": [
        "# Build the vocabulary from the tokenized training dataset\n",
        "# yield_tokens(train_dataset): Tokenize the training dataset using the previously defined tokenizer\n",
        "# specials=[\"<unk>\", \"<pad>\", \"<bos>\", \"<eos>\"]: Define special tokens for unknown, padding, beginning of sequence, and end of sequence\n",
        "vocab = build_vocab_from_iterator(yield_tokens(train_dataset), specials=[\"<unk>\", \"<pad>\", \"<bos>\", \"<eos>\"])\n",
        "\n",
        "# Set the default index for the vocabulary to the index of the unknown token (\"<unk>\")\n",
        "vocab.set_default_index(vocab[\"<unk>\"])"
      ]
    },
    {
      "cell_type": "markdown",
      "source": [
        "Next code is part of the data processing pipeline for preparing sequences of text data for training a model. Here's a step-by-step explanation of the code:\n",
        "\n",
        "1. Set Sequence Length:\n",
        "  - `seq_length = 50`: This line defines the sequence length, indicating the number of tokens in each sequence. In this case, it is set to 50.\n",
        "\n",
        "2. Data Processing Function:\n",
        "  - `def data_process(raw_text_iter, seq_length=50)`: This function takes an iterator (`raw_text_iter`) containing raw text data and an optional parameter for the sequence length.\n",
        "  - `data = [torch.tensor(vocab(tokeniser(item)), dtype=torch.long) for item in raw_text_iter]`: It tokenizes each item in the raw text iterator using the `vocab` and `tokeniser` functions, then converts the resulting tokens into PyTorch tensors of type `long`.\n",
        "  - `data = torch.cat(tuple(filter(lambda t: t.numel() > 0, data)))`: It concatenates the tensors into a single tensor along the first dimension (using `torch.cat`). The `filter` function is used to remove any empty tensors.\n",
        "  - The function returns a tuple containing two tensors:\n",
        "    - `data[:-(data.size(0) % seq_length)].view(-1, seq_length)`: This tensor represents the input data. It is reshaped into sequences of length `seq_length`. The part before the last sequence that doesn't fit evenly into s`eq_length` is discarded.\n",
        "    - `data[1:-(data.size(0) % seq_length - 1)].view(-1, seq_length)`: This tensor represents the target data, shifted by one position compared to the input data. It is also reshaped into sequences of length `seq_length`.\n",
        "\n",
        "4. Create Tensors for Training, Validation, and Test Sets:\n",
        "  - `x_train, y_train = data_process(train_dataset, seq_length)`: Calls the `data_process` function on the training dataset, generating input (`x_train`) and target (`y_train`) tensors.\n",
        "  - Similar lines create tensors for the validation (`x_val, y_val`) and test (`x_test, y_test`) datasets."
      ],
      "metadata": {
        "id": "6emV5kpDAMnt"
      },
      "id": "6emV5kpDAMnt"
    },
    {
      "cell_type": "code",
      "execution_count": 7,
      "id": "134b832b",
      "metadata": {
        "id": "134b832b"
      },
      "outputs": [],
      "source": [
        "# Define the sequence length\n",
        "seq_length = 50\n",
        "\n",
        "# Define a function for data processing\n",
        "def data_process(raw_text_iter, seq_length=50):\n",
        "    # Tokenize each item in the raw text iterator using the vocabulary and convert them to torch tensors\n",
        "    data = [torch.tensor(vocab(tokeniser(item)), dtype=torch.long) for item in raw_text_iter]\n",
        "\n",
        "    # Concatenate non-empty tensors and remove empty tensors\n",
        "    data = torch.cat(tuple(filter(lambda t: t.numel() > 0, data)))\n",
        "\n",
        "    # Remove the remainder to ensure even sequence lengths and reshape the tensors\n",
        "    return (\n",
        "        data[:-(data.size(0) % seq_length)].view(-1, seq_length),\n",
        "        data[1:-(data.size(0) % seq_length - 1)].view(-1, seq_length)\n",
        "    )\n",
        "\n",
        "# Process the training dataset to create tensors\n",
        "x_train, y_train = data_process(train_dataset, seq_length)\n",
        "\n",
        "# Process the validation dataset to create tensors\n",
        "x_val, y_val = data_process(val_dataset, seq_length)\n",
        "\n",
        "# Process the test dataset to create tensors\n",
        "x_test, y_test = data_process(test_dataset, seq_length)"
      ]
    },
    {
      "cell_type": "markdown",
      "source": [
        "Next code is creating PyTorch TensorDataset instances for the training, validation, and test sets. Here's a summary:\n",
        "\n",
        "- Create TensorDataset Instances:\n",
        "  - `train_dataset = TensorDataset(x_train, y_train)`: This line creates a `TensorDataset` instance for the training set. It takes two tensors (`x_train` and `y_train`) representing input and target sequences, respectively.\n",
        "  - `val_dataset = TensorDataset(x_val, y_val)`: Similarly, a `TensorDataset` instance is created for the validation set.\n",
        "  - `test_dataset = TensorDataset(x_test, y_test)`: Likewise, a `TensorDataset` instance is created for the test set."
      ],
      "metadata": {
        "id": "0RqaKrJBBjel"
      },
      "id": "0RqaKrJBBjel"
    },
    {
      "cell_type": "code",
      "execution_count": 8,
      "id": "4b54c04d",
      "metadata": {
        "id": "4b54c04d"
      },
      "outputs": [],
      "source": [
        "# Create a PyTorch TensorDataset for the training set\n",
        "train_dataset = TensorDataset(x_train, y_train)\n",
        "\n",
        "# Create a PyTorch TensorDataset for the validation set\n",
        "val_dataset = TensorDataset(x_val, y_val)\n",
        "\n",
        "# Create a PyTorch TensorDataset for the test set\n",
        "test_dataset = TensorDataset(x_test, y_test)"
      ]
    },
    {
      "cell_type": "markdown",
      "source": [
        "Next code sets up PyTorch DataLoader instances for the training, validation, and test sets, enabling efficient loading of data in batches during model training and evaluation. Here's a summary:\n",
        "\n",
        "1. Define Batch Size:\n",
        "   - `batch_size = 64`: This line sets the batch size, which is the number of samples processed in one iteration during training.\n",
        "\n",
        "2. Create `DataLoader` Instances:\n",
        "  - `train_loader = DataLoader(train_dataset, batch_size=batch_size, shuffle=True, drop_last=True)`: This line creates a `DataLoader` for the training set (`train_dataset`). It specifies the batch size, enables shuffling of the data before each epoch (`huffle=True`), and drops the last incomplete batch if the dataset size is not divisible by the batch size (`drop_last=True`).\n",
        "  - `val_loader = DataLoader(val_dataset, batch_size=batch_size, shuffle=True, drop_last=True)`: Similarly, a `DataLoader` is created for the validation set (`val_dataset`).\n",
        "  - `test_loader = DataLoader(test_dataset, batch_size=batch_size, shuffle=True, drop_last=True)`: Likewise, a `DataLoader` is created for the test set (`test_dataset`)."
      ],
      "metadata": {
        "id": "0ckQvpKmCAyF"
      },
      "id": "0ckQvpKmCAyF"
    },
    {
      "cell_type": "code",
      "execution_count": 9,
      "id": "f4d400fb",
      "metadata": {
        "id": "f4d400fb"
      },
      "outputs": [],
      "source": [
        "# Define the batch size\n",
        "batch_size = 64\n",
        "\n",
        "# Create a DataLoader for the training set\n",
        "# DataLoader: Provides an iterable over a dataset, allowing batch loading of data.\n",
        "# batch_size: Number of samples per batch to load.\n",
        "# shuffle: Set to True to have the data reshuffled at every epoch.\n",
        "# drop_last: Set to True to drop the last incomplete batch if the dataset size is not divisible by the batch size.\n",
        "train_loader = DataLoader(train_dataset, batch_size=batch_size, shuffle=True, drop_last=True)\n",
        "\n",
        "# Create a DataLoader for the validation set\n",
        "val_loader = DataLoader(val_dataset, batch_size=batch_size, shuffle=True, drop_last=True)\n",
        "\n",
        "# Create a DataLoader for the test set\n",
        "test_loader = DataLoader(test_dataset, batch_size=batch_size, shuffle=True, drop_last=True)"
      ]
    },
    {
      "cell_type": "markdown",
      "source": [
        "Next code defines an LSTM (Long Short-Term Memory) model using PyTorch's nn.Module interface. Here's a step-by-step summary:\n",
        "\n",
        "1. Define the LSTM Model Class:\n",
        "  - `class LSTMModel(nn.Module):`: Defines a new class `LSTMModel` that inherits from `nn.Module`, indicating that it is a PyTorch model.\n",
        "  - `def __init__(self, vocab_size, embed_size, hidden_size, num_layers):`: Initializes the model with specified hyperparameters.\n",
        "    - `self.embeddings = nn.Embedding(vocab_size, embed_size)`: Defines an embedding layer with vocabulary size `vocab_size` and embedding size `embed_size`.\n",
        "    - `self.hidden_size = hidden_size`: Stores the hidden size as an attribute.\n",
        "    - `self.num_layers = num_layers`: Stores the number of LSTM layers as an attribute.\n",
        "    - `self.lstm = nn.LSTM(embed_size, hidden_size, num_layers, batch_first=True)`: Defines an LSTM layer with input size `embed_size`, hidden size `hidden_size`, `num_layers` LSTM layers, and `batch_first=True` indicating that the input and output tensors are provided as (batch, seq, feature).\n",
        "    - `self.fc = nn.Linear(hidden_size, vocab_size)`: Defines a fully connected layer with input size `hidden_size` and output size `vocab_size`, mapping LSTM output to vocabulary size.\n",
        "\n",
        "  - `def forward(self, text, hidden):`: Defines the forward pass of the model.\n",
        "    - `embeddings = self.embeddings(text)`: Applies the embedding layer to the input text.\n",
        "    - `output, hidden = self.lstm(embeddings, hidden)`: Applies the LSTM layer to the embeddings, producing output and hidden states.\n",
        "    - `decoded = self.fc(output)`: Applies the fully connected layer to the LSTM output.\n",
        "    - `return decoded, hidden`: Returns the decoded output and the hidden state.\n",
        "\n",
        "  - `def init_hidden(self, batch_size):`: Initializes the hidden state of the LSTM.\n",
        "    - `return (torch.zeros(self.num_layers, batch_size, self.hidden_size).to(device), torch.zeros(self.num_layers, batch_size, self.hidden_size).to(device))`: Returns a tuple containing two tensors of zeros, representing the initial hidden state and cell state of the LSTM.\n",
        "\n",
        "2. Set Model Hyperparameters:\n",
        "  - `vocab_size = len(vocab)`: Determines the vocabulary size based on the size of the vocabulary (`vocab`).\n",
        "  - `emb_size = 100`: Sets the embedding size to 100.\n",
        "  - `neurons = 128`: Sets the number of neurons (hidden size) to 128.\n",
        "  - `num_layers = 1`: Sets the number of LSTM layers to 1.\n",
        "\n",
        "3. Instantiate the Model:\n",
        "  - `model = LSTMModel(vocab_size, emb_size, neurons, num_layers)`: Creates an instance of the `LSTMModel` with the specified hyperparameters."
      ],
      "metadata": {
        "id": "YIMTWAEHCsjr"
      },
      "id": "YIMTWAEHCsjr"
    },
    {
      "cell_type": "code",
      "execution_count": 19,
      "id": "59c63b01",
      "metadata": {
        "id": "59c63b01"
      },
      "outputs": [],
      "source": [
        "# Define a custom LSTM model class\n",
        "class LSTMModel(nn.Module):\n",
        "    def __init__(self, vocab_size, embed_size, hidden_size, num_layers):\n",
        "        '''\n",
        "        Initialize the LSTMModel.\n",
        "\n",
        "        Parameters:\n",
        "            vocab_size (int): The size of the vocabulary.\n",
        "            embed_size (int): The size of the word embeddings.\n",
        "            hidden_size (int): The number of features in the hidden state of the LSTM.\n",
        "            num_layers (int): The number of LSTM layers.\n",
        "        '''\n",
        "        # Call the constructor of the parent class (nn.Module)\n",
        "        super(LSTMModel, self).__init__()\n",
        "\n",
        "        # Embedding layer: Converts token indices to dense vectors of fixed size\n",
        "        self.embeddings = nn.Embedding(vocab_size, embed_size)\n",
        "\n",
        "        # LSTM layer: Long Short-Term Memory network\n",
        "        self.lstm = nn.LSTM(embed_size, hidden_size, num_layers, batch_first=True)\n",
        "\n",
        "        # Fully connected layer: Linear transformation to output vocab_size predictions\n",
        "        self.fc = nn.Linear(hidden_size, vocab_size)\n",
        "\n",
        "        # Store hidden_size for initializing hidden state\n",
        "        self.hidden_size = hidden_size\n",
        "\n",
        "        # Store num_layers for controlling the LSTM layers\n",
        "        self.num_layers = num_layers\n",
        "\n",
        "    def forward(self, text, hidden):\n",
        "        # Embedding layer input\n",
        "        embeddings = self.embeddings(text)\n",
        "\n",
        "        # LSTM layer forward pass\n",
        "        output, hidden = self.lstm(embeddings, hidden)\n",
        "\n",
        "        # Fully connected layer for predictions\n",
        "        decoded = self.fc(output)\n",
        "\n",
        "        # Return the output and hidden state\n",
        "        return decoded, hidden\n",
        "\n",
        "    def init_hidden(self, batch_size):\n",
        "        # Return a tuple containing two tensors representing the initial hidden state for the LSTM.\n",
        "\n",
        "        # The first tensor (h) is the initial hidden state with dimensions (num_layers, batch_size, hidden_size).\n",
        "        # The second tensor is the initial cell state (c) with the same dimensions.\n",
        "\n",
        "        # Initialize both tensors with zeros and move them to the specified device (GPU or CPU).\n",
        "        return (\n",
        "    torch.zeros(self.num_layers, batch_size, self.hidden_size).to(device),\n",
        "    torch.zeros(self.num_layers, batch_size, self.hidden_size).to(device)\n",
        "        )\n",
        "\n",
        "# Set model hyperparameters\n",
        "vocab_size = len(vocab)  # Vocabulary size\n",
        "emb_size = 100  # Embedding size\n",
        "neurons = 128  # Number of neurons in the LSTM layer\n",
        "num_layers = 1  # Number of LSTM layers\n",
        "\n",
        "# Create an instance of the LSTMModel\n",
        "model = LSTMModel(vocab_size, emb_size, neurons, num_layers)\n"
      ]
    },
    {
      "cell_type": "markdown",
      "source": [
        "Next code defines a training function for a given model using PyTorch. Here's a step-by-step summary:\n",
        "\n",
        "1. Define the Training Function:\n",
        "  - `def train(model, epochs, optimizer, criterion):`: Defines a training function that takes a model, the number of epochs, an optimizer, and a loss criterion as inputs.\n",
        "\n",
        "2. Move Model to Device and Set to Train Mode:\n",
        "  - `model = model.to(device=device)`: Moves the model to the specified device (CPU or GPU).\n",
        "  - `model.train()`: Sets the model in training mode, enabling features like dropout.\n",
        "\n",
        "3. Training Loop Over Epochs:\n",
        "  - `for epoch in range(epochs):`: Iterates over the specified number of epochs.\n",
        "\n",
        "4. Initialize Metrics:\n",
        "  - `total_loss = 0.0`: Initializes the total loss for the epoch.\n",
        "  - `correct_predictions = 0`: Initializes the count of correct predictions.\n",
        "  - `total_samples = 0`: Initializes the total number of samples processed.\n",
        "\n",
        "5. Training Loop Over Batches:\n",
        "  - `for i, (data, targets) in enumerate(train_loader):`: Iterates over batches in the training data.\n",
        "  - `optimizer.zero_grad()`: Zeroes the gradients to prevent accumulation.\n",
        "\n",
        "6. Move Data to Device and Initialize Hidden State:\n",
        "  - `data, targets = data.to(device), targets.to(device)`: Moves the input data and targets to the specified device.\n",
        "  - `hidden = model.init_hidden(data.size(0))`: Initializes the hidden state for the LSTM model.\n",
        "\n",
        "7. Forward Pass:\n",
        "  - `outputs, hidden = model(data, hidden)`: Performs a forward pass through the model.\n",
        "\n",
        "8. Calculate Loss and Update Metrics:\n",
        "  - `loss = criterion(outputs.view(-1, len(vocab)), targets.view(-1))`: Calculates the loss using the specified criterion.\n",
        "  - `total_loss += loss.item()`: Accumulates the total loss for the epoch.\n",
        "  - `_, predicted = torch.max(outputs, 2)`: Obtains predictions by selecting the index with the maximum value along the third dimension.\n",
        "  - `correct_predictions += (predicted == targets).sum().item()`: Counts the number of correct predictions.\n",
        "  - `total_samples += targets.numel()`: Updates the total number of processed samples.\n",
        "\n",
        "9. Backward Pass and Optimization:\n",
        "  - `loss.backward()`: Performs a backward pass to compute gradients.\n",
        "  - `optimizer.step()`: Updates the model parameters using the optimizer.\n",
        "\n",
        "10. Compute Metrics for the Epoch and Print:\n",
        "  - `loss = total_loss / len(train_loader)`: Computes the average loss for the epoch.\n",
        "  - `accuracy = correct_predictions / total_samples`: Computes the accuracy for the epoch.\n",
        "  - `print(f'Epoch [{epoch + 1}/{epochs}], Loss: {loss:.4f}, Accuracy: {accuracy * 100:.2f}%')`: Prints the epoch, loss, and accuracy."
      ],
      "metadata": {
        "id": "6sU3PrJuE4Ev"
      },
      "id": "6sU3PrJuE4Ev"
    },
    {
      "cell_type": "code",
      "execution_count": 24,
      "id": "215eabb9",
      "metadata": {
        "id": "215eabb9"
      },
      "outputs": [],
      "source": [
        "# Training function for the LSTM model\n",
        "def train(model, epochs, optimizer, criterion):\n",
        "    # Move the model to the specified device (GPU or CPU)\n",
        "    model = model.to(device=device)\n",
        "\n",
        "    # Set the model to training mode\n",
        "    model.train()\n",
        "\n",
        "    # Iterate over the specified number of epochs\n",
        "    for epoch in range(epochs):\n",
        "        # Initialize total loss variable\n",
        "        total_loss = 0.0\n",
        "\n",
        "        # Initialize correct predictions variable\n",
        "        correct_predictions = 0\n",
        "\n",
        "        # Initialize total samples variable\n",
        "        total_samples = 0\n",
        "\n",
        "        # Iterate over the batches in the training loader\n",
        "        for i, (data, targets) in enumerate(train_loader):\n",
        "            # Zero the gradients to prevent accumulation from previous iterations\n",
        "            optimizer.zero_grad()\n",
        "\n",
        "            # Move the input data and targets to the specified device (GPU or CPU)\n",
        "            data, targets = data.to(device), targets.to(device)\n",
        "\n",
        "            # Initialize the hidden state for the LSTM\n",
        "            hidden = model.init_hidden(data.size(0))\n",
        "\n",
        "            # Forward pass: obtain model predictions and hidden states\n",
        "            outputs, hidden = model(data, hidden)\n",
        "\n",
        "            # Calculate the loss using the specified criterion\n",
        "            # The criterion is a measure of the difference between model predictions and actual targets\n",
        "            loss = criterion(outputs.view(-1, len(vocab)), targets.view(-1))\n",
        "            # Accumulate the loss item to the total loss variable\n",
        "            total_loss += loss.item()\n",
        "\n",
        "            # Extract the predicted labels with maximum probability along dimension 2\n",
        "            _, predicted = torch.max(outputs, 2)\n",
        "\n",
        "            # Update correct predictions count based on matching predictions with targets\n",
        "            correct_predictions += (predicted == targets).sum().item()\n",
        "\n",
        "            # Update total samples count by adding the number of elements in targets\n",
        "            total_samples += targets.numel()\n",
        "\n",
        "            # Backward pass: compute gradients\n",
        "            loss.backward()\n",
        "\n",
        "            # Optimizer step: update model parameters\n",
        "            optimizer.step()\n",
        "\n",
        "        # Calculate and print the average loss and accuracy for the current epoch\n",
        "        # The loss is averaged over all batches in the training set\n",
        "        loss = total_loss / len(train_loader)\n",
        "\n",
        "        # The accuracy is the ratio of correctly predicted samples to total samples\n",
        "        accuracy = correct_predictions / total_samples\n",
        "\n",
        "        # Print epoch, loss, and accuracy\n",
        "        print(f'Epoch [{epoch + 1}/{epochs}], Loss: {loss:.4f}, Accuracy: {accuracy * 100:.2f}%')\n"
      ]
    },
    {
      "cell_type": "markdown",
      "source": [
        "Next code is calling the train function to train a given model using the specified loss function, learning rate, and number of epochs. Here's a step-by-step summary:\n",
        "\n",
        "1. Define Loss Function:\n",
        "  - `loss_function = nn.CrossEntropyLoss()`: Creates an instance of the CrossEntropyLoss, which is commonly used for classification tasks.\n",
        "\n",
        "2. Set Learning Rate and Number of Epochs:\n",
        "  - `lr = 0.001`: Sets the learning rate for the Adam optimizer to 0.001.\n",
        "  - `epochs = 10:` Specifies the number of training epochs.\n",
        "\n",
        "3. Initialize Adam Optimizer:\n",
        "  - `optimiser = optim.Adam(model.parameters(), lr=lr)`: Creates an Adam optimizer for the model's parameters with the specified learning rate.\n",
        "\n",
        "4. Call the Training Function:\n",
        "  - `train(model, epochs, optimiser, loss_function)`: Calls the `train` function to train the model. It passes the model, number of epochs, optimizer, and loss function as arguments."
      ],
      "metadata": {
        "id": "_9jV8e0EGX1W"
      },
      "id": "_9jV8e0EGX1W"
    },
    {
      "cell_type": "code",
      "execution_count": 25,
      "id": "aa9c84ce",
      "metadata": {
        "id": "aa9c84ce",
        "outputId": "0ebf611a-02f0-4629-96b6-08d49bc7bd46",
        "colab": {
          "base_uri": "https://localhost:8080/"
        }
      },
      "outputs": [
        {
          "output_type": "stream",
          "name": "stdout",
          "text": [
            "Epoch [1/10], Loss: 5.3924, Accuracy: 21.35%\n",
            "Epoch [2/10], Loss: 5.2586, Accuracy: 21.82%\n",
            "Epoch [3/10], Loss: 5.1747, Accuracy: 22.25%\n",
            "Epoch [4/10], Loss: 5.1044, Accuracy: 22.62%\n",
            "Epoch [5/10], Loss: 5.0413, Accuracy: 23.00%\n",
            "Epoch [6/10], Loss: 4.9836, Accuracy: 23.34%\n",
            "Epoch [7/10], Loss: 4.9304, Accuracy: 23.66%\n",
            "Epoch [8/10], Loss: 4.8801, Accuracy: 23.95%\n",
            "Epoch [9/10], Loss: 4.8324, Accuracy: 24.23%\n",
            "Epoch [10/10], Loss: 4.7862, Accuracy: 24.52%\n"
          ]
        }
      ],
      "source": [
        "# Define the loss function\n",
        "loss_function = nn.CrossEntropyLoss()\n",
        "\n",
        "# Set the learning rate for the optimizer\n",
        "lr = 0.001\n",
        "\n",
        "# Set the number of training epochs\n",
        "epochs = 10\n",
        "\n",
        "# Initialize the optimizer (Adam) with the model parameters and specified learning rate\n",
        "optimizer = optim.Adam(model.parameters(), lr=lr)\n",
        "\n",
        "# Call the training function with the model, number of epochs, optimizer, and loss function\n",
        "train(model, epochs, optimizer, loss_function)"
      ]
    },
    {
      "cell_type": "markdown",
      "source": [
        "Next code defines a function for text generation using a trained model. Here's a step-by-step summary:\n",
        "\n",
        "1. Define Text Generation Function:\n",
        "  - `def generate_text(model, start_text, num_words, temperature=1.0):`: Defines a function for generating text given a trained model, a starting text sequence (`start_text`), and the number of words to generate (`num_words`). The optional parameter `temperature` controls the level of randomness in the generation.\n",
        "\n",
        "2. Set Model to Evaluation Mode:\n",
        "  - `model.eval()`: Sets the model to evaluation mode, indicating that no gradients need to be computed during generation.\n",
        "\n",
        "3. Tokenize the Starting Text and Initialize Hidden State:\n",
        "  - `words = tokeniser(start_text)`: Tokenizes the starting text using the provided tokenizer.\n",
        "  - `hidden = model.init_hidden(1)`: Initializes the hidden state for the LSTM model. The batch size is set to 1 for text generation.\n",
        "\n",
        "4. Generate Text Loop:\n",
        "  - `with torch.no_grad():`: Ensures that no gradients are calculated during the generation loop.\n",
        "  - `for _ in range(num_words):`: Iterates over the specified number of words to generate.\n",
        "\n",
        "5. Prepare Input for the Model:\n",
        "  - `x = torch.tensor([[vocab[word] for word in words[-seq_length:]]], dtype=torch.long, device=device)`: Creates a tensor representing the input sequence for the model. It includes the last `seq_length` words from the generated text.\n",
        "\n",
        "6. Forward Pass Through the Model:\n",
        "  - `y_pred, hidden = model(x, hidden)`: Performs a forward pass through the model to get predictions for the next word.\n",
        "\n",
        "7. Sample the Next Word:\n",
        "  - `last_word_logits = y_pred[0][-1]`: Extracts the logits for the last word in the sequence.\n",
        "  - `p = F.softmax(last_word_logits / temperature, dim=0).cpu().numpy()`: Applies a softmax function with temperature to the logits, creating a probability distribution.\n",
        "  - `word_index = np.random.choice(len(last_word_logits), p=p)`: Samples the next word index based on the probability distribution.\n",
        "\n",
        "8. Append the Predicted Word to the Sequence:\n",
        "  - `words.append(vocab.lookup_token(word_index))`: Appends the predicted word to the list of generated words.\n",
        "\n",
        "9. Return the Generated Text:\n",
        "  - `return ' '.join(words)`: Joins the generated words into a text string."
      ],
      "metadata": {
        "id": "TFbtdUDXHByQ"
      },
      "id": "TFbtdUDXHByQ"
    },
    {
      "cell_type": "code",
      "source": [
        "# Function to generate text using the trained LSTM model\n",
        "def generate_text(model, start_text, num_words, temperature=1.0):\n",
        "    '''\n",
        "    Generate text using the trained model.\n",
        "\n",
        "    Parameters:\n",
        "        model (LSTMModel): The trained LSTM model.\n",
        "        start_text (str): The starting text or seed.\n",
        "        num_words (int): The total number of words to generate.\n",
        "        temperature (float): Controls the randomness of the generated text.\n",
        "\n",
        "    Returns:\n",
        "        str: The generated text.\n",
        "    '''\n",
        "    # Set the model to evaluation mode\n",
        "    model.eval()\n",
        "\n",
        "    # Tokenize the starting text\n",
        "    words = tokeniser(start_text)\n",
        "\n",
        "    # Initialize the hidden state for the LSTM\n",
        "    hidden = model.init_hidden(1)\n",
        "\n",
        "    # Disable gradient computation for generation\n",
        "    with torch.no_grad():\n",
        "        # Generate the specified number of words\n",
        "        for _ in range(num_words):\n",
        "            # Prepare the input tensor for the model\n",
        "            x = torch.tensor([[vocab[word] for word in words[-seq_length:]]], dtype=torch.long, device=device)\n",
        "\n",
        "            # Forward pass: obtain model predictions and update hidden state\n",
        "            y_pred, hidden = model(x, hidden)\n",
        "\n",
        "            # Extract the logits for the last predicted word\n",
        "            last_word_logits = y_pred[0][-1]\n",
        "\n",
        "            # Calculate the softmax probabilities for the last predicted word's logits\n",
        "            p = F.softmax(last_word_logits / temperature, dim=0).cpu().numpy()\n",
        "\n",
        "            # Sample a word index based on the softmax distribution\n",
        "            word_index = np.random.choice(len(last_word_logits), p=p)\n",
        "\n",
        "            # Append the sampled word to the generated text\n",
        "            words.append(vocab.lookup_token(word_index))\n",
        "\n",
        "    # Combine the generated words into a coherent text\n",
        "    return ' '.join(words)"
      ],
      "metadata": {
        "id": "H4fata_-MIT9"
      },
      "id": "H4fata_-MIT9",
      "execution_count": 26,
      "outputs": []
    },
    {
      "cell_type": "markdown",
      "source": [
        "Finally code prints the result of generating text using the generate_text function with a pre-trained model. Here's a summary:\n",
        "\n",
        "- Generate Text:\n",
        "\n",
        "  - `generate_text(model, start_text=\"I like\", num_words=100)`: Calls the `generate_text` function with the following parameters:\n",
        "  - `model`: The pre-trained LSTM model.\n",
        "  - `start_text=\"I like\"`: The starting text for text generation.\n",
        "  - `num_words=100`: The desired number of words to generate.\n",
        "\n",
        "- Print the Generated Text:\n",
        "  - `print(...)`: Prints the result of the text generation."
      ],
      "metadata": {
        "id": "FU7s-E_iH7VR"
      },
      "id": "FU7s-E_iH7VR"
    },
    {
      "cell_type": "code",
      "execution_count": 27,
      "id": "d2884543",
      "metadata": {
        "id": "d2884543",
        "outputId": "75e4e57c-3e23-44ac-e2d2-2cf9811e334f",
        "colab": {
          "base_uri": "https://localhost:8080/"
        }
      },
      "outputs": [
        {
          "output_type": "stream",
          "name": "stdout",
          "text": [
            "i like a broader puzzle network that ' s <unk> in organisation , a lady condom disappearing was comfortably by some scholars written other egyptian neighborhoods , and how he praised wheeler ' s notion of the medieval christian truth and laurel to alekhine in the upper echelons of xenon cbs , seeds , affiliate and as frivolous and izezi , — murder . the federal government must have taken races of the race 15 – @-@ proteins have acted for david c . n @-@ d . former underwood , the <unk> black infantry regiments are awarded at uci concert conference\n"
          ]
        }
      ],
      "source": [
        "# Generate and print text using the trained model\n",
        "print(generate_text(model, start_text=\"I like\", num_words=100))"
      ]
    },
    {
      "cell_type": "code",
      "source": [
        "# Test model with start text: When I was\n",
        "print(generate_text(model, start_text=\"When I was\", num_words=100))"
      ],
      "metadata": {
        "id": "QX19SalxzE7A",
        "outputId": "f1890d93-68cd-4a20-9bce-e05582cdb9d2",
        "colab": {
          "base_uri": "https://localhost:8080/"
        }
      },
      "id": "QX19SalxzE7A",
      "execution_count": 29,
      "outputs": [
        {
          "output_type": "stream",
          "name": "stdout",
          "text": [
            "when i was uttered with difficulty about his mother . captain nancy <unk> , a force of up a relationship with having the reason of australia , but he was one of his career playing , as managing the australians to return to play the day may be the games . a . in ashdod , abby ' s models was completed for a natural back <unk> , which may have recorded slightly random , stated that as a result , author began great crime pity played to 50 billion than others purchased in winning the daughters of new york , where they\n"
          ]
        }
      ]
    },
    {
      "cell_type": "code",
      "source": [
        "# Test model with start text: Did you know\n",
        "print(generate_text(model, start_text=\"Did you know\", num_words=100))"
      ],
      "metadata": {
        "id": "e0YmnvQizNt0",
        "outputId": "d462e808-79d7-4ae9-cc7f-968104bc6e47",
        "colab": {
          "base_uri": "https://localhost:8080/"
        }
      },
      "id": "e0YmnvQizNt0",
      "execution_count": 30,
      "outputs": [
        {
          "output_type": "stream",
          "name": "stdout",
          "text": [
            "did you know , that one man would be no legs . kreutzer building said that there , many weeks in their earth song will be actually graced the spirit . many games such as either present day , unpredictability . long among the process was an figure in a scholarship that bird , responding to give their own experiences , and he had retained an invitation , while multiple paternity from the violent african crake suddenly dwight schrute significantly brought out crowds . the following crusader period was in a pair of madison pairs in fly <unk> de <unk> orci ' s\n"
          ]
        }
      ]
    },
    {
      "cell_type": "code",
      "source": [
        "# Test model with start text; How about\n",
        "print(generate_text(model, start_text=\"How about\", num_words=100))"
      ],
      "metadata": {
        "id": "jkNSAUKjzaNt",
        "outputId": "8446de76-831e-4c55-b4d5-baea43ba758c",
        "colab": {
          "base_uri": "https://localhost:8080/"
        }
      },
      "id": "jkNSAUKjzaNt",
      "execution_count": 31,
      "outputs": [
        {
          "output_type": "stream",
          "name": "stdout",
          "text": [
            "how about calculators would go to last depending on the ruins of mithra in conjunction with the sample among its action for both from the game ' s <unk> school advertisements for the flat five campaign building the most conducted a part in the hill and sought to continue one position at this promotion as the culmination of the following day . it remains a second bit of five stars , triangular than eight <unk> ' s home and wandering size , most of humans ' character typically where he would be completely seen in 789 conduct than the campaign . this\n"
          ]
        }
      ]
    }
  ],
  "metadata": {
    "kernelspec": {
      "display_name": "Python 3",
      "name": "python3"
    },
    "language_info": {
      "codemirror_mode": {
        "name": "ipython",
        "version": 3
      },
      "file_extension": ".py",
      "mimetype": "text/x-python",
      "name": "python",
      "nbconvert_exporter": "python",
      "pygments_lexer": "ipython3",
      "version": "3.10.10"
    },
    "varInspector": {
      "cols": {
        "lenName": 16,
        "lenType": 16,
        "lenVar": 40
      },
      "kernels_config": {
        "python": {
          "delete_cmd_postfix": "",
          "delete_cmd_prefix": "del ",
          "library": "var_list.py",
          "varRefreshCmd": "print(var_dic_list())"
        },
        "r": {
          "delete_cmd_postfix": ") ",
          "delete_cmd_prefix": "rm(",
          "library": "var_list.r",
          "varRefreshCmd": "cat(var_dic_list()) "
        }
      },
      "types_to_exclude": [
        "module",
        "function",
        "builtin_function_or_method",
        "instance",
        "_Feature"
      ],
      "window_display": false
    },
    "colab": {
      "provenance": [],
      "gpuType": "T4",
      "include_colab_link": true
    },
    "accelerator": "GPU"
  },
  "nbformat": 4,
  "nbformat_minor": 5
}