{
  "cells": [
    {
      "cell_type": "markdown",
      "metadata": {
        "id": "view-in-github",
        "colab_type": "text"
      },
      "source": [
        "<a href=\"https://colab.research.google.com/github/aarmentamna/machine_learning_advance/blob/main/TC4033_Activity1b_42.ipynb\" target=\"_parent\"><img src=\"https://colab.research.google.com/assets/colab-badge.svg\" alt=\"Open In Colab\"/></a>"
      ]
    },
    {
      "cell_type": "markdown",
      "source": [
        "##**Maestría en Inteligencia Artificial Aplicada**\n",
        "###**Curso: ADVANCE MACHINE LEARNING METHODS**\n",
        "## Tecnológico de Monterrey\n",
        "###DR. José Antonio Cantoral Ceballos\n",
        "\n",
        "## Activity Week 2\n",
        "###**Implementing a Fully Connected Network for Kaggle ASL Dataset.**"
      ],
      "metadata": {
        "id": "Cnc-mfautnHW"
      }
    },
    {
      "cell_type": "markdown",
      "source": [
        "*TEAM MEMBERS:*\n",
        "\n",
        "*   Roberto Romero Vielma - A00822314\n",
        "*   José Javier Granados Hernández - A00556717\n",
        "*   Aquiles Yonatan Armenta Hernandez - A01793252\n",
        "*   Alan Avelino Fernández Juárez - A00989308"
      ],
      "metadata": {
        "id": "4pWEX8jnttkK"
      }
    },
    {
      "cell_type": "markdown",
      "metadata": {
        "id": "SNufdnTdq_ug"
      },
      "source": [
        "# TC 5033\n",
        "## Deep Learning\n",
        "## Fully Connected Deep Neural Networks\n",
        "\n",
        "#### Activity 1b: Implementing a Fully Connected Network for Kaggle ASL Dataset\n",
        "\n",
        "- Objective\n",
        "\n",
        "The aim of this part of the activity is to apply your understanding of Fully Connected Networks by implementing a multilayer network for the [Kaggle ASL (American Sign Language) dataset](https://www.kaggle.com/datasets/grassknoted/asl-alphabet). While you have been provided with a complete solution for a Fully Connected Network using Numpy for the MNIST dataset, you are encouraged to try to come up with the solution.\n",
        "\n",
        "- Instructions\n",
        "\n",
        "    This activity requires submission in teams of 3 or 4 members. Submissions from smaller or larger teams will not be accepted unless prior approval has been granted (only due to exceptional circumstances). While teamwork is encouraged, each member is expected to contribute individually to the assignment. The final submission should feature the best arguments and solutions from each team member. Only one person per team needs to submit the completed work, but it is imperative that the names of all team members are listed in a Markdown cell at the very beginning of the notebook (either the first or second cell). Failure to include all team member names will result in the grade being awarded solely to the individual who submitted the assignment, with zero points given to other team members (no exceptions will be made to this rule).\n",
        "\n",
        "    Load and Preprocess Data: You are provided a starter code to load the data. Be sure to understand the code.\n",
        "\n",
        "    Review MNIST Notebook (Optional): Before diving into this activity, you have the option to revisit the MNIST example to refresh your understanding of how to build a Fully Connected Network using Numpy.\n",
        "\n",
        "    Start Fresh: Although you can refer to the MNIST solution at any point, try to implement the network for the ASL dataset on your own. This will reinforce your learning and understanding of the architecture and mathematics involved.\n",
        "\n",
        "    Implement Forward and Backward Pass: Write the code to perform the forward and backward passes, keeping in mind the specific challenges and characteristics of the ASL dataset.\n",
        "    \n",
        "     Design the Network: Create the architecture of the Fully Connected Network tailored for the ASL dataset. Choose the number of hidden layers, neurons, and hyperparameters judiciously.\n",
        "\n",
        "    Train the Model: Execute the training loop, ensuring to track performance metrics such as loss and accuracy.\n",
        "\n",
        "    Analyze and Document: Use Markdown cells to document in detail the choices you made in terms of architecture and hyperparameters, you may use figures, equations, etc to aid in your explanations. Include any metrics that help justify these choices and discuss the model's performance.  \n",
        "\n",
        "- Evaluation Criteria\n",
        "\n",
        "    - Code Readability and Comments\n",
        "    - Appropriateness of chosen architecture and hyperparameters for the ASL dataset\n",
        "    - Performance of the model on the ASL dataset (at least 70% acc)\n",
        "    - Quality of Markdown documentation\n",
        "\n",
        "- Submission\n",
        "\n",
        "Submit this Jupyter Notebook in canvas with your complete solution, ensuring your code is well-commented and includes Markdown cells that explain your design choices, results, and any challenges you encountered.\n"
      ]
    },
    {
      "cell_type": "code",
      "source": [
        "# Clone the repository from the following URL\n",
        "!git clone https://github.com/rromerov/asl_data."
      ],
      "metadata": {
        "colab": {
          "base_uri": "https://localhost:8080/"
        },
        "id": "IhKnET9JrUH0",
        "outputId": "4f86e1fd-f1f3-47c6-fd72-c0ca7f28258e"
      },
      "execution_count": 58,
      "outputs": [
        {
          "output_type": "stream",
          "name": "stdout",
          "text": [
            "Cloning into 'asl_data.'...\n",
            "fatal: could not read Username for 'https://github.com': No such device or address\n"
          ]
        }
      ]
    },
    {
      "cell_type": "code",
      "execution_count": 61,
      "metadata": {
        "id": "dg_aW5deq_uk",
        "colab": {
          "base_uri": "https://localhost:8080/"
        },
        "outputId": "27811221-b3a7-4ccf-efba-ef20a9edda94"
      },
      "outputs": [
        {
          "output_type": "stream",
          "name": "stdout",
          "text": [
            "The autoreload extension is already loaded. To reload it, use:\n",
            "  %reload_ext autoreload\n"
          ]
        }
      ],
      "source": [
        "# Import necessary libraries\n",
        "import numpy as np          # Import NumPy for numerical operations\n",
        "import string               # Import the string module for working with strings\n",
        "import pandas as pd         # Import Pandas for data manipulation\n",
        "import matplotlib.pyplot as plt  # Import Matplotlib for data visualization\n",
        "import cv2 as cv            # Import OpenCV for computer vision tasks\n",
        "import os                   # Import the os module for interacting with the operating system\n",
        "\n",
        "# Load the autoreload extension to automatically reload modified modules\n",
        "%load_ext autoreload\n",
        "\n",
        "# Set autoreload to reload all modules every time a cell is executed\n",
        "%autoreload 2\n",
        "\n",
        "# Use %matplotlib inline to display Matplotlib plots inline in the Jupyter Notebook\n",
        "%matplotlib inline\n"
      ]
    },
    {
      "cell_type": "code",
      "execution_count": 62,
      "metadata": {
        "id": "LLUsI4uKq_um"
      },
      "outputs": [],
      "source": [
        "# Declare the path to the directory containing the extracted data from a zip file\n",
        "DATA_PATH = './asl_data/'\n",
        "\n",
        "# Read the training data from a CSV file located in the DATA_PATH directory\n",
        "train_df = pd.read_csv(os.path.join(DATA_PATH, 'sign_mnist_train.csv'))\n",
        "\n",
        "# Read the validation data from a CSV file located in the DATA_PATH directory\n",
        "valid_df = pd.read_csv(os.path.join(DATA_PATH, 'sign_mnist_valid.csv'))"
      ]
    },
    {
      "cell_type": "code",
      "execution_count": 64,
      "metadata": {
        "colab": {
          "base_uri": "https://localhost:8080/",
          "height": 256
        },
        "id": "WdgOYB2Iq_um",
        "outputId": "a2c16d79-7729-4d90-ca66-221cfa99f2f7"
      },
      "outputs": [
        {
          "output_type": "execute_result",
          "data": {
            "text/plain": [
              "   label  pixel1  pixel2  pixel3  pixel4  pixel5  pixel6  pixel7  pixel8  \\\n",
              "0      3     107     118     127     134     139     143     146     150   \n",
              "1      6     155     157     156     156     156     157     156     158   \n",
              "2      2     187     188     188     187     187     186     187     188   \n",
              "3      2     211     211     212     212     211     210     211     210   \n",
              "4     12     164     167     170     172     176     179     180     184   \n",
              "\n",
              "   pixel9  ...  pixel775  pixel776  pixel777  pixel778  pixel779  pixel780  \\\n",
              "0     153  ...       207       207       207       207       206       206   \n",
              "1     158  ...        69       149       128        87        94       163   \n",
              "2     187  ...       202       201       200       199       198       199   \n",
              "3     210  ...       235       234       233       231       230       226   \n",
              "4     185  ...        92       105       105       108       133       163   \n",
              "\n",
              "   pixel781  pixel782  pixel783  pixel784  \n",
              "0       206       204       203       202  \n",
              "1       175       103       135       149  \n",
              "2       198       195       194       195  \n",
              "3       225       222       229       163  \n",
              "4       157       163       164       179  \n",
              "\n",
              "[5 rows x 785 columns]"
            ],
            "text/html": [
              "\n",
              "  <div id=\"df-5ffe6ebd-56e2-4d94-afa9-9318658f0665\" class=\"colab-df-container\">\n",
              "    <div>\n",
              "<style scoped>\n",
              "    .dataframe tbody tr th:only-of-type {\n",
              "        vertical-align: middle;\n",
              "    }\n",
              "\n",
              "    .dataframe tbody tr th {\n",
              "        vertical-align: top;\n",
              "    }\n",
              "\n",
              "    .dataframe thead th {\n",
              "        text-align: right;\n",
              "    }\n",
              "</style>\n",
              "<table border=\"1\" class=\"dataframe\">\n",
              "  <thead>\n",
              "    <tr style=\"text-align: right;\">\n",
              "      <th></th>\n",
              "      <th>label</th>\n",
              "      <th>pixel1</th>\n",
              "      <th>pixel2</th>\n",
              "      <th>pixel3</th>\n",
              "      <th>pixel4</th>\n",
              "      <th>pixel5</th>\n",
              "      <th>pixel6</th>\n",
              "      <th>pixel7</th>\n",
              "      <th>pixel8</th>\n",
              "      <th>pixel9</th>\n",
              "      <th>...</th>\n",
              "      <th>pixel775</th>\n",
              "      <th>pixel776</th>\n",
              "      <th>pixel777</th>\n",
              "      <th>pixel778</th>\n",
              "      <th>pixel779</th>\n",
              "      <th>pixel780</th>\n",
              "      <th>pixel781</th>\n",
              "      <th>pixel782</th>\n",
              "      <th>pixel783</th>\n",
              "      <th>pixel784</th>\n",
              "    </tr>\n",
              "  </thead>\n",
              "  <tbody>\n",
              "    <tr>\n",
              "      <th>0</th>\n",
              "      <td>3</td>\n",
              "      <td>107</td>\n",
              "      <td>118</td>\n",
              "      <td>127</td>\n",
              "      <td>134</td>\n",
              "      <td>139</td>\n",
              "      <td>143</td>\n",
              "      <td>146</td>\n",
              "      <td>150</td>\n",
              "      <td>153</td>\n",
              "      <td>...</td>\n",
              "      <td>207</td>\n",
              "      <td>207</td>\n",
              "      <td>207</td>\n",
              "      <td>207</td>\n",
              "      <td>206</td>\n",
              "      <td>206</td>\n",
              "      <td>206</td>\n",
              "      <td>204</td>\n",
              "      <td>203</td>\n",
              "      <td>202</td>\n",
              "    </tr>\n",
              "    <tr>\n",
              "      <th>1</th>\n",
              "      <td>6</td>\n",
              "      <td>155</td>\n",
              "      <td>157</td>\n",
              "      <td>156</td>\n",
              "      <td>156</td>\n",
              "      <td>156</td>\n",
              "      <td>157</td>\n",
              "      <td>156</td>\n",
              "      <td>158</td>\n",
              "      <td>158</td>\n",
              "      <td>...</td>\n",
              "      <td>69</td>\n",
              "      <td>149</td>\n",
              "      <td>128</td>\n",
              "      <td>87</td>\n",
              "      <td>94</td>\n",
              "      <td>163</td>\n",
              "      <td>175</td>\n",
              "      <td>103</td>\n",
              "      <td>135</td>\n",
              "      <td>149</td>\n",
              "    </tr>\n",
              "    <tr>\n",
              "      <th>2</th>\n",
              "      <td>2</td>\n",
              "      <td>187</td>\n",
              "      <td>188</td>\n",
              "      <td>188</td>\n",
              "      <td>187</td>\n",
              "      <td>187</td>\n",
              "      <td>186</td>\n",
              "      <td>187</td>\n",
              "      <td>188</td>\n",
              "      <td>187</td>\n",
              "      <td>...</td>\n",
              "      <td>202</td>\n",
              "      <td>201</td>\n",
              "      <td>200</td>\n",
              "      <td>199</td>\n",
              "      <td>198</td>\n",
              "      <td>199</td>\n",
              "      <td>198</td>\n",
              "      <td>195</td>\n",
              "      <td>194</td>\n",
              "      <td>195</td>\n",
              "    </tr>\n",
              "    <tr>\n",
              "      <th>3</th>\n",
              "      <td>2</td>\n",
              "      <td>211</td>\n",
              "      <td>211</td>\n",
              "      <td>212</td>\n",
              "      <td>212</td>\n",
              "      <td>211</td>\n",
              "      <td>210</td>\n",
              "      <td>211</td>\n",
              "      <td>210</td>\n",
              "      <td>210</td>\n",
              "      <td>...</td>\n",
              "      <td>235</td>\n",
              "      <td>234</td>\n",
              "      <td>233</td>\n",
              "      <td>231</td>\n",
              "      <td>230</td>\n",
              "      <td>226</td>\n",
              "      <td>225</td>\n",
              "      <td>222</td>\n",
              "      <td>229</td>\n",
              "      <td>163</td>\n",
              "    </tr>\n",
              "    <tr>\n",
              "      <th>4</th>\n",
              "      <td>12</td>\n",
              "      <td>164</td>\n",
              "      <td>167</td>\n",
              "      <td>170</td>\n",
              "      <td>172</td>\n",
              "      <td>176</td>\n",
              "      <td>179</td>\n",
              "      <td>180</td>\n",
              "      <td>184</td>\n",
              "      <td>185</td>\n",
              "      <td>...</td>\n",
              "      <td>92</td>\n",
              "      <td>105</td>\n",
              "      <td>105</td>\n",
              "      <td>108</td>\n",
              "      <td>133</td>\n",
              "      <td>163</td>\n",
              "      <td>157</td>\n",
              "      <td>163</td>\n",
              "      <td>164</td>\n",
              "      <td>179</td>\n",
              "    </tr>\n",
              "  </tbody>\n",
              "</table>\n",
              "<p>5 rows × 785 columns</p>\n",
              "</div>\n",
              "    <div class=\"colab-df-buttons\">\n",
              "\n",
              "  <div class=\"colab-df-container\">\n",
              "    <button class=\"colab-df-convert\" onclick=\"convertToInteractive('df-5ffe6ebd-56e2-4d94-afa9-9318658f0665')\"\n",
              "            title=\"Convert this dataframe to an interactive table.\"\n",
              "            style=\"display:none;\">\n",
              "\n",
              "  <svg xmlns=\"http://www.w3.org/2000/svg\" height=\"24px\" viewBox=\"0 -960 960 960\">\n",
              "    <path d=\"M120-120v-720h720v720H120Zm60-500h600v-160H180v160Zm220 220h160v-160H400v160Zm0 220h160v-160H400v160ZM180-400h160v-160H180v160Zm440 0h160v-160H620v160ZM180-180h160v-160H180v160Zm440 0h160v-160H620v160Z\"/>\n",
              "  </svg>\n",
              "    </button>\n",
              "\n",
              "  <style>\n",
              "    .colab-df-container {\n",
              "      display:flex;\n",
              "      gap: 12px;\n",
              "    }\n",
              "\n",
              "    .colab-df-convert {\n",
              "      background-color: #E8F0FE;\n",
              "      border: none;\n",
              "      border-radius: 50%;\n",
              "      cursor: pointer;\n",
              "      display: none;\n",
              "      fill: #1967D2;\n",
              "      height: 32px;\n",
              "      padding: 0 0 0 0;\n",
              "      width: 32px;\n",
              "    }\n",
              "\n",
              "    .colab-df-convert:hover {\n",
              "      background-color: #E2EBFA;\n",
              "      box-shadow: 0px 1px 2px rgba(60, 64, 67, 0.3), 0px 1px 3px 1px rgba(60, 64, 67, 0.15);\n",
              "      fill: #174EA6;\n",
              "    }\n",
              "\n",
              "    .colab-df-buttons div {\n",
              "      margin-bottom: 4px;\n",
              "    }\n",
              "\n",
              "    [theme=dark] .colab-df-convert {\n",
              "      background-color: #3B4455;\n",
              "      fill: #D2E3FC;\n",
              "    }\n",
              "\n",
              "    [theme=dark] .colab-df-convert:hover {\n",
              "      background-color: #434B5C;\n",
              "      box-shadow: 0px 1px 3px 1px rgba(0, 0, 0, 0.15);\n",
              "      filter: drop-shadow(0px 1px 2px rgba(0, 0, 0, 0.3));\n",
              "      fill: #FFFFFF;\n",
              "    }\n",
              "  </style>\n",
              "\n",
              "    <script>\n",
              "      const buttonEl =\n",
              "        document.querySelector('#df-5ffe6ebd-56e2-4d94-afa9-9318658f0665 button.colab-df-convert');\n",
              "      buttonEl.style.display =\n",
              "        google.colab.kernel.accessAllowed ? 'block' : 'none';\n",
              "\n",
              "      async function convertToInteractive(key) {\n",
              "        const element = document.querySelector('#df-5ffe6ebd-56e2-4d94-afa9-9318658f0665');\n",
              "        const dataTable =\n",
              "          await google.colab.kernel.invokeFunction('convertToInteractive',\n",
              "                                                    [key], {});\n",
              "        if (!dataTable) return;\n",
              "\n",
              "        const docLinkHtml = 'Like what you see? Visit the ' +\n",
              "          '<a target=\"_blank\" href=https://colab.research.google.com/notebooks/data_table.ipynb>data table notebook</a>'\n",
              "          + ' to learn more about interactive tables.';\n",
              "        element.innerHTML = '';\n",
              "        dataTable['output_type'] = 'display_data';\n",
              "        await google.colab.output.renderOutput(dataTable, element);\n",
              "        const docLink = document.createElement('div');\n",
              "        docLink.innerHTML = docLinkHtml;\n",
              "        element.appendChild(docLink);\n",
              "      }\n",
              "    </script>\n",
              "  </div>\n",
              "\n",
              "\n",
              "<div id=\"df-74f88e31-1d55-4669-b492-0e77b55c92e8\">\n",
              "  <button class=\"colab-df-quickchart\" onclick=\"quickchart('df-74f88e31-1d55-4669-b492-0e77b55c92e8')\"\n",
              "            title=\"Suggest charts.\"\n",
              "            style=\"display:none;\">\n",
              "\n",
              "<svg xmlns=\"http://www.w3.org/2000/svg\" height=\"24px\"viewBox=\"0 0 24 24\"\n",
              "     width=\"24px\">\n",
              "    <g>\n",
              "        <path d=\"M19 3H5c-1.1 0-2 .9-2 2v14c0 1.1.9 2 2 2h14c1.1 0 2-.9 2-2V5c0-1.1-.9-2-2-2zM9 17H7v-7h2v7zm4 0h-2V7h2v10zm4 0h-2v-4h2v4z\"/>\n",
              "    </g>\n",
              "</svg>\n",
              "  </button>\n",
              "\n",
              "<style>\n",
              "  .colab-df-quickchart {\n",
              "      --bg-color: #E8F0FE;\n",
              "      --fill-color: #1967D2;\n",
              "      --hover-bg-color: #E2EBFA;\n",
              "      --hover-fill-color: #174EA6;\n",
              "      --disabled-fill-color: #AAA;\n",
              "      --disabled-bg-color: #DDD;\n",
              "  }\n",
              "\n",
              "  [theme=dark] .colab-df-quickchart {\n",
              "      --bg-color: #3B4455;\n",
              "      --fill-color: #D2E3FC;\n",
              "      --hover-bg-color: #434B5C;\n",
              "      --hover-fill-color: #FFFFFF;\n",
              "      --disabled-bg-color: #3B4455;\n",
              "      --disabled-fill-color: #666;\n",
              "  }\n",
              "\n",
              "  .colab-df-quickchart {\n",
              "    background-color: var(--bg-color);\n",
              "    border: none;\n",
              "    border-radius: 50%;\n",
              "    cursor: pointer;\n",
              "    display: none;\n",
              "    fill: var(--fill-color);\n",
              "    height: 32px;\n",
              "    padding: 0;\n",
              "    width: 32px;\n",
              "  }\n",
              "\n",
              "  .colab-df-quickchart:hover {\n",
              "    background-color: var(--hover-bg-color);\n",
              "    box-shadow: 0 1px 2px rgba(60, 64, 67, 0.3), 0 1px 3px 1px rgba(60, 64, 67, 0.15);\n",
              "    fill: var(--button-hover-fill-color);\n",
              "  }\n",
              "\n",
              "  .colab-df-quickchart-complete:disabled,\n",
              "  .colab-df-quickchart-complete:disabled:hover {\n",
              "    background-color: var(--disabled-bg-color);\n",
              "    fill: var(--disabled-fill-color);\n",
              "    box-shadow: none;\n",
              "  }\n",
              "\n",
              "  .colab-df-spinner {\n",
              "    border: 2px solid var(--fill-color);\n",
              "    border-color: transparent;\n",
              "    border-bottom-color: var(--fill-color);\n",
              "    animation:\n",
              "      spin 1s steps(1) infinite;\n",
              "  }\n",
              "\n",
              "  @keyframes spin {\n",
              "    0% {\n",
              "      border-color: transparent;\n",
              "      border-bottom-color: var(--fill-color);\n",
              "      border-left-color: var(--fill-color);\n",
              "    }\n",
              "    20% {\n",
              "      border-color: transparent;\n",
              "      border-left-color: var(--fill-color);\n",
              "      border-top-color: var(--fill-color);\n",
              "    }\n",
              "    30% {\n",
              "      border-color: transparent;\n",
              "      border-left-color: var(--fill-color);\n",
              "      border-top-color: var(--fill-color);\n",
              "      border-right-color: var(--fill-color);\n",
              "    }\n",
              "    40% {\n",
              "      border-color: transparent;\n",
              "      border-right-color: var(--fill-color);\n",
              "      border-top-color: var(--fill-color);\n",
              "    }\n",
              "    60% {\n",
              "      border-color: transparent;\n",
              "      border-right-color: var(--fill-color);\n",
              "    }\n",
              "    80% {\n",
              "      border-color: transparent;\n",
              "      border-right-color: var(--fill-color);\n",
              "      border-bottom-color: var(--fill-color);\n",
              "    }\n",
              "    90% {\n",
              "      border-color: transparent;\n",
              "      border-bottom-color: var(--fill-color);\n",
              "    }\n",
              "  }\n",
              "</style>\n",
              "\n",
              "  <script>\n",
              "    async function quickchart(key) {\n",
              "      const quickchartButtonEl =\n",
              "        document.querySelector('#' + key + ' button');\n",
              "      quickchartButtonEl.disabled = true;  // To prevent multiple clicks.\n",
              "      quickchartButtonEl.classList.add('colab-df-spinner');\n",
              "      try {\n",
              "        const charts = await google.colab.kernel.invokeFunction(\n",
              "            'suggestCharts', [key], {});\n",
              "      } catch (error) {\n",
              "        console.error('Error during call to suggestCharts:', error);\n",
              "      }\n",
              "      quickchartButtonEl.classList.remove('colab-df-spinner');\n",
              "      quickchartButtonEl.classList.add('colab-df-quickchart-complete');\n",
              "    }\n",
              "    (() => {\n",
              "      let quickchartButtonEl =\n",
              "        document.querySelector('#df-74f88e31-1d55-4669-b492-0e77b55c92e8 button');\n",
              "      quickchartButtonEl.style.display =\n",
              "        google.colab.kernel.accessAllowed ? 'block' : 'none';\n",
              "    })();\n",
              "  </script>\n",
              "</div>\n",
              "    </div>\n",
              "  </div>\n"
            ]
          },
          "metadata": {},
          "execution_count": 64
        }
      ],
      "source": [
        "# Display the first few rows (header) of the extracted training data\n",
        "train_df.head()"
      ]
    },
    {
      "cell_type": "code",
      "execution_count": 65,
      "metadata": {
        "colab": {
          "base_uri": "https://localhost:8080/"
        },
        "id": "zGk44QCkq_um",
        "outputId": "3d901d5e-ade5-492b-f97f-475b037e89de"
      },
      "outputs": [
        {
          "output_type": "execute_result",
          "data": {
            "text/plain": [
              "[0,\n",
              " 1,\n",
              " 2,\n",
              " 3,\n",
              " 4,\n",
              " 5,\n",
              " 6,\n",
              " 7,\n",
              " 8,\n",
              " 9,\n",
              " 10,\n",
              " 11,\n",
              " 12,\n",
              " 13,\n",
              " 14,\n",
              " 15,\n",
              " 16,\n",
              " 17,\n",
              " 18,\n",
              " 19,\n",
              " 20,\n",
              " 21,\n",
              " 22,\n",
              " 23]"
            ]
          },
          "metadata": {},
          "execution_count": 65
        }
      ],
      "source": [
        "# Obtain and sort unique categories (labels)\n",
        "sorted(train_df['label'].unique())"
      ]
    },
    {
      "cell_type": "code",
      "execution_count": 67,
      "metadata": {
        "colab": {
          "base_uri": "https://localhost:8080/"
        },
        "id": "KpYHPR8jq_um",
        "outputId": "27b13281-22d1-4726-b15e-cde9f4a956b4"
      },
      "outputs": [
        {
          "output_type": "execute_result",
          "data": {
            "text/plain": [
              "(27455, 28, 28)"
            ]
          },
          "metadata": {},
          "execution_count": 67
        }
      ],
      "source": [
        "# Extract and reshape the 784-vector data into a 28x28 matrix for the training set\n",
        "x_train_num = train_df.loc[:, train_df.columns != 'label'].values.copy().reshape(-1, 28, 28)\n",
        "\n",
        "# Check the shape of the reshaped training data\n",
        "x_train_num.shape"
      ]
    },
    {
      "cell_type": "code",
      "execution_count": 68,
      "metadata": {
        "colab": {
          "base_uri": "https://localhost:8080/"
        },
        "id": "fP5Cazb5q_un",
        "outputId": "fbdad8ff-11b6-4643-b5d5-15f5e1cc0cbd"
      },
      "outputs": [
        {
          "output_type": "execute_result",
          "data": {
            "text/plain": [
              "(27455,)"
            ]
          },
          "metadata": {},
          "execution_count": 68
        }
      ],
      "source": [
        "# Extract the label values for the training set\n",
        "y_train_num = train_df['label'].values.copy()\n",
        "\n",
        "# Check the shape of the extracted label values\n",
        "y_train_num.shape"
      ]
    },
    {
      "cell_type": "code",
      "execution_count": 69,
      "metadata": {
        "colab": {
          "base_uri": "https://localhost:8080/"
        },
        "id": "hx5S-NOsq_un",
        "outputId": "7fb1fddf-aa48-4218-df7f-a90641c2abe1"
      },
      "outputs": [
        {
          "output_type": "execute_result",
          "data": {
            "text/plain": [
              "(7172, 28, 28)"
            ]
          },
          "metadata": {},
          "execution_count": 69
        }
      ],
      "source": [
        "# Extract and reshape images from vectors to 28x28 matrices for the validation set\n",
        "x_test_num = valid_df.loc[:, valid_df.columns != 'label'].values.copy().reshape(-1, 28, 28)\n",
        "\n",
        "# Check the shape of the reshaped validation data\n",
        "x_test_num.shape"
      ]
    },
    {
      "cell_type": "code",
      "execution_count": 70,
      "metadata": {
        "colab": {
          "base_uri": "https://localhost:8080/"
        },
        "id": "eX4BZAccq_un",
        "outputId": "b722abf8-6c50-48b4-8acd-7d64c9c37a62"
      },
      "outputs": [
        {
          "output_type": "execute_result",
          "data": {
            "text/plain": [
              "(7172,)"
            ]
          },
          "metadata": {},
          "execution_count": 70
        }
      ],
      "source": [
        "# Extract the label values for the validation set\n",
        "y_test_num = valid_df['label'].values.copy()\n",
        "\n",
        "# Check the shape of the extracted label values for the validation set\n",
        "y_test_num.shape"
      ]
    },
    {
      "cell_type": "code",
      "execution_count": 73,
      "metadata": {
        "colab": {
          "base_uri": "https://localhost:8080/"
        },
        "id": "Op_0kiBKq_un",
        "outputId": "bf16f815-eca2-46d7-bae2-1acdf4fcc4ad"
      },
      "outputs": [
        {
          "output_type": "execute_result",
          "data": {
            "text/plain": [
              "(7172, 785)"
            ]
          },
          "metadata": {},
          "execution_count": 73
        }
      ],
      "source": [
        "# Check the shape of the validation DataFrame (valid_df)\n",
        "valid_df.shape"
      ]
    },
    {
      "cell_type": "markdown",
      "metadata": {
        "id": "dMp4uz53q_un"
      },
      "source": [
        "### Importar Images"
      ]
    },
    {
      "cell_type": "code",
      "execution_count": 74,
      "metadata": {
        "id": "I1Wd_Udjq_un"
      },
      "outputs": [],
      "source": [
        "# Cast data type to NumPy arrays\n",
        "y_train = np.array(train_df['label'])   # Convert the 'label' column of the training DataFrame to a NumPy array\n",
        "y_val = np.array(valid_df['label'])     # Convert the 'label' column of the validation DataFrame to a NumPy array\n",
        "\n",
        "# Delete the original 'label' data in the DataFrames to keep only the feature data\n",
        "del train_df['label']    # Delete the 'label' column from the training DataFrame\n",
        "del valid_df['label']    # Delete the 'label' column from the validation DataFrame\n",
        "\n",
        "# Change data type for matrices to float32\n",
        "x_train = train_df.values.astype(np.float32)  # Convert the training DataFrame to a NumPy array with float32 data type\n",
        "x_val = valid_df.values.astype(np.float32)    # Convert the validation DataFrame to a NumPy array with float32 data type"
      ]
    },
    {
      "cell_type": "code",
      "execution_count": 75,
      "metadata": {
        "colab": {
          "base_uri": "https://localhost:8080/"
        },
        "id": "_gAXE2yrq_un",
        "outputId": "492cdbfd-1f24-4bdc-a984-e1653a556a72"
      },
      "outputs": [
        {
          "output_type": "execute_result",
          "data": {
            "text/plain": [
              "(27455, 784)"
            ]
          },
          "metadata": {},
          "execution_count": 75
        }
      ],
      "source": [
        "# Check the shape of the training feature data (x_train)\n",
        "x_train.shape"
      ]
    },
    {
      "cell_type": "code",
      "execution_count": 76,
      "metadata": {
        "colab": {
          "base_uri": "https://localhost:8080/"
        },
        "id": "qbqLJ6Bgq_uo",
        "outputId": "c0b767e3-bda2-4df3-c9cc-ce76210e6781"
      },
      "outputs": [
        {
          "output_type": "execute_result",
          "data": {
            "text/plain": [
              "(27455,)"
            ]
          },
          "metadata": {},
          "execution_count": 76
        }
      ],
      "source": [
        "# Check the shape of the training feature data (y_train)\n",
        "y_train.shape"
      ]
    },
    {
      "cell_type": "code",
      "execution_count": 77,
      "metadata": {
        "colab": {
          "base_uri": "https://localhost:8080/"
        },
        "id": "pELGq4CGq_uo",
        "outputId": "49b5afcc-6964-41d4-ede4-23487c990348"
      },
      "outputs": [
        {
          "output_type": "execute_result",
          "data": {
            "text/plain": [
              "(27455, 1)"
            ]
          },
          "metadata": {},
          "execution_count": 77
        }
      ],
      "source": [
        "# Transpose the label vector\n",
        "y_train = y_train.reshape(-1, 1)\n",
        "\n",
        "# Check the shape of the transposed label vector\n",
        "y_train.shape\n"
      ]
    },
    {
      "cell_type": "code",
      "execution_count": 80,
      "metadata": {
        "colab": {
          "base_uri": "https://localhost:8080/"
        },
        "id": "skHKQi2uq_uo",
        "outputId": "fe5a5e75-047d-4da6-94d5-4a7bc3c823b4"
      },
      "outputs": [
        {
          "output_type": "execute_result",
          "data": {
            "text/plain": [
              "(7172, 1)"
            ]
          },
          "metadata": {},
          "execution_count": 80
        }
      ],
      "source": [
        "# Transpose the validation label vector\n",
        "y_val = y_val.reshape(-1, 1)\n",
        "\n",
        "# Check the shape of the transposed validation label vector\n",
        "y_val.shape"
      ]
    },
    {
      "cell_type": "code",
      "execution_count": 81,
      "metadata": {
        "id": "xvQl0_M_q_uo"
      },
      "outputs": [],
      "source": [
        "def split_val_test(x, y, pct=0.5, shuffle=True):\n",
        "    '''\n",
        "    A function to split a previously loaded validation set into validation and test sets.\n",
        "    '''\n",
        "    # Check if the lengths of input data and labels are the same\n",
        "    if len(x) != len(y):\n",
        "        raise ValueError(\"Input data and labels must have the same length.\")\n",
        "\n",
        "   # Calculate the number of test samples based on the input percentage\n",
        "    num_test_samples = int(len(x) * pct)\n",
        "\n",
        "    # Create an array of indices based on the length of the input data\n",
        "    indices = np.arange(len(x))\n",
        "\n",
        "    # Shuffle the indices if the shuffle flag is set to True\n",
        "    if shuffle:\n",
        "        np.random.shuffle(indices)\n",
        "\n",
        "     # Slice the shuffled indices to separate validation and test samples\n",
        "    val_indices = indices[num_test_samples:]\n",
        "    test_indices = indices[:num_test_samples]\n",
        "\n",
        "   # Assign the appropriate indices to create validation and test sets\n",
        "    x_val, y_val = x[val_indices], y[val_indices]\n",
        "    x_test, y_test = x[test_indices], y[test_indices]\n",
        "\n",
        "    return x_val, y_val, x_test, y_test"
      ]
    },
    {
      "cell_type": "code",
      "execution_count": 82,
      "metadata": {
        "id": "qELz3A0Yq_uo"
      },
      "outputs": [],
      "source": [
        "# Generate validation and test data sets by calling the split_val_test function\n",
        "x_val, y_val, x_test, y_test = split_val_test(x_val, y_val)"
      ]
    },
    {
      "cell_type": "code",
      "execution_count": 83,
      "metadata": {
        "colab": {
          "base_uri": "https://localhost:8080/"
        },
        "id": "94PwbB5pq_uo",
        "outputId": "ef82c910-af5f-4ac3-c9f6-6d2078878a61"
      },
      "outputs": [
        {
          "output_type": "execute_result",
          "data": {
            "text/plain": [
              "(3586, 784)"
            ]
          },
          "metadata": {},
          "execution_count": 83
        }
      ],
      "source": [
        "# Check the shape of the validation feature data (x_val)\n",
        "x_val.shape"
      ]
    },
    {
      "cell_type": "code",
      "execution_count": 19,
      "metadata": {
        "colab": {
          "base_uri": "https://localhost:8080/"
        },
        "id": "FLRypPZ9q_uo",
        "outputId": "7efa4a00-4d0b-40ff-8022-75985a52d256"
      },
      "outputs": [
        {
          "output_type": "execute_result",
          "data": {
            "text/plain": [
              "(3586, 1)"
            ]
          },
          "metadata": {},
          "execution_count": 19
        }
      ],
      "source": [
        "# Check the shape of the validation feature data (y_val)\n",
        "y_val.shape"
      ]
    },
    {
      "cell_type": "code",
      "execution_count": 84,
      "metadata": {
        "colab": {
          "base_uri": "https://localhost:8080/"
        },
        "id": "RBXp-oLXq_uo",
        "outputId": "56eea17b-d809-4ac7-d353-79c7c41e49e3"
      },
      "outputs": [
        {
          "output_type": "stream",
          "name": "stdout",
          "text": [
            "24\n"
          ]
        }
      ],
      "source": [
        "# Modify the set of alphabet characters to exclude 'j' and 'z'\n",
        "alphabet = list(string.ascii_lowercase)   # Create a list containing all lowercase letters\n",
        "alphabet.remove('j')                      # Remove the letter 'j' from the list\n",
        "alphabet.remove('z')                      # Remove the letter 'z' from the list\n",
        "\n",
        "print(len(alphabet))"
      ]
    },
    {
      "cell_type": "markdown",
      "metadata": {
        "id": "DgRoQu5gq_uo"
      },
      "source": [
        "### Normalise"
      ]
    },
    {
      "cell_type": "code",
      "execution_count": 85,
      "metadata": {
        "id": "n7lMbLbTq_uo"
      },
      "outputs": [],
      "source": [
        "# Normalization function\n",
        "def normalize(x_mean, x_std, x_data):\n",
        "    '''\n",
        "    This function performs normalization on input data.\n",
        "\n",
        "    Parameters:\n",
        "    - x_mean: Mean value for normalization.\n",
        "    - x_std: Standard deviation value for normalization.\n",
        "    - x_data: Input data to be normalized.\n",
        "\n",
        "    Returns:\n",
        "    - Normalized data.\n",
        "    '''\n",
        "    return (x_data - x_mean) / x_std"
      ]
    },
    {
      "cell_type": "code",
      "execution_count": 86,
      "metadata": {
        "id": "h4kYLDXuq_uo"
      },
      "outputs": [],
      "source": [
        "# Normalization of all data sets using previously calculated mean and standard deviation\n",
        "x_mean = x_train.mean()          # Calculate the mean of the training data\n",
        "x_std = x_train.std()            # Calculate the standard deviation of the training data\n",
        "\n",
        "x_train = normalize(x_mean, x_std, x_train)  # Normalize the training data\n",
        "x_val = normalize(x_mean, x_std, x_val)      # Normalize the validation data\n",
        "x_test = normalize(x_mean, x_std, x_test)    # Normalize the test data\n"
      ]
    },
    {
      "cell_type": "code",
      "execution_count": 87,
      "metadata": {
        "colab": {
          "base_uri": "https://localhost:8080/"
        },
        "id": "dpYYAv5Sq_uo",
        "outputId": "7887a439-d819-4821-cf72-8c1dac4f4a2a"
      },
      "outputs": [
        {
          "output_type": "execute_result",
          "data": {
            "text/plain": [
              "(3.6268384e-06, 0.99999946)"
            ]
          },
          "metadata": {},
          "execution_count": 87
        }
      ],
      "source": [
        "x_train.mean(), x_train.std()"
      ]
    },
    {
      "cell_type": "markdown",
      "metadata": {
        "id": "LMwMLXVeq_uo"
      },
      "source": [
        "### Graficar muestras"
      ]
    },
    {
      "cell_type": "code",
      "execution_count": 88,
      "metadata": {
        "id": "4Q-uo8MMq_uo"
      },
      "outputs": [],
      "source": [
        "# Plotting function\n",
        "def plot_number(image):\n",
        "    '''\n",
        "    This function plots a grayscale image.\n",
        "\n",
        "    Parameters:\n",
        "    - image: The grayscale image to be plotted.\n",
        "\n",
        "    Returns:\n",
        "    - None\n",
        "    '''\n",
        "    plt.figure(figsize=(5,5))                # Create a figure for plotting\n",
        "    plt.imshow(image.squeeze(), cmap=plt.get_cmap('gray'))  # Display the image with a grayscale colormap\n",
        "    plt.axis('off')                          # Turn off the axis labels\n",
        "    plt.show()                               # Display the plot\n"
      ]
    },
    {
      "cell_type": "code",
      "execution_count": 89,
      "metadata": {
        "colab": {
          "base_uri": "https://localhost:8080/",
          "height": 440
        },
        "id": "MHcVgfIdq_uo",
        "outputId": "c9dcdfda-b621-4ab4-fc0b-9ba8f013adb6"
      },
      "outputs": [
        {
          "output_type": "stream",
          "name": "stdout",
          "text": [
            "The sampled image represents: m\n"
          ]
        },
        {
          "output_type": "display_data",
          "data": {
            "text/plain": [
              "<Figure size 500x500 with 1 Axes>"
            ],
            "image/png": "[encoded data removed]"
          },
          "metadata": {}
        }
      ],
      "source": [
        "# Sample plot\n",
        "rnd_idx = np.random.randint(len(y_test))  # Generate a random index within the range of the test data\n",
        "print(f'The sampled image represents: {alphabet[int(y_test[rnd_idx])]}')\n",
        "plot_number(x_test_num[rnd_idx])"
      ]
    },
    {
      "cell_type": "markdown",
      "metadata": {
        "id": "Lzqbgj2yq_uo"
      },
      "source": [
        "### Ecuaciones para nuestro modelo\n",
        "\n",
        "\n",
        "$$z^1 = W^1 X + b^1$$\n",
        "\n",
        "$$a^1 = ReLU(z^1) $$\n",
        "\n",
        "$$z^2 = W^2 a^1 + b^2$$\n",
        "\n",
        "$$\\hat{y} = \\frac{e^{z^{2_k}}}{\\sum_j{e^{z_j}}}$$\n",
        "\n",
        "\n",
        "$$ \\mathcal{L}(\\hat{y}^{i}, y^{i}) =  - y^{i}  \\ln(\\hat{y}^{i}) = -\\ln(\\hat{y}^i)$$\n",
        "\n",
        "\n",
        "$$ \\mathcal{J}(w, b) =  \\frac{1}{num\\_samples} \\sum_{i=1}^{num\\_samples}-\\ln(\\hat{y}^{i})$$"
      ]
    },
    {
      "cell_type": "markdown",
      "metadata": {
        "id": "zYdfZ10hq_uo"
      },
      "source": [
        "### Funciones adicionales"
      ]
    },
    {
      "cell_type": "markdown",
      "metadata": {
        "id": "3j-0ifP8q_up"
      },
      "source": [
        "#### Mini batches"
      ]
    },
    {
      "cell_type": "code",
      "execution_count": 90,
      "metadata": {
        "id": "LfMojYpnq_up"
      },
      "outputs": [],
      "source": [
        "# Minibatch generator or Data sampler\n",
        "def create_minibatches(mb_size, x, y, shuffle=True):\n",
        "    '''\n",
        "    This function generates minibatches or samples from input data.\n",
        "\n",
        "    Parameters:\n",
        "    - mb_size: Mini-batch size, determining the number of samples in each minibatch.\n",
        "    - x: Input feature data.\n",
        "    - y: Corresponding labels.\n",
        "    - shuffle: Boolean flag to shuffle the data before sampling.\n",
        "\n",
        "    Returns:\n",
        "    - Generator for minibatches, each containing a mini-batch of feature data and labels.\n",
        "    '''\n",
        "    # Ensure that the input data has consistent shape\n",
        "    assert x.shape[0] == y.shape[0], 'Error: Inconsistent number of samples'\n",
        "    total_data = x.shape[0]\n",
        "\n",
        "    # Shuffle the data if the shuffle flag is set to True\n",
        "    if shuffle:\n",
        "        idxs = np.arange(total_data)\n",
        "        np.random.shuffle(idxs)\n",
        "        x = x[idxs]\n",
        "        y = y[idxs]\n",
        "\n",
        "    # Create and return a generator that yields minibatches of data\n",
        "    return ((x[i:i+mb_size], y[i:i+mb_size]) for i in range(0, total_data, mb_size))\n"
      ]
    },
    {
      "cell_type": "markdown",
      "metadata": {
        "id": "lX4OpVn-q_up"
      },
      "source": [
        "## Nuestra clase Linear, ReLU y Sequential"
      ]
    },
    {
      "cell_type": "code",
      "execution_count": 91,
      "metadata": {
        "id": "X9yelREUq_up"
      },
      "outputs": [],
      "source": [
        "# Custom class np_tensor to inherit from np.ndarray\n",
        "class np_tensor(np.ndarray): pass"
      ]
    },
    {
      "cell_type": "markdown",
      "metadata": {
        "id": "WOEsrpmvq_up"
      },
      "source": [
        "###  Clase Linear"
      ]
    },
    {
      "cell_type": "code",
      "execution_count": 157,
      "metadata": {
        "id": "w2ldqrm7q_up"
      },
      "outputs": [],
      "source": [
        "# Class for linear transformation with evaluation function for input and weights\n",
        "class Linear():\n",
        "    def __init__(self, input_size, output_size):\n",
        "        '''\n",
        "        Initialize parameters using Kaiming He initialization.\n",
        "        '''\n",
        "        # Initialize the weight matrix 'W' with Kaiming He initialization\n",
        "        self.W = (np.random.randn(output_size, input_size) / np.sqrt(input_size/2)).view(np_tensor)\n",
        "        # Initialize the bias vector 'b' with zeros\n",
        "        self.b = (np.zeros((output_size, 1))).view(np_tensor)\n",
        "    def __call__(self, X):\n",
        "        # Forward pass: Compute the linear transformation\n",
        "        Z = self.W @ X + self.b\n",
        "        return Z\n",
        "    def backward(self, X, Z):\n",
        "        # Backward pass: Compute gradients\n",
        "        # Compute the gradient of the input 'X'\n",
        "        X.grad = self.W.T @ Z.grad\n",
        "        # Compute the gradient of the weight matrix 'W'\n",
        "        self.W.grad = Z.grad @ X.T\n",
        "        # Compute the gradient of the bias vector 'b'\n",
        "        self.b.grad = np.sum(Z.grad, axis = 1, keepdims=True)"
      ]
    },
    {
      "cell_type": "markdown",
      "metadata": {
        "id": "rmjAwBvuq_up"
      },
      "source": [
        "### Clase ReLU"
      ]
    },
    {
      "cell_type": "code",
      "execution_count": 158,
      "metadata": {
        "id": "spnElpB9q_uw"
      },
      "outputs": [],
      "source": [
        "# Activation function: Rectified Linear Function (ReLU)\n",
        "class ReLU():\n",
        "    def __call__(self, Z):\n",
        "        return np.maximum(0, Z)\n",
        "    def backward(self, Z, A):\n",
        "        Z.grad = A.grad.copy()\n",
        "        Z.grad[Z <= 0] = 0"
      ]
    },
    {
      "cell_type": "markdown",
      "metadata": {
        "id": "4YiTfRjEq_uw"
      },
      "source": [
        "### Clase Sequential"
      ]
    },
    {
      "cell_type": "code",
      "execution_count": 159,
      "metadata": {
        "id": "fDlhJylfq_uw"
      },
      "outputs": [],
      "source": [
        "# Class that evaluates prediction and propagates corrections to weights and biases\n",
        "class Sequential_layers():\n",
        "    def __init__(self, layers):\n",
        "        '''\n",
        "        layers - lista que contiene objetos de tipo Linear, ReLU\n",
        "        '''\n",
        "        self.layers = layers\n",
        "        self.x = None\n",
        "        self.outputs = {}\n",
        "    def __call__(self, X):\n",
        "        self.x = X\n",
        "        self.outputs['l0'] = self.x\n",
        "        for i, layer in enumerate(self.layers, 1):\n",
        "            self.x = layer(self.x)\n",
        "            self.outputs['l'+str(i)]=self.x\n",
        "        return self.x\n",
        "    def backward(self):\n",
        "        for i in reversed(range(len(self.layers))):\n",
        "            self.layers[i].backward(self.outputs['l'+str(i)], self.outputs['l'+str(i+1)])\n",
        "    def update(self, learning_rate = 1e-3):\n",
        "        for layer in self.layers:\n",
        "            if isinstance(layer, ReLU): continue\n",
        "            layer.W = layer.W - learning_rate * layer.W.grad\n",
        "            layer.b = layer.b - learning_rate * layer.b.grad\n",
        "    def predict(self, X):\n",
        "        return np.argmax(self.__call__(X))"
      ]
    },
    {
      "cell_type": "markdown",
      "metadata": {
        "id": "dS0gwbSzq_uw"
      },
      "source": [
        "### Cost Function"
      ]
    },
    {
      "cell_type": "code",
      "execution_count": 160,
      "metadata": {
        "id": "HGHFhdieq_uw"
      },
      "outputs": [],
      "source": [
        "# Evaluation function to convert ouptuts to probabilities; softMax\n",
        "def softmaxXEntropy(x, y):\n",
        "    batch_size = x.shape[1]\n",
        "    exp_scores = np.exp(x)\n",
        "    probs = exp_scores / exp_scores.sum(axis=0)\n",
        "    preds = probs.copy()\n",
        "\n",
        "    # Convierte y en un arreglo 2D con una sola columna\n",
        "    y = y.reshape(1, -1)\n",
        "\n",
        "    # Costo\n",
        "    y_hat = probs[y.squeeze(), np.arange(batch_size)]\n",
        "    cost = np.sum(-np.log(y_hat)) / batch_size\n",
        "\n",
        "    # Calcular gradientes\n",
        "    probs[y.squeeze(), np.arange(batch_size)] -= 1  # dl/dx\n",
        "    x.grad = probs.copy()\n",
        "\n",
        "    return preds, cost"
      ]
    },
    {
      "cell_type": "markdown",
      "metadata": {
        "id": "hkUbA1Nbq_uw"
      },
      "source": [
        "### Loop de entrenamiento"
      ]
    },
    {
      "cell_type": "code",
      "execution_count": 161,
      "metadata": {
        "id": "gAgfvk6Aq_ux"
      },
      "outputs": [],
      "source": [
        "# Training Loop\n",
        "def train(model, epochs, mb_size=128, learning_rate = 1e-3):\n",
        "    for epoch in range(epochs):\n",
        "        for i, (x, y) in enumerate(create_minibatches(mb_size, x_train, y_train)):\n",
        "            scores = model(x.T.view(np_tensor))\n",
        "            _, cost = softmaxXEntropy(scores, y)\n",
        "            model.backward()\n",
        "            model.update(learning_rate)\n",
        "        print(f'costo: {cost}, accuracy: {accuracy(x_val, y_val, mb_size)}')"
      ]
    },
    {
      "cell_type": "markdown",
      "metadata": {
        "id": "uK3WqXZ5q_ux"
      },
      "source": [
        "### Create your model and train it"
      ]
    },
    {
      "cell_type": "code",
      "execution_count": 162,
      "metadata": {
        "id": "eqWn71zwq_ux"
      },
      "outputs": [],
      "source": [
        "# Evaluation metric; Accuracy\n",
        "def accuracy(x, y, mb_size):\n",
        "    correct = 0\n",
        "    total = 0\n",
        "    for i, (x, y) in enumerate(create_minibatches(mb_size, x, y)):\n",
        "        pred = model(x.T.view(np_tensor))\n",
        "        correct += np.sum(\n",
        "            np.argmax(pred, axis=0) == y.squeeze())\n",
        "        total += pred.shape[1]\n",
        "    return correct/total"
      ]
    },
    {
      "cell_type": "code",
      "execution_count": 163,
      "metadata": {
        "id": "R0iMkOQBq_ux"
      },
      "outputs": [],
      "source": [
        "# Model declaration with hyperparameters\n",
        "model = Sequential_layers([Linear(784, 200), ReLU(), Linear(200, 200), ReLU(), Linear(200, 24)])\n",
        "mb_size = 512\n",
        "learning_rate = 1e-4\n",
        "epochs = 40"
      ]
    },
    {
      "cell_type": "code",
      "execution_count": 164,
      "metadata": {
        "colab": {
          "base_uri": "https://localhost:8080/"
        },
        "id": "p0LzpNbGq_ux",
        "outputId": "4d967f28-1225-4830-f829-ba39236bab3a"
      },
      "outputs": [
        {
          "output_type": "stream",
          "name": "stdout",
          "text": [
            "costo: 1.166027374226476, accuracy: 0.569994422755159\n",
            "costo: 0.6253581189253773, accuracy: 0.6865588399330731\n",
            "costo: 0.323219310837513, accuracy: 0.7214166201896264\n",
            "costo: 0.1986376624322217, accuracy: 0.7403792526491912\n",
            "costo: 0.15867454311017237, accuracy: 0.7554378137200223\n",
            "costo: 0.11439550444930889, accuracy: 0.752649191299498\n",
            "costo: 0.08379969632357011, accuracy: 0.7571109871723368\n",
            "costo: 0.06524740165357239, accuracy: 0.7596207473508088\n",
            "costo: 0.053397113738699625, accuracy: 0.7596207473508088\n",
            "costo: 0.051893044456393804, accuracy: 0.7621305075292806\n",
            "costo: 0.040200658815515405, accuracy: 0.7635248187395427\n",
            "costo: 0.035238431658661286, accuracy: 0.7635248187395427\n",
            "costo: 0.0352799650187023, accuracy: 0.7607361963190185\n",
            "costo: 0.027064831772720118, accuracy: 0.7677077523703291\n",
            "costo: 0.025455616458538662, accuracy: 0.7640825432236475\n",
            "costo: 0.021898804238254875, accuracy: 0.7657557166759621\n",
            "costo: 0.021391088153406596, accuracy: 0.7671500278862242\n",
            "costo: 0.016685765675839275, accuracy: 0.7682654768544339\n",
            "costo: 0.01680806693796965, accuracy: 0.7699386503067485\n",
            "costo: 0.016309177130480162, accuracy: 0.7730061349693251\n",
            "costo: 0.016024862082480513, accuracy: 0.7710540992749582\n",
            "costo: 0.013709914498609985, accuracy: 0.7710540992749582\n",
            "costo: 0.01256108215047942, accuracy: 0.7749581706636921\n",
            "costo: 0.013468872020595496, accuracy: 0.771611823759063\n",
            "costo: 0.011336305183439678, accuracy: 0.7777467930842163\n",
            "costo: 0.011092685066092862, accuracy: 0.775515895147797\n",
            "costo: 0.0115796394394795, accuracy: 0.7771890686001115\n",
            "costo: 0.010364503866080574, accuracy: 0.7788622420524262\n",
            "costo: 0.007732473260663275, accuracy: 0.7783045175683212\n",
            "costo: 0.008566123260262877, accuracy: 0.779419966536531\n",
            "costo: 0.009292943505984669, accuracy: 0.7783045175683212\n",
            "costo: 0.006559291954561991, accuracy: 0.7791411042944786\n",
            "costo: 0.0070052580310511845, accuracy: 0.7805354155047407\n",
            "costo: 0.00751130720548808, accuracy: 0.7802565532626883\n",
            "costo: 0.007956769566911001, accuracy: 0.7802565532626883\n",
            "costo: 0.006483314010780863, accuracy: 0.7802565532626883\n",
            "costo: 0.006840887182751364, accuracy: 0.7796988287785834\n",
            "costo: 0.006021114977974615, accuracy: 0.7805354155047407\n",
            "costo: 0.0059303563703038496, accuracy: 0.7799776910206359\n",
            "costo: 0.006600774999075961, accuracy: 0.7805354155047407\n"
          ]
        }
      ],
      "source": [
        "# Training function for the declared model\n",
        "train(model, epochs, mb_size, learning_rate)"
      ]
    },
    {
      "cell_type": "code",
      "execution_count": 165,
      "metadata": {
        "colab": {
          "base_uri": "https://localhost:8080/"
        },
        "id": "vb6bOPb2q_ux",
        "outputId": "28b1f0f5-e024-47a9-e525-1366bbab4cc1"
      },
      "outputs": [
        {
          "output_type": "stream",
          "name": "stdout",
          "text": [
            "0.769659788064696\n"
          ]
        }
      ],
      "source": [
        "print(accuracy(x_test, y_test, mb_size))"
      ]
    },
    {
      "cell_type": "markdown",
      "metadata": {
        "id": "8rAF1EsPq_ux"
      },
      "source": [
        "### Test your model on Random data from your test set"
      ]
    },
    {
      "cell_type": "code",
      "execution_count": 169,
      "metadata": {
        "colab": {
          "base_uri": "https://localhost:8080/",
          "height": 440
        },
        "id": "Xb-J0eS4q_ux",
        "outputId": "833f8c5b-b572-4b3e-9c92-e4fbff8fe446"
      },
      "outputs": [
        {
          "output_type": "display_data",
          "data": {
            "text/plain": [
              "<Figure size 500x500 with 1 Axes>"
            ],
            "image/png": "[encoded data removed]"
          },
          "metadata": {}
        },
        {
          "output_type": "stream",
          "name": "stdout",
          "text": [
            "El valor predicho es: g, el valor real es: g\n"
          ]
        }
      ],
      "source": [
        "# Pick a random sample, evaluate and show results vs actual classification\n",
        "idx = np.random.randint(len(y_test))\n",
        "plot_number(x_test[idx].reshape(28,28))\n",
        "pred = model.predict(x_test[idx].reshape(-1, 1))\n",
        "print(f'El valor predicho es: {alphabet[int(pred)]}, el valor real es: {alphabet[int(y_test[idx])]}')"
      ]
    }
  ],
  "metadata": {
    "kernelspec": {
      "display_name": "Python 3 (ipykernel)",
      "language": "python",
      "name": "python3"
    },
    "language_info": {
      "codemirror_mode": {
        "name": "ipython",
        "version": 3
      },
      "file_extension": ".py",
      "mimetype": "text/x-python",
      "name": "python",
      "nbconvert_exporter": "python",
      "pygments_lexer": "ipython3",
      "version": "3.10.10"
    },
    "toc": {
      "base_numbering": 1,
      "nav_menu": {},
      "number_sections": true,
      "sideBar": true,
      "skip_h1_title": false,
      "title_cell": "Table of Contents",
      "title_sidebar": "Contents",
      "toc_cell": false,
      "toc_position": {},
      "toc_section_display": true,
      "toc_window_display": false
    },
    "varInspector": {
      "cols": {
        "lenName": 16,
        "lenType": 16,
        "lenVar": 40
      },
      "kernels_config": {
        "python": {
          "delete_cmd_postfix": "",
          "delete_cmd_prefix": "del ",
          "library": "var_list.py",
          "varRefreshCmd": "print(var_dic_list())"
        },
        "r": {
          "delete_cmd_postfix": ") ",
          "delete_cmd_prefix": "rm(",
          "library": "var_list.r",
          "varRefreshCmd": "cat(var_dic_list()) "
        }
      },
      "types_to_exclude": [
        "module",
        "function",
        "builtin_function_or_method",
        "instance",
        "_Feature"
      ],
      "window_display": false
    },
    "colab": {
      "provenance": [],
      "include_colab_link": true
    }
  },
  "nbformat": 4,
  "nbformat_minor": 0
}