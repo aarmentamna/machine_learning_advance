{
  "cells": [
    {
      "cell_type": "markdown",
      "metadata": {
        "id": "view-in-github",
        "colab_type": "text"
      },
      "source": [
        "<a href=\"https://colab.research.google.com/github/aarmentamna/machine_learning_advance/blob/main/TC5033_Activity3b_42.ipynb\" target=\"_parent\"><img src=\"https://colab.research.google.com/assets/colab-badge.svg\" alt=\"Open In Colab\"/></a>"
      ]
    },
    {
      "cell_type": "markdown",
      "source": [
        "\n",
        "## **Maestría en Inteligencia Artificial Aplicada**\n",
        "### **Curso: ADVANCED MACHINE LEARNING METHODS**\n",
        "## Tecnológico de Monterrey\n",
        "### Dr. José Antonio Cantoral Ceballos\n",
        "\n",
        "## Activity Week 7\n",
        "### Text Classification using RNNs and AG_NEWS dataset in PyTorch\n",
        "\n",
        "*TEAM MEMBERS:*\n",
        "\n",
        "*   Roberto Romero Vielma - A00822314\n",
        "*   José Javier Granados Hernández - A00556717\n",
        "*   Aquiles Yonatan Armenta Hernandez - A01793252\n",
        "*   Alan Avelino Fernández Juárez - A00989308"
      ],
      "metadata": {
        "id": "jOu04coLH_rV"
      },
      "id": "jOu04coLH_rV"
    },
    {
      "cell_type": "markdown",
      "id": "940c6dbc",
      "metadata": {
        "id": "940c6dbc"
      },
      "source": [
        "## TC 5033\n",
        "### Word Embeddings\n",
        "\n",
        "<br>\n",
        "\n",
        "#### Activity 3b: Text Classification using RNNs and AG_NEWS dataset in PyTorch\n",
        "<br>\n",
        "\n",
        "- Objective:\n",
        "    - Understand the basics of Recurrent Neural Networks (RNNs) and their application in text classification.\n",
        "    - Learn how to handle a real-world text dataset, AG_NEWS, in PyTorch.\n",
        "    - Gain hands-on experience in defining, training, and evaluating a text classification model in PyTorch.\n",
        "    \n",
        "<br>\n",
        "\n",
        "- Instructions:\n",
        "    - Data Preparation: Starter code will be provided that loads the AG_NEWS dataset and prepares it for training. Do not modify this part. However, you should be sure to understand it, and comment it, the use of markdown cells is suggested.\n",
        "\n",
        "    - Model Setup: A skeleton code for the RNN model class will be provided. Complete this class and use it to instantiate your model.\n",
        "\n",
        "    - Implementing Accuracy Function: Write a function that takes model predictions and ground truth labels as input and returns the model's accuracy.\n",
        "\n",
        "    - Training Function: Implement a function that performs training on the given model using the AG_NEWS dataset. Your model should achieve an accuracy of at least 80% to get full marks for this part.\n",
        "\n",
        "    - Text Sampling: Write a function that takes a sample text as input and classifies it using your trained model.\n",
        "\n",
        "    - Confusion Matrix: Implement a function to display the confusion matrix for your model on the test data.\n",
        "\n",
        "    - Submission: Submit your completed Jupyter Notebook. Make sure to include a markdown cell at the beginning of the notebook that lists the names of all team members. Teams should consist of 3 to 4 members.\n",
        "    \n",
        "<br>\n",
        "\n",
        "- Evaluation Criteria:\n",
        "\n",
        "    - Correct setup of all the required libraries and modules (10%)\n",
        "    - Code Quality (30%): Your code should be well-organized, clearly commented, and easy to follow. Use also markdown cells for clarity. Comments should be given for all the provided code, this will help you understand its functionality.\n",
        "    \n",
        "   - Functionality (60%):\n",
        "        - All the functions should execute without errors and provide the expected outputs.\n",
        "        - RNN model class (20%)\n",
        "        - Accuracy function (10%)\n",
        "        - Training function (10%)\n",
        "        - Sampling function (10%)\n",
        "        - Confucion matrix (10%)\n",
        "\n",
        "        - The model should achieve at least an 80% accuracy on the AG_NEWS test set for full marks in this criterion.\n"
      ]
    },
    {
      "cell_type": "markdown",
      "id": "4de318da",
      "metadata": {
        "id": "4de318da"
      },
      "source": [
        "Dataset\n",
        "\n",
        "https://pytorch.org/text/stable/datasets.html#text-classification\n",
        "\n",
        "https://paperswithcode.com/dataset/ag-news\n"
      ]
    },
    {
      "cell_type": "markdown",
      "id": "4a9801f9",
      "metadata": {
        "id": "4a9801f9"
      },
      "source": [
        "### Import libraries\n",
        "1. `import numpy as np`: The 'numpy' library is imported and aliased as 'np' for numerical operations.\n",
        "\n",
        "2. `import torch`: The PyTorch library is imported for deep learning tasks.\n",
        "\n",
        "3. `from torchtext.datasets import AG_NEWS`: The 'AG_NEWS' dataset is imported from the 'torchtext.datasets' module.\n",
        "\n",
        "4. `from torch.utils.data import DataLoader`: The 'DataLoader' class is imported from the 'torch.utils.data' module.\n",
        "\n",
        "5. `from torch.utils.data.dataset import random_split`: The 'random_split' function is imported from the 'torch.utils.data.dataset' module.\n",
        "\n",
        "6. `from torchtext.data.utils import get_tokenizer`: The 'get_tokenizer' function is imported from 'torchtext.data.utils'.\n",
        "\n",
        "7. `from torchtext.vocab import build_vocab_from_iterator`: The 'build_vocab_from_iterator' function is imported from 'torchtext.vocab'.\n",
        "\n",
        "8. `from torchtext.data.functional import to_map_style_dataset`: The 'to_map_style_dataset' function is imported from 'torchtext.data.functional'.\n",
        "\n",
        "9. `from torch import nn`: The 'nn' module from PyTorch is imported for building neural network layers.\n",
        "\n",
        "10. `from torch.nn import functional as F`: The 'F' module from 'torch.nn' is imported for functional operations in neural networks.\n",
        "\n",
        "11. `import scikitplot as skplt`: The 'scikitplot' library is imported and aliased as 'skplt.' This library is suggested for plotting confusion matrices.\n",
        "\n",
        "12. `import gc`: The 'gc' (garbage collector) module is imported for memory management and cleanup.\n",
        "\n",
        "The code prepares the environment by importing the required libraries, making them available for further tasks such as data preprocessing, model building, and evaluation, including the plotting of confusion matrices using 'scikitplot.'"
      ]
    },
    {
      "cell_type": "code",
      "source": [
        "# Install the 'scikit-plot' library using pip.\n",
        "!pip install scikit-plot\n",
        "\n",
        "# Install 'portalocker' library with a minimum version requirement of 2.0.0 using pip.\n",
        "!pip install portalocker>=2.0.0"
      ],
      "metadata": {
        "colab": {
          "base_uri": "https://localhost:8080/"
        },
        "id": "hul1RkPoJXD-",
        "outputId": "13e1d284-c07d-4885-f6dd-63984cb5317f"
      },
      "id": "hul1RkPoJXD-",
      "execution_count": 80,
      "outputs": [
        {
          "output_type": "stream",
          "name": "stdout",
          "text": [
            "Requirement already satisfied: scikit-plot in /usr/local/lib/python3.10/dist-packages (0.3.7)\n",
            "Requirement already satisfied: matplotlib>=1.4.0 in /usr/local/lib/python3.10/dist-packages (from scikit-plot) (3.7.1)\n",
            "Requirement already satisfied: scikit-learn>=0.18 in /usr/local/lib/python3.10/dist-packages (from scikit-plot) (1.2.2)\n",
            "Requirement already satisfied: scipy>=0.9 in /usr/local/lib/python3.10/dist-packages (from scikit-plot) (1.11.3)\n",
            "Requirement already satisfied: joblib>=0.10 in /usr/local/lib/python3.10/dist-packages (from scikit-plot) (1.3.2)\n",
            "Requirement already satisfied: contourpy>=1.0.1 in /usr/local/lib/python3.10/dist-packages (from matplotlib>=1.4.0->scikit-plot) (1.1.1)\n",
            "Requirement already satisfied: cycler>=0.10 in /usr/local/lib/python3.10/dist-packages (from matplotlib>=1.4.0->scikit-plot) (0.12.1)\n",
            "Requirement already satisfied: fonttools>=4.22.0 in /usr/local/lib/python3.10/dist-packages (from matplotlib>=1.4.0->scikit-plot) (4.43.1)\n",
            "Requirement already satisfied: kiwisolver>=1.0.1 in /usr/local/lib/python3.10/dist-packages (from matplotlib>=1.4.0->scikit-plot) (1.4.5)\n",
            "Requirement already satisfied: numpy>=1.20 in /usr/local/lib/python3.10/dist-packages (from matplotlib>=1.4.0->scikit-plot) (1.23.5)\n",
            "Requirement already satisfied: packaging>=20.0 in /usr/local/lib/python3.10/dist-packages (from matplotlib>=1.4.0->scikit-plot) (23.2)\n",
            "Requirement already satisfied: pillow>=6.2.0 in /usr/local/lib/python3.10/dist-packages (from matplotlib>=1.4.0->scikit-plot) (9.4.0)\n",
            "Requirement already satisfied: pyparsing>=2.3.1 in /usr/local/lib/python3.10/dist-packages (from matplotlib>=1.4.0->scikit-plot) (3.1.1)\n",
            "Requirement already satisfied: python-dateutil>=2.7 in /usr/local/lib/python3.10/dist-packages (from matplotlib>=1.4.0->scikit-plot) (2.8.2)\n",
            "Requirement already satisfied: threadpoolctl>=2.0.0 in /usr/local/lib/python3.10/dist-packages (from scikit-learn>=0.18->scikit-plot) (3.2.0)\n",
            "Requirement already satisfied: six>=1.5 in /usr/local/lib/python3.10/dist-packages (from python-dateutil>=2.7->matplotlib>=1.4.0->scikit-plot) (1.16.0)\n"
          ]
        }
      ]
    },
    {
      "cell_type": "code",
      "execution_count": 81,
      "id": "878b524f",
      "metadata": {
        "id": "878b524f"
      },
      "outputs": [],
      "source": [
        "import numpy as np # Import the 'numpy' library and alias it as 'np' for numerical operations.\n",
        "\n",
        "# PyTorch libraries\n",
        "import torch # Import the PyTorch library for deep learning tasks.\n",
        "from torchtext.datasets import AG_NEWS # Import the 'AG_NEWS' dataset from the 'torchtext.datasets' module.\n",
        "\n",
        "# Dataloader library\n",
        "from torch.utils.data import DataLoader # Import the 'DataLoader' class from the 'torch.utils.data' module.\n",
        "from torch.utils.data.dataset import random_split # Import the 'random_split' function from the 'torch.utils.data.dataset' module.\n",
        "\n",
        "# Libraries to prepare the data\n",
        "from torchtext.data.utils import get_tokenizer # Import the 'get_tokenizer' function from 'torchtext.data.utils'.\n",
        "from torchtext.vocab import build_vocab_from_iterator # Import 'build_vocab_from_iterator' function from 'torchtext.vocab'.\n",
        "from torchtext.data.functional import to_map_style_dataset # Import the 'to_map_style_dataset' function from 'torchtext.data.functional'.\n",
        "\n",
        "\n",
        "# Neural Layers\n",
        "from torch import nn # Import the 'nn' module from PyTorch for building neural network layers.\n",
        "from torch.nn import functional as F # Import the 'F' module from 'torch.nn' for functional operations in neural networks.\n",
        "\n",
        "# Plot a confusion matrix\n",
        "import scikitplot as skplt # Import the 'scikitplot' library and alias it as 'skplt' for confusion matrix plotting.\n",
        "\n",
        "import gc # Import the 'gc' (garbage collector) module for memory management and cleanup.\n"
      ]
    },
    {
      "cell_type": "code",
      "execution_count": 82,
      "id": "3bab55f3",
      "metadata": {
        "colab": {
          "base_uri": "https://localhost:8080/"
        },
        "id": "3bab55f3",
        "outputId": "127feb72-643c-4335-d06e-1e0a6f81b3c0"
      },
      "outputs": [
        {
          "output_type": "stream",
          "name": "stdout",
          "text": [
            "cuda\n"
          ]
        }
      ],
      "source": [
        "# Check if a CUDA-compatible GPU is available; if yes, use CUDA, otherwise, use CPU\n",
        "device = torch.device(\"cuda\" if torch.cuda.is_available() else \"cpu\")\n",
        "\n",
        "# Print the selected device (CUDA or CPU)\n",
        "print(device)"
      ]
    },
    {
      "cell_type": "markdown",
      "id": "3d38956d",
      "metadata": {
        "id": "3d38956d"
      },
      "source": [
        "### Get the train and the test datasets and dataloaders\n",
        "The following code demonstrates various steps in data preprocessing and dataset splitting for a machine learning or deep learning task.\n",
        "\n",
        "#### Data Loading and Dataset Splitting\n",
        "\n",
        "1. **Load the AG_NEWS dataset and Split:** Initially, the AG_NEWS dataset is loaded and then split into two datasets: `train_dataset` and `test_dataset`.\n",
        "\n",
        "2. **Convert to Map-Style Datasets:** Both the training and testing datasets are converted to map-style datasets using the `to_map_style_dataset` function. Map-style datasets are a common format for data processing in PyTorch.\n",
        "\n",
        "#### Tokenization and Vocabulary Building\n",
        "\n",
        "3. **Tokenization Setup:** A tokenizer is defined using the 'basic_english' configuration, which is suitable for processing English text.\n",
        "\n",
        "4. **Token Yielding Function:** A function named `yield_tokens` is defined to extract tokens from the given data. It iterates through the data and tokenizes the text using the `tokeniser`.\n",
        "\n",
        "5. **Vocabulary Building:** A vocabulary is built from the tokens yielded by the `yield_tokens` function, with the special token \"<unk>\" used to represent unknown words. The vocabulary is created using the `build_vocab_from_iterator` function.\n",
        "\n",
        "6. **Default Index Set:** The default index of the vocabulary is set to \"<unk>\" to handle out-of-vocabulary words. If a token is not found in the vocabulary, it defaults to \"<unk>.\"\n",
        "\n",
        "#### Tokenization and Data Splitting\n",
        "\n",
        "7. **Tokenization of Input Text:** The input text, \"Welcome to TE3007,\" is tokenized using the 'tokeniser.'\n",
        "\n",
        "8. **Validation Dataset Size Calculation:** The code calculates the number of samples for the training and validation datasets. It reserves 90% of the data for training and assigns the remaining for validation.\n",
        "\n",
        "9. **Training and Validation Split:** The training dataset is split into two sets, `train_dataset` (containing `NUM_TRAIN` samples for training) and `val_dataset` (containing `NUM_VAL` samples for validation).\n",
        "\n",
        "#### Dataset Lengths\n",
        "\n",
        "10. **Dataset Lengths:** Finally, the lengths of the training, validation, and test datasets are printed to provide insights into the size of each dataset. This information is crucial for data preparation and model training.\n",
        "\n",
        "This code demonstrates essential steps in data preprocessing, including tokenization, vocabulary building, and dataset splitting, to prepare the data for subsequent deep learning tasks."
      ]
    },
    {
      "cell_type": "markdown",
      "id": "e9c6b784",
      "metadata": {
        "id": "e9c6b784"
      },
      "source": [
        "Classes:\n",
        "\n",
        "* 1 - World\n",
        "\n",
        "* 2 - Sports\n",
        "\n",
        "* 3 - Business\n",
        "\n",
        "* 4 - Sci/Tech\n",
        "\n",
        "We will convert them to:\n",
        "\n",
        "* 0 - World\n",
        "\n",
        "* 1 - Sports\n",
        "\n",
        "* 2 - Business\n",
        "\n",
        "* 3 - Sci/Tech"
      ]
    },
    {
      "cell_type": "code",
      "execution_count": 83,
      "id": "49fbed19",
      "metadata": {
        "id": "49fbed19"
      },
      "outputs": [],
      "source": [
        "# Load the AG_NEWS dataset and split it into training and testing datasets\n",
        "train_dataset, test_dataset = AG_NEWS()\n",
        "# Convert the datasets to map-style datasets\n",
        "train_dataset, test_dataset = to_map_style_dataset(train_dataset), to_map_style_dataset(test_dataset)"
      ]
    },
    {
      "cell_type": "code",
      "execution_count": 84,
      "id": "9c372eb9",
      "metadata": {
        "id": "9c372eb9"
      },
      "outputs": [],
      "source": [
        "# Define a tokenizer using the 'basic_english' configuration\n",
        "tokeniser = get_tokenizer('basic_english')\n",
        "\n",
        "# Define a function to yield tokens from the given data\n",
        "def yield_tokens(data):\n",
        "    for _, text in data:\n",
        "        # Tokenize the text using the previously defined 'tokeniser'\n",
        "        yield tokeniser(text)"
      ]
    },
    {
      "cell_type": "code",
      "execution_count": 85,
      "id": "794d0375",
      "metadata": {
        "id": "794d0375"
      },
      "outputs": [],
      "source": [
        "# Build a vocabulary from the tokens yielded by the 'yield_tokens' function on the training dataset\n",
        "vocab = build_vocab_from_iterator(yield_tokens(train_dataset), specials=[\"<unk>\"])\n",
        "# The 'specials' argument specifies special tokens, and \"<unk>\" is used for unknown words.\n",
        "\n",
        "# Set the default index of the vocabulary to \"<unk>\" (unknown) token\n",
        "vocab.set_default_index(vocab[\"<unk>\"])\n",
        "# This ensures that if a token is not found in the vocabulary, it defaults to \"<unk>\" for handling out-of-vocabulary words."
      ]
    },
    {
      "cell_type": "code",
      "execution_count": 86,
      "id": "b48268d4",
      "metadata": {
        "colab": {
          "base_uri": "https://localhost:8080/"
        },
        "id": "b48268d4",
        "outputId": "59b3da2a-0466-4ac8-e4f8-1c064e42bf66"
      },
      "outputs": [
        {
          "output_type": "stream",
          "name": "stdout",
          "text": [
            "['welcome', 'to', 'te3007'] [3314, 4, 0]\n"
          ]
        }
      ],
      "source": [
        "# Tokenize the input text using the 'tokeniser'\n",
        "tokens = tokeniser('Welcome to TE3007')\n",
        "# Print the original tokens and their corresponding indices\n",
        "print(tokens, vocab(tokens))"
      ]
    },
    {
      "cell_type": "code",
      "execution_count": 87,
      "id": "c8c8f6a6",
      "metadata": {
        "id": "c8c8f6a6"
      },
      "outputs": [],
      "source": [
        "# Calculate the number of samples for the training dataset by taking 90% of the entire dataset.\n",
        "NUM_TRAIN = int(len(train_dataset) * 0.9)\n",
        "\n",
        "# Calculate the number of samples for the validation dataset by subtracting the training dataset size from the total dataset size.\n",
        "NUM_VAL = len(train_dataset) - NUM_TRAIN"
      ]
    },
    {
      "cell_type": "code",
      "execution_count": 88,
      "id": "8290895e",
      "metadata": {
        "id": "8290895e"
      },
      "outputs": [],
      "source": [
        "# Split the training dataset into training and validation datasets\n",
        "train_dataset, val_dataset = random_split(train_dataset, [NUM_TRAIN, NUM_VAL])\n",
        "\n",
        "# 'train_dataset' now contains NUM_TRAIN samples for training.\n",
        "# 'val_dataset' now contains NUM_VAL samples for validation."
      ]
    },
    {
      "cell_type": "code",
      "execution_count": 89,
      "id": "cbc75b54",
      "metadata": {
        "colab": {
          "base_uri": "https://localhost:8080/"
        },
        "id": "cbc75b54",
        "outputId": "c42333f6-1da5-4cfd-ab3e-2ec974206192"
      },
      "outputs": [
        {
          "output_type": "stream",
          "name": "stdout",
          "text": [
            "108000 12000 7600\n"
          ]
        }
      ],
      "source": [
        "# Print the lengths of the training, validation, and test datasets\n",
        "print(len(train_dataset), len(val_dataset), len(test_dataset))"
      ]
    },
    {
      "cell_type": "markdown",
      "source": [
        "### Batch Collation Function\n",
        "\n",
        "1. **Splitting Labels and Text Data:** The function starts by receiving a batch of data. It separates the labels (y) and text data (x) using the `list(zip(*batch))` operation.\n",
        "\n",
        "2. **Tokenization and Numerical Conversion:** It then tokenizes the text data using a previously defined tokenizer (`tokeniser`) and converts the tokens to numerical representations using a vocabulary (`vocab`).\n",
        "\n",
        "3. **Padding and Truncation:** To ensure that all sequences have the same length for efficient processing, the function checks the length of each sequence. If a sequence is shorter than a predefined maximum length (`max_tokens`), it is padded with zeros to match the maximum length. If it's longer, it's truncated to the maximum length.\n",
        "\n",
        "4. **Data Type Conversion:** Finally, the function converts the processed data into PyTorch tensors. The text data is represented as a tensor with data type `torch.int32`, and the labels are adjusted by subtracting 1 from them and represented as tensors with the same data type."
      ],
      "metadata": {
        "id": "RdKyl2j65pg6"
      },
      "id": "RdKyl2j65pg6"
    },
    {
      "cell_type": "code",
      "execution_count": 90,
      "id": "ffdbf077",
      "metadata": {
        "id": "ffdbf077"
      },
      "outputs": [],
      "source": [
        "# Define a function for batch collation\n",
        "def collate_batch(batch):\n",
        "    # Split the batch into labels (y) and text data (x)\n",
        "    y, x = list(zip(*batch))\n",
        "\n",
        "    # Tokenize the text data and convert to numerical representations using the vocabulary\n",
        "    x = [vocab(tokeniser(text)) for text in x]\n",
        "\n",
        "    # Pad or truncate sequences to a maximum length (max_tokens)\n",
        "    x = [t + ([0] * (max_tokens - len(t))) if len(t) < max_tokens else t[:max_tokens] for t in x]\n",
        "\n",
        "    # Convert the tokenized and padded/truncated sequences to PyTorch tensors\n",
        "    return torch.tensor(x, dtype=torch.int32), torch.tensor(y, dtype=torch.int32) - 1"
      ]
    },
    {
      "cell_type": "code",
      "execution_count": 91,
      "id": "5eb459c7",
      "metadata": {
        "id": "5eb459c7"
      },
      "outputs": [],
      "source": [
        "# Define a list of labels for the AG_NEWS dataset\n",
        "labels = [\"World\", \"Sports\", \"Business\", \"Sci/Tech\"]\n",
        "\n",
        "# Define the maximum number of tokens allowed in a sequence\n",
        "max_tokens = 50\n",
        "\n",
        "# Define the batch size for training and data processing\n",
        "BATCH_SIZE = 256"
      ]
    },
    {
      "cell_type": "code",
      "execution_count": 92,
      "id": "0a55e6ee",
      "metadata": {
        "id": "0a55e6ee"
      },
      "outputs": [],
      "source": [
        "# Create a DataLoader for the training dataset with a specified batch size and data processing function\n",
        "train_loader = DataLoader(train_dataset, batch_size=BATCH_SIZE, collate_fn=collate_batch, shuffle=True)\n",
        "\n",
        "# Create a DataLoader for the validation dataset with the same batch size and processing function\n",
        "val_loader = DataLoader(val_dataset, batch_size=BATCH_SIZE, collate_fn=collate_batch, shuffle=True)\n",
        "\n",
        "# Create a DataLoader for the test dataset with the same batch size and processing function\n",
        "test_loader = DataLoader(test_dataset, batch_size=BATCH_SIZE, collate_fn=collate_batch, shuffle=True)"
      ]
    },
    {
      "cell_type": "markdown",
      "id": "47b98898",
      "metadata": {
        "id": "47b98898"
      },
      "source": [
        "### Let us build our RNN model\n",
        "The following code defines a custom recurrent neural network (RNN) model class named `RNN_Model_1` for sequence classification tasks.\n",
        "\n",
        "#### Model Architecture\n",
        "\n",
        "1. **Initialization:** In the constructor (`__init__`), the model is initialized with the following parameters:\n",
        "    - `embed_size`: The size of the word embedding vectors.\n",
        "    - `hidden`: The number of hidden units in the RNN layer.\n",
        "    - `layers`: The number of stacked RNN layers.\n",
        "    - `num_classes`: The number of classes in the classification task.\n",
        "\n",
        "2. **Embedding Layer:** An embedding layer is created using the `nn.Embedding` module. This layer converts input tokens to dense vectors. The `num_embeddings` parameter is set to the length of the vocabulary (`len(vocab)`) to match the vocabulary size, and the `embedding_dim` is set to the specified `embed_size`.\n",
        "\n",
        "3. **RNN (GRU) Layer:** An RNN layer, specifically a Gated Recurrent Unit (GRU) layer, is created using `nn.GRU`. It takes the embedded input and processes it through recurrent layers. The `input_size` is set to `embed_size`, the `hidden_size` to `hidden`, the `num_layers` to `layers`, and `batch_first` is set to `True`.\n",
        "\n",
        "4. **Fully Connected Layer:** A fully connected layer is created using `nn.Linear`. It is used for the final classification. The `input_size` is `hidden`, and the `output_size` is `num_classes`.\n",
        "\n",
        "### Forward Pass\n",
        "\n",
        "The `forward` method specifies how data is passed through the model:\n",
        "1. The input `x` is first cast to `torch.int64` to ensure the correct data type.\n",
        "2. The input sequence is embedded using the previously defined embedding layer.\n",
        "3. The embedded sequence is passed through the GRU layer to capture sequential information.\n",
        "4. The output from the RNN layer is extracted from the last time step.\n",
        "5. Finally, the output is passed through the fully connected layer for classification.\n",
        "\n",
        "This model architecture is designed for sequence classification tasks, such as text classification, where the input sequence is processed to make class predictions.\n"
      ]
    },
    {
      "cell_type": "code",
      "execution_count": 93,
      "id": "50f20793",
      "metadata": {
        "id": "50f20793"
      },
      "outputs": [],
      "source": [
        "# Define the embedding size for word embeddings in the model\n",
        "EMBEDDING_SIZE = 100\n",
        "\n",
        "# Define the number of neurons in each hidden layer of the neural network\n",
        "NEURONS = 64\n",
        "\n",
        "# Define the number of layers in the neural network\n",
        "LAYERS = 2\n",
        "\n",
        "# Define the number of classes in the classification task\n",
        "NUM_CLASSES = len(labels)"
      ]
    },
    {
      "cell_type": "code",
      "execution_count": 94,
      "id": "0f7f5621",
      "metadata": {
        "id": "0f7f5621"
      },
      "outputs": [],
      "source": [
        "# Define a custom RNN model class (RNN_Model_1)\n",
        "class RNN_Model_1(nn.Module):\n",
        "    def __init__(self, embed_size, hidden, layers, num_classes):\n",
        "        super().__init__()\n",
        "\n",
        "        # Create an embedding layer for converting input tokens to dense vectors\n",
        "        self.embedding_layer = nn.Embedding(num_embeddings=len(vocab),\n",
        "                                            embedding_dim=embed_size)\n",
        "        # 'vocab' should be defined previously and represents the vocabulary for the dataset.\n",
        "\n",
        "        # Create an RNN (GRU) layer for sequence processing\n",
        "        self.rnn = nn.GRU(input_size=embed_size, hidden_size=hidden, num_layers=layers, batch_first=True)\n",
        "\n",
        "        # Create a fully connected layer for classification\n",
        "        self.fc = nn.Linear(hidden, num_classes)\n",
        "\n",
        "    def forward(self, x):\n",
        "        x = x.to(torch.int64)  # Ensure the input is of type 'torch.int64'\n",
        "\n",
        "        # Embed the input sequence\n",
        "        embedded = self.embedding_layer(x)\n",
        "\n",
        "        # Pass the embedded sequence through the RNN layer\n",
        "        output, _ = self.rnn(embedded)\n",
        "\n",
        "        # Extract the output at the last time step of the sequence\n",
        "        output = output[:, -1, :]\n",
        "\n",
        "        # Pass the output through the fully connected layer for classification\n",
        "        output = self.fc(output)\n",
        "\n",
        "        return output"
      ]
    },
    {
      "cell_type": "markdown",
      "source": [
        "### Accuracy\n",
        "\n",
        "The code below defines a function named `accuracy` for calculating the accuracy of a given model on a specified data loader. The function returns the accuracy as a floating-point value.\n",
        "\n",
        "#### Accuracy Calculation\n",
        "\n",
        "1. **Initialization:** Inside the `accuracy` function, two variables are initialized:\n",
        "   - `num_correct`: A counter for the number of correctly predicted instances.\n",
        "   - `num_total`: A counter for the total number of instances.\n",
        "\n",
        "2. **Model Evaluation:** The model is set to evaluation mode using `model.eval()`. This is important for ensuring that layers like dropout and batch normalization behave differently during evaluation compared to training.\n",
        "\n",
        "3. **Device Configuration:** The model is moved to the specified device (e.g., GPU or CPU) using `model.to(device=device)` to ensure that calculations are performed on the selected device.\n",
        "\n",
        "4. **Accuracy Computation:** The function iterates through the data loader. For each batch of data:\n",
        "   - The input (`x`) and target labels (`y`) are moved to the same device as the model with appropriate data types.\n",
        "   - The model is used to predict scores for the input data (`scores`).\n",
        "   - The predictions with the highest scores are obtained using `scores.max(dim=1)`.\n",
        "   - Correct predictions are counted by comparing the predictions to the true labels (`y`), and the number of correct predictions is added to `num_correct`.\n",
        "   - The total number of instances in the batch is added to `num_total`.\n",
        "\n",
        "5. **Accuracy Calculation:** The final accuracy is computed by dividing the number of correct predictions (`num_correct`) by the total number of instances (`num_total`). The result is returned as a floating-point value.\n"
      ],
      "metadata": {
        "id": "rMov-QDX8Bgx"
      },
      "id": "rMov-QDX8Bgx"
    },
    {
      "cell_type": "code",
      "execution_count": 95,
      "id": "2a42613f",
      "metadata": {
        "code_folding": [],
        "id": "2a42613f"
      },
      "outputs": [],
      "source": [
        "# Define a function for calculating the accuracy of a given model on a specified data loader\n",
        "def accuracy(model, loader):\n",
        "    num_correct = 0  # Initialize a counter for the number of correctly predicted instances\n",
        "    num_total = 0  # Initialize a counter for the total number of instances\n",
        "\n",
        "    model.eval()  # Set the model to evaluation mode\n",
        "    model = model.to(device=device)  # Move the model to the specified device\n",
        "\n",
        "    with torch.no_grad():  # Disable gradient tracking during inference\n",
        "        for x, y in loader:  # Iterate through the data loader\n",
        "            x = x.to(device=device, dtype=torch.float32)  # Move input data to the device with the appropriate data type\n",
        "            y = y.to(device=device, dtype=torch.long)  # Move target labels to the device with the appropriate data type\n",
        "            scores = model(x)  # Use the model to predict scores for the input data\n",
        "            _, predictions = scores.max(dim=1)  # Find the class with the highest score for each instance\n",
        "            num_correct += (predictions == y).sum()  # Count the number of correct predictions in the batch\n",
        "            num_total += predictions.size(0)  # Add the total number of instances in the batch to the counter\n",
        "\n",
        "    return float(num_correct / num_total)  # Compute and return the accuracy as a floating-point value"
      ]
    },
    {
      "cell_type": "markdown",
      "source": [
        "### Training\n",
        "\n",
        "The following code defines a training function for deep learning model. This function is responsible for training the model over multiple epochs using the specified data loader and optimizing the model's parameters using an optimizer.\n",
        "\n",
        "### Function Overview\n",
        "\n",
        "The `train` function has the following components:\n",
        "\n",
        "1. **Model and Device Configuration:**\n",
        "   - The function starts by moving the model to the specified device (CPU or GPU) using `model.to(device=device)`. This ensures that all computations occur on the selected hardware.\n",
        "   \n",
        "2. **Epochs Loop:**\n",
        "   - The training process is executed for a specified number of training epochs. The outer loop iterates over each epoch using `for epoch in range(epochs)`.\n",
        "\n",
        "3. **Data Loading:**\n",
        "   - Within each epoch, the inner loop iterates over the training data using `for i, (x, y) in enumerate(train_loader)`. This loop allows the model to process the entire training dataset in batches.\n",
        "\n",
        "4. **Training Mode:**\n",
        "   - The model is set in training mode with `model.train()`. This is necessary to enable gradient computation and backpropagation during training.\n",
        "\n",
        "5. **Data Preparation:**\n",
        "   - Input data (`x`) is moved to the specified device with the appropriate data type (`dtype=torch.float32`), and target labels (`y`) are also moved to the device with the appropriate data type (`dtype=torch.long`).\n",
        "\n",
        "6. **Forward Pass and Loss Computation:**\n",
        "   - The model is used to predict scores for the input data (`scores`).\n",
        "   - The cross-entropy loss is computed using `F.cross_entropy`. This loss quantifies the error between predicted scores and true labels.\n",
        "\n",
        "7. **Gradient Computation:**\n",
        "   - The gradients are cleared to prevent gradient accumulation with `optimiser.zero_grad()`.\n",
        "   - Backpropagation is performed using `cost.backward()` to compute gradients.\n",
        "\n",
        "8. **Parameter Update:**\n",
        "   - The model's parameters are updated using the optimizer (`optimiser`) with `optimiser.step()`.\n",
        "\n",
        "9. **Validation and Logging:**\n",
        "   - After each epoch, the accuracy of the model on the validation set is calculated using the `accuracy` function.\n",
        "   - Training statistics such as the current epoch, cost (loss), and accuracy are printed to monitor the training progress using `print(f'Epoch: {epoch}, cost: {cost.item()}, accuracy: {acc}.')`.\n",
        "\n",
        "This `train` function is a fundamental component for training machine learning models. It encapsulates the process of forward and backward passes, parameter updates, and performance monitoring over multiple training epochs.\n"
      ],
      "metadata": {
        "id": "UMYUBCi38p4M"
      },
      "id": "UMYUBCi38p4M"
    },
    {
      "cell_type": "code",
      "execution_count": 96,
      "id": "5e843e1f",
      "metadata": {
        "code_folding": [],
        "id": "5e843e1f"
      },
      "outputs": [],
      "source": [
        "# Define a training function for a machine learning model.\n",
        "def train(model, optimizer, epochs=100):\n",
        "    model = model.to(device=device)  # Move the model to the specified device (CPU or GPU).\n",
        "\n",
        "    for epoch in range(epochs):  # Iterate over the specified number of training epochs.\n",
        "        for i, (x, y) in enumerate(train_loader):  # Loop through the training data.\n",
        "            model.train()  # Set the model in training mode to enable gradient computation.\n",
        "            x = x.to(device=device, dtype=torch.float32)  # Move input data to the specified device with the appropriate data type.\n",
        "            y = y.to(device=device, dtype=torch.long)  # Move target labels to the specified device with the appropriate data type.\n",
        "            scores = model(x)  # Get the model's predicted scores.\n",
        "            cost = F.cross_entropy(input=scores, target=y)  # Calculate the cross-entropy loss.\n",
        "            optimizer.zero_grad()  # Zero the gradients to prevent gradient accumulation.\n",
        "            cost.backward()  # Perform backpropagation to compute gradients.\n",
        "            optimizer.step()  # Update model parameters using the optimizer.\n",
        "\n",
        "        acc = accuracy(model, val_loader)  # Calculate the accuracy of the model on the validation set.\n",
        "        print(f'Epoch: {epoch+1}/{epochs}, Loss: {cost.item()}, Accuracy: {acc}') # Print training statistics including the current epoch, loss, and accuracy on the validation set."
      ]
    },
    {
      "cell_type": "code",
      "execution_count": 97,
      "id": "87775b29",
      "metadata": {
        "id": "87775b29"
      },
      "outputs": [],
      "source": [
        "# Set the number of training epochs to 20 for model training.\n",
        "epochs = 20\n",
        "\n",
        "# Set the learning rate (lr) to 0.001 for the Adam optimizer.\n",
        "lr = 0.001\n",
        "\n",
        "# Create an instance of the RNN model (RNN_Model_1) with specified parameters.\n",
        "rnn_model = RNN_Model_1(EMBEDDING_SIZE, NEURONS, LAYERS, NUM_CLASSES)\n",
        "\n",
        "# Initialize the optimizer (Adam) for updating the model's parameters with the specified learning rate (lr).\n",
        "optimiser = torch.optim.Adam(rnn_model.parameters(), lr=lr)"
      ]
    },
    {
      "cell_type": "code",
      "execution_count": 98,
      "id": "aec12a1b",
      "metadata": {
        "scrolled": true,
        "colab": {
          "base_uri": "https://localhost:8080/"
        },
        "id": "aec12a1b",
        "outputId": "ee618499-5c9c-4611-fb4a-cfa8e3d44a12"
      },
      "outputs": [
        {
          "output_type": "stream",
          "name": "stdout",
          "text": [
            "Epoch: 1/20, Loss: 0.3658716678619385, Accuracy: 0.8713333010673523\n",
            "Epoch: 2/20, Loss: 0.314387708902359, Accuracy: 0.8968333005905151\n",
            "Epoch: 3/20, Loss: 0.23309548199176788, Accuracy: 0.9011666774749756\n",
            "Epoch: 4/20, Loss: 0.19882424175739288, Accuracy: 0.9112499952316284\n",
            "Epoch: 5/20, Loss: 0.10361933708190918, Accuracy: 0.9121666550636292\n",
            "Epoch: 6/20, Loss: 0.14485107362270355, Accuracy: 0.9082499742507935\n",
            "Epoch: 7/20, Loss: 0.06399103254079819, Accuracy: 0.9049166440963745\n",
            "Epoch: 8/20, Loss: 0.08748035877943039, Accuracy: 0.9053333401679993\n",
            "Epoch: 9/20, Loss: 0.03201404586434364, Accuracy: 0.9059166312217712\n",
            "Epoch: 10/20, Loss: 0.020157337188720703, Accuracy: 0.906000018119812\n",
            "Epoch: 11/20, Loss: 0.021070091053843498, Accuracy: 0.9016666412353516\n",
            "Epoch: 12/20, Loss: 0.044280149042606354, Accuracy: 0.9047499895095825\n",
            "Epoch: 13/20, Loss: 0.01573999784886837, Accuracy: 0.9005833268165588\n",
            "Epoch: 14/20, Loss: 0.02248699590563774, Accuracy: 0.8989999890327454\n",
            "Epoch: 15/20, Loss: 0.03896326944231987, Accuracy: 0.9054166674613953\n",
            "Epoch: 16/20, Loss: 0.017486190423369408, Accuracy: 0.9052500128746033\n",
            "Epoch: 17/20, Loss: 0.014792737551033497, Accuracy: 0.9021666646003723\n",
            "Epoch: 18/20, Loss: 0.04991108551621437, Accuracy: 0.903416633605957\n",
            "Epoch: 19/20, Loss: 0.003922170493751764, Accuracy: 0.9028333425521851\n",
            "Epoch: 20/20, Loss: 0.02203693613409996, Accuracy: 0.9002500176429749\n"
          ]
        }
      ],
      "source": [
        "# Train the RNN model using the provided optimizer and the specified number of training epochs.\n",
        "train(rnn_model, optimiser, epochs)"
      ]
    },
    {
      "cell_type": "code",
      "execution_count": 104,
      "id": "7a3ef175",
      "metadata": {
        "colab": {
          "base_uri": "https://localhost:8080/"
        },
        "id": "7a3ef175",
        "outputId": "981dab09-1559-4be6-c388-53cdb8f8b143"
      },
      "outputs": [
        {
          "output_type": "stream",
          "name": "stdout",
          "text": [
            "accuracy: 0.8962\n"
          ]
        }
      ],
      "source": [
        "# Print and display the test accuracy of the trained RNN model on the test dataset with four decimal places.\n",
        "print(f'accuracy: {accuracy(rnn_model, test_loader):.4f}')"
      ]
    },
    {
      "cell_type": "markdown",
      "source": [
        "### **Sample_text Function**\n",
        "\n",
        "The `sample_text` function is designed to classify a sample text using a previously trained model. The following details its functionality:\n",
        "\n",
        "#### Input Parameters:\n",
        "\n",
        "- `model`: The pre-trained model to be used for classification.\n",
        "- `loader`: The data loader that contains necessary information, such as vocabulary and device settings, for processing the sample text.\n",
        "- `sample_text`: The text to be classified.\n",
        "\n",
        "#### Flow of Operation:\n",
        "\n",
        "1. **Evaluation Mode:** The function begins by setting the model to evaluation mode using `model.eval()`. This ensures that the model does not make parameter adjustments during classification.\n",
        "\n",
        "2. **Tokenization:** The sample text is tokenized using the same tokenizer that was used during training. This ensures that the sample text is processed in the same way as the training data.\n",
        "\n",
        "3. **Conversion to Tensor:** Tokens generated from the sample text are converted into a tensor and moved to the same device as the model using `torch.tensor([vocab(tokens)], dtype=torch.int64).to(device=device)`. This is necessary for the model to make predictions on the same device.\n",
        "\n",
        "4. **Class Prediction:** The function uses the model to predict scores for the sample text. The scores represent the probability of belonging to each class. The class with the highest score (argmax) is sought to determine the predicted class.\n",
        "\n",
        "5. **Output:** The function returns the index of the predicted class as the result, allowing the identification of the class to which the sample text is assigned."
      ],
      "metadata": {
        "id": "U77ZexAhBPpl"
      },
      "id": "U77ZexAhBPpl"
    },
    {
      "cell_type": "code",
      "execution_count": 100,
      "id": "ed30693d",
      "metadata": {
        "id": "ed30693d"
      },
      "outputs": [],
      "source": [
        "def sample_text(model, loader, sample_text):\n",
        "    model.eval()  # Set the model in evaluation mode.\n",
        "\n",
        "    # Tokenize the sample text using the same tokenizer used for training.\n",
        "    tokens = get_tokenizer('basic_english')(sample_text)\n",
        "\n",
        "    # Convert tokens to a tensor and move it to the same device as the model.\n",
        "    input_tensor = torch.tensor([vocab(tokens)], dtype=torch.int64).to(device=device)\n",
        "\n",
        "    # Use the model to predict scores for the input text.\n",
        "    with torch.no_grad():\n",
        "        scores = model(input_tensor)\n",
        "\n",
        "    # Find the class with the highest score (argmax) as the predicted class.\n",
        "    _, predicted_class = scores.max(dim=1)\n",
        "\n",
        "    return labels[predicted_class.item()]  # Return the predicted class index."
      ]
    },
    {
      "cell_type": "code",
      "execution_count": 101,
      "id": "534f0220",
      "metadata": {
        "colab": {
          "base_uri": "https://localhost:8080/",
          "height": 36
        },
        "id": "534f0220",
        "outputId": "183715de-74e1-49d1-99aa-8bd759dedee7"
      },
      "outputs": [
        {
          "output_type": "execute_result",
          "data": {
            "text/plain": [
              "'Business'"
            ],
            "application/vnd.google.colaboratory.intrinsic+json": {
              "type": "string"
            }
          },
          "metadata": {},
          "execution_count": 101
        }
      ],
      "source": [
        "sample_text(rnn_model, test_loader, 'Mexico is located in North America') # Testing sample_text function"
      ]
    },
    {
      "cell_type": "markdown",
      "source": [
        "### Function to Create a Confusion Matrix for Classification\n",
        "\n",
        "This function takes a trained PyTorch model and a data loader, evaluates the model on the data loader, and generates a confusion matrix using scikit-learn's `plot_confusion_matrix` function.\n",
        "\n",
        "#### Function Steps\n",
        "\n",
        "1. **Set Model to Evaluation Mode:**\n",
        "   - `model.eval()`: Sets the model in evaluation mode to disable training-specific behavior. During evaluation, the model won't update its weights.\n",
        "\n",
        "2. **Initialize Lists for True and Predicted Labels:**\n",
        "   - `true_labels` and `predicted_labels` are empty lists that will store the true labels and predicted labels, respectively.\n",
        "\n",
        "3. **Disable Gradient Computation:**\n",
        "   - `with torch.no_grad()`: Disables gradient computation for this part of the code to save memory. We don't need gradients during evaluation.\n",
        "\n",
        "4. **Iterate Over the Data Loader:**\n",
        "   - Iterate over the data loader to get input data and their corresponding true labels.\n",
        "\n",
        "5. **Move Data to Specified Device (e.g., GPU):**\n",
        "   - `inputs, labels = inputs.to(device), labels.to(device)`: Moves the input data and true labels to the specified device, such as a GPU.\n",
        "\n",
        "6. **Get Model Predictions:**\n",
        "   - `output = model(inputs)`: Passes the input data through the model to get predictions. These predictions are represented as scores for each class.\n",
        "\n",
        "7. **Find Predicted Classes:**\n",
        "   - `_, predicted = torch.max(output, 1)`: Finds the class with the highest score for each input, determining the predicted class.\n",
        "\n",
        "8. **Extend Lists with Batch Data:**\n",
        "   - `true_labels.extend(labels.cpu().numpy())` and `predicted_labels.extend(predicted.cpu().numpy())`: Extend the `true_labels` and `predicted_labels` lists with the true labels and predicted labels from the current batch. Converting to NumPy arrays makes it easier to work with.\n",
        "\n",
        "9. **Create the Confusion Matrix:**\n",
        "   - `skplt.metrics.plot_confusion_matrix(true_labels, predicted_labels, figsize=(8, 6))`: Creates the confusion matrix using scikit-learn's `plot_confusion_matrix` function, visualizing the performance of the model."
      ],
      "metadata": {
        "id": "XyXCzCgbEU08"
      },
      "id": "XyXCzCgbEU08"
    },
    {
      "cell_type": "code",
      "execution_count": 102,
      "id": "bb38e093",
      "metadata": {
        "id": "bb38e093"
      },
      "outputs": [],
      "source": [
        "def create_confusion_matrix(model, data_loader):\n",
        "    # Set the model in evaluation mode to disable training-specific behavior\n",
        "    model.eval()\n",
        "\n",
        "    # Initialize empty lists to store true and predicted labels\n",
        "    true_labels = []\n",
        "    predicted_labels = []\n",
        "\n",
        "    # Disable gradient computation for this part to save memory\n",
        "    with torch.no_grad():\n",
        "        # Iterate over the data loader to get inputs and labels\n",
        "        for data in data_loader:\n",
        "            inputs, labels = data\n",
        "\n",
        "            # Move inputs and labels to the specified device (e.g., GPU)\n",
        "            inputs, labels = inputs.to(device), labels.to(device)\n",
        "\n",
        "            # Get model predictions for the inputs\n",
        "            output = model(inputs)\n",
        "\n",
        "            # Find the class with the highest score as the predicted class\n",
        "            _, predicted = torch.max(output, 1)\n",
        "\n",
        "            # Extend the true_labels and predicted_labels lists with data from the current batch\n",
        "            true_labels.extend(labels.cpu().numpy())\n",
        "            predicted_labels.extend(predicted.cpu().numpy())\n",
        "\n",
        "    # Create the confusion matrix using scikit-learn's plot_confusion_matrix\n",
        "    cm = skplt.metrics.plot_confusion_matrix(true_labels, predicted_labels, figsize=(8, 6))"
      ]
    },
    {
      "cell_type": "code",
      "execution_count": 103,
      "id": "e7d73f69",
      "metadata": {
        "colab": {
          "base_uri": "https://localhost:8080/",
          "height": 564
        },
        "id": "e7d73f69",
        "outputId": "c95192f0-503c-4631-d1cc-e43cb729a0ef"
      },
      "outputs": [
        {
          "output_type": "display_data",
          "data": {
            "text/plain": [
              "<Figure size 800x600 with 2 Axes>"
            ],
            "image/png": "[encoded data removed]"
          },
          "metadata": {}
        }
      ],
      "source": [
        "# Call the create_confusion_matrix function on your test_loader\n",
        "confusion_matrix = create_confusion_matrix(rnn_model, test_loader)"
      ]
    },
    {
      "cell_type": "markdown",
      "source": [
        "### Most common mistakes made by the model\n"
      ],
      "metadata": {
        "id": "q_3mVH7KGNDl"
      },
      "id": "q_3mVH7KGNDl"
    }
  ],
  "metadata": {
    "kernelspec": {
      "display_name": "Python 3",
      "name": "python3"
    },
    "language_info": {
      "codemirror_mode": {
        "name": "ipython",
        "version": 3
      },
      "file_extension": ".py",
      "mimetype": "text/x-python",
      "name": "python",
      "nbconvert_exporter": "python",
      "pygments_lexer": "ipython3",
      "version": "3.9.0"
    },
    "varInspector": {
      "cols": {
        "lenName": 16,
        "lenType": 16,
        "lenVar": 40
      },
      "kernels_config": {
        "python": {
          "delete_cmd_postfix": "",
          "delete_cmd_prefix": "del ",
          "library": "var_list.py",
          "varRefreshCmd": "print(var_dic_list())"
        },
        "r": {
          "delete_cmd_postfix": ") ",
          "delete_cmd_prefix": "rm(",
          "library": "var_list.r",
          "varRefreshCmd": "cat(var_dic_list()) "
        }
      },
      "types_to_exclude": [
        "module",
        "function",
        "builtin_function_or_method",
        "instance",
        "_Feature"
      ],
      "window_display": false
    },
    "colab": {
      "provenance": [],
      "gpuType": "T4",
      "include_colab_link": true
    },
    "accelerator": "GPU"
  },
  "nbformat": 4,
  "nbformat_minor": 5
}