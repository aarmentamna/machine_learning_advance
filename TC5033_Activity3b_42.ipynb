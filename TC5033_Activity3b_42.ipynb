{
  "cells": [
    {
      "cell_type": "markdown",
      "metadata": {
        "id": "view-in-github",
        "colab_type": "text"
      },
      "source": [
        "<a href=\"https://colab.research.google.com/github/aarmentamna/machine_learning_advance/blob/main/TC5033_Activity3b_42.ipynb\" target=\"_parent\"><img src=\"https://colab.research.google.com/assets/colab-badge.svg\" alt=\"Open In Colab\"/></a>"
      ]
    },
    {
      "cell_type": "markdown",
      "id": "jOu04coLH_rV",
      "metadata": {
        "id": "jOu04coLH_rV"
      },
      "source": [
        "\n",
        "## **Maestría en Inteligencia Artificial Aplicada**\n",
        "### **Curso: ADVANCED MACHINE LEARNING METHODS**\n",
        "## Tecnológico de Monterrey\n",
        "### Dr. José Antonio Cantoral Ceballos\n",
        "\n",
        "## Activity Week 7\n",
        "### Text Classification using RNNs and AG_NEWS dataset in PyTorch\n",
        "\n",
        "*TEAM MEMBERS:*\n",
        "\n",
        "*   Roberto Romero Vielma - A00822314\n",
        "*   José Javier Granados Hernández - A00556717\n",
        "*   Aquiles Yonatan Armenta Hernandez - A01793252\n",
        "*   Alan Avelino Fernández Juárez - A00989308"
      ]
    },
    {
      "cell_type": "markdown",
      "id": "940c6dbc",
      "metadata": {
        "id": "940c6dbc"
      },
      "source": [
        "## TC 5033\n",
        "### Word Embeddings\n",
        "\n",
        "<br>\n",
        "\n",
        "#### Activity 3b: Text Classification using RNNs and AG_NEWS dataset in PyTorch\n",
        "<br>\n",
        "\n",
        "- Objective:\n",
        "    - Understand the basics of Recurrent Neural Networks (RNNs) and their application in text classification.\n",
        "    - Learn how to handle a real-world text dataset, AG_NEWS, in PyTorch.\n",
        "    - Gain hands-on experience in defining, training, and evaluating a text classification model in PyTorch.\n",
        "    \n",
        "<br>\n",
        "\n",
        "- Instructions:\n",
        "    - Data Preparation: Starter code will be provided that loads the AG_NEWS dataset and prepares it for training. Do not modify this part. However, you should be sure to understand it, and comment it, the use of markdown cells is suggested.\n",
        "\n",
        "    - Model Setup: A skeleton code for the RNN model class will be provided. Complete this class and use it to instantiate your model.\n",
        "\n",
        "    - Implementing Accuracy Function: Write a function that takes model predictions and ground truth labels as input and returns the model's accuracy.\n",
        "\n",
        "    - Training Function: Implement a function that performs training on the given model using the AG_NEWS dataset. Your model should achieve an accuracy of at least 80% to get full marks for this part.\n",
        "\n",
        "    - Text Sampling: Write a function that takes a sample text as input and classifies it using your trained model.\n",
        "\n",
        "    - Confusion Matrix: Implement a function to display the confusion matrix for your model on the test data.\n",
        "\n",
        "    - Submission: Submit your completed Jupyter Notebook. Make sure to include a markdown cell at the beginning of the notebook that lists the names of all team members. Teams should consist of 3 to 4 members.\n",
        "    \n",
        "<br>\n",
        "\n",
        "- Evaluation Criteria:\n",
        "\n",
        "    - Correct setup of all the required libraries and modules (10%)\n",
        "    - Code Quality (30%): Your code should be well-organized, clearly commented, and easy to follow. Use also markdown cells for clarity. Comments should be given for all the provided code, this will help you understand its functionality.\n",
        "    \n",
        "   - Functionality (60%):\n",
        "        - All the functions should execute without errors and provide the expected outputs.\n",
        "        - RNN model class (20%)\n",
        "        - Accuracy function (10%)\n",
        "        - Training function (10%)\n",
        "        - Sampling function (10%)\n",
        "        - Confucion matrix (10%)\n",
        "\n",
        "        - The model should achieve at least an 80% accuracy on the AG_NEWS test set for full marks in this criterion.\n"
      ]
    },
    {
      "cell_type": "markdown",
      "id": "4de318da",
      "metadata": {
        "id": "4de318da"
      },
      "source": [
        "Dataset\n",
        "\n",
        "https://pytorch.org/text/stable/datasets.html#text-classification\n",
        "\n",
        "https://paperswithcode.com/dataset/ag-news\n"
      ]
    },
    {
      "cell_type": "markdown",
      "id": "7f23adf0",
      "metadata": {
        "id": "7f23adf0"
      },
      "source": [
        "### Install library commands"
      ]
    },
    {
      "cell_type": "code",
      "execution_count": null,
      "id": "87759183",
      "metadata": {
        "id": "87759183"
      },
      "outputs": [],
      "source": [
        "# conda install -c pytorch torchtext\n",
        "# conda install -c pytorch torchdata\n",
        "# conda install pytorch torchvision torchaudio cudatoolkit=10.2 -c pytorch"
      ]
    },
    {
      "cell_type": "code",
      "execution_count": null,
      "id": "5c22c2a9",
      "metadata": {
        "id": "5c22c2a9"
      },
      "outputs": [],
      "source": [
        "# Install libraries alternative with pip\n",
        "\n",
        "# !pip install 'portalocker>=2.0.0'\n",
        "# !pip install torch==2.0.1 torchvision==0.15.2 torchaudio==2.0.2\n",
        "# !pip install torchdata\n",
        "# !pip install torchtext"
      ]
    },
    {
      "cell_type": "markdown",
      "id": "4a9801f9",
      "metadata": {
        "id": "4a9801f9"
      },
      "source": [
        "### Import libraries\n",
        "1. `import numpy as np`: The 'numpy' library is imported and aliased as 'np' for numerical operations.\n",
        "\n",
        "2. `import torch`: The PyTorch library is imported for deep learning tasks.\n",
        "\n",
        "3. `from torchtext.datasets import AG_NEWS`: The 'AG_NEWS' dataset is imported from the 'torchtext.datasets' module.\n",
        "\n",
        "4. `from torch.utils.data import DataLoader`: The 'DataLoader' class is imported from the 'torch.utils.data' module.\n",
        "\n",
        "5. `from torch.utils.data.dataset import random_split`: The 'random_split' function is imported from the 'torch.utils.data.dataset' module.\n",
        "\n",
        "6. `from torchtext.data.utils import get_tokenizer`: The 'get_tokenizer' function is imported from 'torchtext.data.utils'.\n",
        "\n",
        "7. `from torchtext.vocab import build_vocab_from_iterator`: The 'build_vocab_from_iterator' function is imported from 'torchtext.vocab'.\n",
        "\n",
        "8. `from torchtext.data.functional import to_map_style_dataset`: The 'to_map_style_dataset' function is imported from 'torchtext.data.functional'.\n",
        "\n",
        "9. `from torch import nn`: The 'nn' module from PyTorch is imported for building neural network layers.\n",
        "\n",
        "10. `from torch.nn import functional as F`: The 'F' module from 'torch.nn' is imported for functional operations in neural networks.\n",
        "\n",
        "11. `import gc`: The 'gc' (garbage collector) module is imported for memory management and cleanup.\n",
        "\n",
        "12. `import matplotlib.pyplot as plt`: Matplotlib's pyplot is imported for data visualization.\n",
        "\n",
        "13. `import seaborn as sns`: Seaborn is imported for data visualization.\n",
        "\n",
        "14. `from sklearn.metrics import classification_report, confusion_matrix, roc_curve, auc`: Import for model performance metrics.\n",
        "\n",
        "15. `from sklearn.preprocessing import label_binarize`: Imported function to give labels a string format.\n",
        "\n",
        "The code prepares the environment by importing the required libraries, making them available for further tasks such as data preprocessing, model building, and evaluation, including the plotting of confusion matrices using 'scikitplot.'"
      ]
    },
    {
      "cell_type": "code",
      "execution_count": 1,
      "id": "hul1RkPoJXD-",
      "metadata": {
        "id": "hul1RkPoJXD-"
      },
      "outputs": [],
      "source": [
        "# Install 'portalocker' library with a minimum version requirement of 2.0.0 using pip.\n",
        "!pip install portalocker>=2.0.0"
      ]
    },
    {
      "cell_type": "code",
      "execution_count": 2,
      "id": "878b524f",
      "metadata": {
        "id": "878b524f"
      },
      "outputs": [],
      "source": [
        "import numpy as np # Import the 'numpy' library and alias it as 'np' for numerical operations.\n",
        "\n",
        "# PyTorch libraries\n",
        "import torch # Import the PyTorch library for deep learning tasks.\n",
        "from torchtext.datasets import AG_NEWS # Import the 'AG_NEWS' dataset from the 'torchtext.datasets' module.\n",
        "\n",
        "# Dataloader library\n",
        "from torch.utils.data import DataLoader # Import the 'DataLoader' class from the 'torch.utils.data' module.\n",
        "from torch.utils.data.dataset import random_split # Import the 'random_split' function from the 'torch.utils.data.dataset' module.\n",
        "\n",
        "# Libraries to prepare the data\n",
        "from torchtext.data.utils import get_tokenizer # Import the 'get_tokenizer' function from 'torchtext.data.utils'.\n",
        "from torchtext.vocab import build_vocab_from_iterator # Import 'build_vocab_from_iterator' function from 'torchtext.vocab'.\n",
        "from torchtext.data.functional import to_map_style_dataset # Import the 'to_map_style_dataset' function from 'torchtext.data.functional'.\n",
        "\n",
        "\n",
        "# Neural Layers\n",
        "from torch import nn # Import the 'nn' module from PyTorch for building neural network layers.\n",
        "from torch.nn import functional as F # Import the 'F' module from 'torch.nn' for functional operations in neural networks.\n",
        "\n",
        "\n",
        "import gc # Import the 'gc' (garbage collector) module for memory management and cleanup.\n",
        "\n",
        "# Plot a confusion matrix\n",
        "import matplotlib.pyplot as plt # Import Matplotlib pyplot for data vizualization\n",
        "import seaborn as sns # Import seaborn also for data visualization\n",
        "from sklearn.metrics import classification_report, confusion_matrix, roc_curve, auc # Import for model performance metrics\n",
        "from sklearn.preprocessing import label_binarize # Imported function to give labels a string format\n"
      ]
    },
    {
      "cell_type": "markdown",
      "id": "2bb79a89",
      "metadata": {
        "id": "2bb79a89"
      },
      "source": [
        "### GPU, CPU Selection\n",
        "This code determines the computation device (CPU or GPU) for PyTorch tensor operations. It follows these steps:\n",
        "\n",
        "1. It checks if a GPU (NVIDIA CUDA-compatible) is available using `torch.cuda.is_available()`.\n",
        "\n",
        "2. If a GPU is available, it sets the `device` variable to 'cuda', indicating GPU usage.\n",
        "\n",
        "3. If a GPU is not available, it attempts to check for a Mac M Series GPU using 'mps' as the device name (specific to the environment).\n",
        "\n",
        "4. If neither a GPU nor 'mps' is available, it falls back to using the CPU as the default computation device.\n",
        "\n",
        "5. Finally, it prints the selected device: 'cuda' for GPU, 'mps' for Mac M Series (environment-specific), or 'cpu' for CPU.\n",
        "\n",
        "It's important to validate and adapt the 'mps' part for your specific use case as it might not be a standard PyTorch device name.\n",
        "\n",
        "The code can be used in Jupyter Notebook to determine the computation device for PyTorch operations.\n"
      ]
    },
    {
      "cell_type": "code",
      "execution_count": 3,
      "id": "3bab55f3",
      "metadata": {
        "colab": {
          "base_uri": "https://localhost:8080/"
        },
        "id": "3bab55f3",
        "outputId": "2c892bf3-6920-4b6e-c68d-44f2982abcc3"
      },
      "outputs": [
        {
          "output_type": "stream",
          "name": "stdout",
          "text": [
            "cuda\n"
          ]
        }
      ],
      "source": [
        "# Check if a CUDA-compatible GPU is available; if yes, use CUDA, otherwise, use MPS or CPU\n",
        "# Check for Nvidia GPU first\n",
        "if torch.cuda.is_available():\n",
        "    device = torch.device('cuda')\n",
        "else:\n",
        "    try:\n",
        "        # Check for existance of Mac M Series GPU\n",
        "        device = torch.device('mps')\n",
        "    except:\n",
        "        # Default computation device -> CPU\n",
        "        device = torch.device('cpu')\n",
        "print(device)"
      ]
    },
    {
      "cell_type": "markdown",
      "id": "3d38956d",
      "metadata": {
        "id": "3d38956d"
      },
      "source": [
        "### Get the train and the test datasets and dataloaders\n",
        "The following code demonstrates various steps in data preprocessing and dataset splitting for a machine learning or deep learning task.\n",
        "\n",
        "#### Data Loading and Dataset Splitting\n",
        "\n",
        "1. **Load the AG_NEWS dataset and Split:** Initially, the AG_NEWS dataset is loaded and then split into two datasets: `train_dataset` and `test_dataset`.\n",
        "\n",
        "2. **Convert to Map-Style Datasets:** Both the training and testing datasets are converted to map-style datasets using the `to_map_style_dataset` function. Map-style datasets are a common format for data processing in PyTorch. One of the advantages of having this format is to have indexable content; such as in lists `dataset[0]`\n",
        "\n",
        "#### Tokenization and Vocabulary Building\n",
        "\n",
        "3. **Tokenization Setup:** A tokenizer is defined using the 'basic_english' configuration, which is suitable for processing English text.\n",
        "\n",
        "4. **Token Yielding Function:** A function named `yield_tokens` is defined to extract tokens from the given data. It iterates through the data and tokenizes the text using the `tokeniser`.\n",
        "\n",
        "5. **Vocabulary Building:** A vocabulary is built from the tokens yielded by the `yield_tokens` function, with the special token \"<unk>\" used to represent unknown words. The vocabulary is created using the `build_vocab_from_iterator` function.\n",
        "\n",
        "6. **Default Index Set:** The default index of the vocabulary is set to \"<unk>\" to handle out-of-vocabulary words. If a token is not found in the vocabulary, it defaults to \"<unk>.\"\n",
        "\n",
        "#### Tokenization and Data Splitting\n",
        "\n",
        "7. **Tokenization of Input Text:** The input text, \"Welcome to TE3007,\" is tokenized using the 'tokeniser.'\n",
        "\n",
        "8. **Validation Dataset Size Calculation:** The code calculates the number of samples for the training and validation datasets. It reserves 90% of the data for training and assigns the remaining for validation.\n",
        "\n",
        "9. **Training and Validation Split:** The training dataset is split into two sets, `train_dataset` (containing `NUM_TRAIN` samples for training) and `val_dataset` (containing `NUM_VAL` samples for validation).\n",
        "\n",
        "#### Dataset Lengths\n",
        "\n",
        "10. **Dataset Lengths:** Finally, the lengths of the training, validation, and test datasets are printed to provide insights into the size of each dataset. This information is crucial for data preparation and model training.\n",
        "\n",
        "This code demonstrates essential steps in data preprocessing, including tokenization, vocabulary building, and dataset splitting, to prepare the data for subsequent deep learning tasks."
      ]
    },
    {
      "cell_type": "markdown",
      "id": "e9c6b784",
      "metadata": {
        "id": "e9c6b784"
      },
      "source": [
        "Classes:\n",
        "\n",
        "* 1 - World\n",
        "\n",
        "* 2 - Sports\n",
        "\n",
        "* 3 - Business\n",
        "\n",
        "* 4 - Sci/Tech\n",
        "\n",
        "We will convert them to:\n",
        "\n",
        "* 0 - World\n",
        "\n",
        "* 1 - Sports\n",
        "\n",
        "* 2 - Business\n",
        "\n",
        "* 3 - Sci/Tech"
      ]
    },
    {
      "cell_type": "code",
      "execution_count": 4,
      "id": "49fbed19",
      "metadata": {
        "id": "49fbed19"
      },
      "outputs": [],
      "source": [
        "# Load the AG_NEWS dataset and split it into training and testing datasets\n",
        "train_dataset, test_dataset = AG_NEWS()\n",
        "# Convert the datasets to map-style datasets\n",
        "# If any error shows in this cell, delete runtime and run all the notebook again\n",
        "train_dataset, test_dataset = to_map_style_dataset(train_dataset), to_map_style_dataset(test_dataset)"
      ]
    },
    {
      "cell_type": "code",
      "execution_count": 5,
      "id": "cd0b0723",
      "metadata": {
        "id": "cd0b0723",
        "outputId": "4e562926-82d9-4631-f104-bc8604bbd33e",
        "colab": {
          "base_uri": "https://localhost:8080/"
        }
      },
      "outputs": [
        {
          "output_type": "stream",
          "name": "stdout",
          "text": [
            "Size of datasets: 120000 7600\n",
            "Top and bottom of train data set:\n",
            "(3, \"Wall St. Bears Claw Back Into the Black (Reuters) Reuters - Short-sellers, Wall Street's dwindling\\\\band of ultra-cynics, are seeing green again.\")\n",
            "(2, 'Nets get Carter from Raptors INDIANAPOLIS -- All-Star Vince Carter was traded by the Toronto Raptors to the New Jersey Nets for Alonzo Mourning, Eric Williams, Aaron Williams, and a pair of first-round draft picks yesterday.')\n"
          ]
        }
      ],
      "source": [
        "# See the shapes of the data\n",
        "print('Size of datasets:', train_dataset.__len__(), test_dataset.__len__())\n",
        "# See the top and bottom of one data set\n",
        "print('Top and bottom of train data set:')\n",
        "print(train_dataset[0])\n",
        "print(train_dataset[-1])"
      ]
    },
    {
      "cell_type": "code",
      "execution_count": 6,
      "id": "9c372eb9",
      "metadata": {
        "id": "9c372eb9"
      },
      "outputs": [],
      "source": [
        "# Define a tokenizer using the 'basic_english' configuration\n",
        "tokeniser = get_tokenizer('basic_english')\n",
        "\n",
        "# Define a function to yield tokens from the given data\n",
        "def yield_tokens(data):\n",
        "    for _, text in data:\n",
        "        # Tokenize the text using the previously defined 'tokeniser'\n",
        "        yield tokeniser(text)"
      ]
    },
    {
      "cell_type": "code",
      "execution_count": 7,
      "id": "794d0375",
      "metadata": {
        "id": "794d0375"
      },
      "outputs": [],
      "source": [
        "# Build a vocabulary from the tokens yielded by the 'yield_tokens' function on the training dataset\n",
        "vocab = build_vocab_from_iterator(yield_tokens(train_dataset), specials=[\"<unk>\"])\n",
        "# The 'specials' argument specifies special tokens, and \"<unk>\" is used for unknown words.\n",
        "\n",
        "# Set the default index of the vocabulary to \"<unk>\" (unknown) token\n",
        "vocab.set_default_index(vocab[\"<unk>\"])\n",
        "# This ensures that if a token is not found in the vocabulary, it defaults to \"<unk>\" for handling out-of-vocabulary words."
      ]
    },
    {
      "cell_type": "code",
      "execution_count": 8,
      "id": "b48268d4",
      "metadata": {
        "colab": {
          "base_uri": "https://localhost:8080/"
        },
        "id": "b48268d4",
        "outputId": "ef59f0da-15c2-491f-98a3-ac841cd66537"
      },
      "outputs": [
        {
          "output_type": "stream",
          "name": "stdout",
          "text": [
            "['welcome', 'to', 'te3007'] [3314, 4, 0]\n"
          ]
        }
      ],
      "source": [
        "# Tokenize the input text using the 'tokeniser'\n",
        "tokens = tokeniser('Welcome to TE3007')\n",
        "# Print the original tokens and their corresponding indices\n",
        "print(tokens, vocab(tokens))"
      ]
    },
    {
      "cell_type": "code",
      "execution_count": 9,
      "id": "c8c8f6a6",
      "metadata": {
        "id": "c8c8f6a6"
      },
      "outputs": [],
      "source": [
        "# Calculate the number of samples for the training dataset by taking 90% of the entire dataset.\n",
        "NUM_TRAIN = int(len(train_dataset) * 0.9)\n",
        "\n",
        "# Calculate the number of samples for the validation dataset by subtracting the training dataset size from the total dataset size.\n",
        "NUM_VAL = len(train_dataset) - NUM_TRAIN"
      ]
    },
    {
      "cell_type": "code",
      "execution_count": 10,
      "id": "8290895e",
      "metadata": {
        "id": "8290895e"
      },
      "outputs": [],
      "source": [
        "# Split the training dataset into training and validation datasets\n",
        "train_dataset, val_dataset = random_split(train_dataset, [NUM_TRAIN, NUM_VAL])\n",
        "\n",
        "# 'train_dataset' now contains NUM_TRAIN samples for training.\n",
        "# 'val_dataset' now contains NUM_VAL samples for validation."
      ]
    },
    {
      "cell_type": "code",
      "execution_count": 11,
      "id": "cbc75b54",
      "metadata": {
        "colab": {
          "base_uri": "https://localhost:8080/"
        },
        "id": "cbc75b54",
        "outputId": "55d46b5c-d86a-405f-ac7f-f44eadc724ef"
      },
      "outputs": [
        {
          "output_type": "stream",
          "name": "stdout",
          "text": [
            "108000 12000 7600\n"
          ]
        }
      ],
      "source": [
        "# Print the lengths of the training, validation, and test datasets\n",
        "print(len(train_dataset), len(val_dataset), len(test_dataset))"
      ]
    },
    {
      "cell_type": "markdown",
      "id": "RdKyl2j65pg6",
      "metadata": {
        "id": "RdKyl2j65pg6"
      },
      "source": [
        "### Batch Collation Function\n",
        "\n",
        "1. **Splitting Labels and Text Data:** The function starts by receiving a batch of data. It separates the labels (y) and text data (x) using the `list(zip(*batch))` operation.\n",
        "\n",
        "2. **Tokenization and Numerical Conversion:** It then tokenizes the text data using a previously defined tokenizer (`tokeniser`) and converts the tokens to numerical representations using a vocabulary (`vocab`).\n",
        "\n",
        "3. **Padding and Truncation:** To ensure that all sequences have the same length for efficient processing, the function checks the length of each sequence. If a sequence is shorter than a predefined maximum length (`max_tokens`), it is padded with zeros to match the maximum length. If it's longer, it's truncated to the maximum length.\n",
        "\n",
        "4. **Data Type Conversion:** Finally, the function converts the processed data into PyTorch tensors. The text data is represented as a tensor with data type `torch.int32`, and the labels are adjusted by subtracting 1 from them and represented as tensors with the same data type."
      ]
    },
    {
      "cell_type": "code",
      "execution_count": 12,
      "id": "ffdbf077",
      "metadata": {
        "id": "ffdbf077"
      },
      "outputs": [],
      "source": [
        "# Define a function for batch collation\n",
        "def collate_batch(batch):\n",
        "    # Split the batch into labels (y) and text data (x)\n",
        "    y, x = list(zip(*batch))\n",
        "\n",
        "    # Tokenize the text data and convert to numerical representations using the vocabulary\n",
        "    x = [vocab(tokeniser(text)) for text in x]\n",
        "\n",
        "    # Pad or truncate sequences to a maximum length (max_tokens)\n",
        "    x = [t + ([0] * (max_tokens - len(t))) if len(t) < max_tokens else t[:max_tokens] for t in x]\n",
        "\n",
        "    # Convert the tokenized and padded/truncated sequences to PyTorch tensors\n",
        "    return torch.tensor(x, dtype=torch.int32), torch.tensor(y, dtype=torch.int32) - 1"
      ]
    },
    {
      "cell_type": "code",
      "execution_count": 13,
      "id": "5eb459c7",
      "metadata": {
        "id": "5eb459c7"
      },
      "outputs": [],
      "source": [
        "# Define a list of labels for the AG_NEWS dataset\n",
        "labels = [\"World\", \"Sports\", \"Business\", \"Sci/Tech\"]\n",
        "\n",
        "# Define the maximum number of tokens allowed in a sequence\n",
        "max_tokens = 50\n",
        "\n",
        "# Define the batch size for training and data processing\n",
        "BATCH_SIZE = 256"
      ]
    },
    {
      "cell_type": "code",
      "execution_count": 14,
      "id": "0a55e6ee",
      "metadata": {
        "id": "0a55e6ee"
      },
      "outputs": [],
      "source": [
        "# Create a DataLoader for the training dataset with a specified batch size and data processing function\n",
        "train_loader = DataLoader(train_dataset, batch_size=BATCH_SIZE, collate_fn=collate_batch, shuffle=True)\n",
        "\n",
        "# Create a DataLoader for the validation dataset with the same batch size and processing function\n",
        "val_loader = DataLoader(val_dataset, batch_size=BATCH_SIZE, collate_fn=collate_batch, shuffle=True)\n",
        "\n",
        "# Create a DataLoader for the test dataset with the same batch size and processing function\n",
        "test_loader = DataLoader(test_dataset, batch_size=BATCH_SIZE, collate_fn=collate_batch, shuffle=True)"
      ]
    },
    {
      "cell_type": "markdown",
      "id": "47b98898",
      "metadata": {
        "id": "47b98898"
      },
      "source": [
        "### Let us build our RNN model\n",
        "The following code defines a custom recurrent neural network (RNN) model class named `RNN_Model_1` for sequence classification tasks.\n",
        "\n",
        "#### Model Architecture\n",
        "\n",
        "1. **Initialization:** In the constructor (`__init__`), the model is initialized with the following parameters:\n",
        "    - `embed_size`: The size of the word embedding vectors.\n",
        "    - `hidden`: The number of hidden units in the RNN layer.\n",
        "    - `layers`: The number of stacked RNN layers.\n",
        "    - `num_classes`: The number of classes in the classification task.\n",
        "\n",
        "2. **Embedding Layer:** An embedding layer is created using the `nn.Embedding` module. This layer converts input tokens to dense vectors. The `num_embeddings` parameter is set to the length of the vocabulary (`len(vocab)`) to match the vocabulary size, and the `embedding_dim` is set to the specified `embed_size`.\n",
        "\n",
        "3. **RNN (GRU) Layer:** An RNN layer, specifically a Gated Recurrent Unit (GRU) layer, is created using `nn.GRU`. It takes the embedded input and processes it through recurrent layers. The `input_size` is set to `embed_size`, the `hidden_size` to `hidden`, the `num_layers` to `layers`, and `batch_first` is set to `True`.\n",
        "\n",
        "4. **Fully Connected Layer:** A fully connected layer is created using `nn.Linear`. It is used for the final classification. The `input_size` is `hidden`, and the `output_size` is `num_classes`.\n",
        "\n",
        "### Forward Pass\n",
        "\n",
        "The `forward` method specifies how data is passed through the model:\n",
        "1. The input `x` is first cast to `torch.int64` to ensure the correct data type.\n",
        "2. The input sequence is embedded using the previously defined embedding layer.\n",
        "3. The embedded sequence is passed through the GRU layer to capture sequential information.\n",
        "4. The output from the RNN layer is extracted from the last time step.\n",
        "5. Finally, the output is passed through the fully connected layer for classification.\n",
        "\n",
        "This model architecture is designed for sequence classification tasks, such as text classification, where the input sequence is processed to make class predictions.\n"
      ]
    },
    {
      "cell_type": "code",
      "execution_count": 15,
      "id": "50f20793",
      "metadata": {
        "id": "50f20793"
      },
      "outputs": [],
      "source": [
        "# Define the embedding size for word embeddings in the model\n",
        "EMBEDDING_SIZE = 100\n",
        "\n",
        "# Define the number of neurons in each hidden layer of the neural network\n",
        "NEURONS = 64\n",
        "\n",
        "# Define the number of layers in the neural network\n",
        "LAYERS = 2\n",
        "\n",
        "# Define the number of classes in the classification task\n",
        "NUM_CLASSES = len(labels)"
      ]
    },
    {
      "cell_type": "code",
      "execution_count": 16,
      "id": "0f7f5621",
      "metadata": {
        "id": "0f7f5621"
      },
      "outputs": [],
      "source": [
        "# Define a custom RNN model class (RNN_Model_1)\n",
        "class RNN_Model_1(nn.Module):\n",
        "    def __init__(self, embed_size, hidden, layers, num_classes):\n",
        "        super().__init__()\n",
        "\n",
        "        # Create an embedding layer for converting input tokens to dense vectors\n",
        "        self.embedding_layer = nn.Embedding(num_embeddings=len(vocab),\n",
        "                                            embedding_dim=embed_size)\n",
        "        # 'vocab' should be defined previously and represents the vocabulary for the dataset.\n",
        "\n",
        "        # Create an RNN (GRU) layer for sequence processing\n",
        "        self.rnn = nn.GRU(input_size=embed_size, hidden_size=hidden, num_layers=layers, batch_first=True)\n",
        "\n",
        "        # Create a fully connected layer for classification\n",
        "        self.fc = nn.Linear(hidden, num_classes)\n",
        "\n",
        "    def forward(self, x):\n",
        "        x = x.to(torch.int64)  # Ensure the input is of type 'torch.int64'\n",
        "\n",
        "        # Embed the input sequence\n",
        "        embedded = self.embedding_layer(x)\n",
        "\n",
        "        # Pass the embedded sequence through the RNN layer\n",
        "        output, _ = self.rnn(embedded)\n",
        "\n",
        "        # Extract the output at the last time step of the sequence\n",
        "        output = output[:, -1, :]\n",
        "\n",
        "        # Pass the output through the fully connected layer for classification\n",
        "        output = self.fc(output)\n",
        "\n",
        "        return output"
      ]
    },
    {
      "cell_type": "markdown",
      "id": "rMov-QDX8Bgx",
      "metadata": {
        "id": "rMov-QDX8Bgx"
      },
      "source": [
        "### Accuracy\n",
        "\n",
        "The code below defines a function named `accuracy` for calculating the accuracy of a given model on a specified data loader. The function returns the accuracy as a floating-point value.\n",
        "\n",
        "#### Accuracy Calculation\n",
        "\n",
        "1. **Initialization:** Inside the `accuracy` function, two variables are initialized:\n",
        "   - `num_correct`: A counter for the number of correctly predicted instances.\n",
        "   - `num_total`: A counter for the total number of instances.\n",
        "\n",
        "2. **Model Evaluation:** The model is set to evaluation mode using `model.eval()`. This is important for ensuring that layers like dropout and batch normalization behave differently during evaluation compared to training.\n",
        "\n",
        "3. **Device Configuration:** The model is moved to the specified device (e.g., GPU or CPU) using `model.to(device=device)` to ensure that calculations are performed on the selected device.\n",
        "\n",
        "4. **Accuracy Computation:** The function iterates through the data loader. For each batch of data:\n",
        "   - The input (`x`) and target labels (`y`) are moved to the same device as the model with appropriate data types.\n",
        "   - The model is used to predict scores for the input data (`scores`).\n",
        "   - The predictions with the highest scores are obtained using `scores.max(dim=1)`.\n",
        "   - Correct predictions are counted by comparing the predictions to the true labels (`y`), and the number of correct predictions is added to `num_correct`.\n",
        "   - The total number of instances in the batch is added to `num_total`.\n",
        "\n",
        "5. **Accuracy Calculation:** The final accuracy is computed by dividing the number of correct predictions (`num_correct`) by the total number of instances (`num_total`). The result is returned as a floating-point value.\n"
      ]
    },
    {
      "cell_type": "code",
      "execution_count": 17,
      "id": "2a42613f",
      "metadata": {
        "code_folding": [],
        "id": "2a42613f"
      },
      "outputs": [],
      "source": [
        "# Define a function for calculating the accuracy of a given model on a specified data loader\n",
        "def accuracy(model, loader):\n",
        "    num_correct = 0  # Initialize a counter for the number of correctly predicted instances\n",
        "    num_total = 0  # Initialize a counter for the total number of instances\n",
        "\n",
        "    model.eval()  # Set the model to evaluation mode\n",
        "    model = model.to(device=device)  # Move the model to the specified device\n",
        "\n",
        "    with torch.no_grad():  # Disable gradient tracking during inference\n",
        "        for x, y in loader:  # Iterate through the data loader\n",
        "            x = x.to(device=device, dtype=torch.float32)  # Move input data to the device with the appropriate data type\n",
        "            y = y.to(device=device, dtype=torch.long)  # Move target labels to the device with the appropriate data type\n",
        "            scores = model(x)  # Use the model to predict scores for the input data\n",
        "            _, predictions = scores.max(dim=1)  # Find the class with the highest score for each instance\n",
        "            num_correct += (predictions == y).sum()  # Count the number of correct predictions in the batch\n",
        "            num_total += predictions.size(0)  # Add the total number of instances in the batch to the counter\n",
        "\n",
        "    return float(num_correct / num_total)  # Compute and return the accuracy as a floating-point value"
      ]
    },
    {
      "cell_type": "markdown",
      "id": "UMYUBCi38p4M",
      "metadata": {
        "id": "UMYUBCi38p4M"
      },
      "source": [
        "### Training\n",
        "\n",
        "The following code defines a training function for deep learning model. This function is responsible for training the model over multiple epochs using the specified data loader and optimizing the model's parameters using an optimizer.\n",
        "\n",
        "### Function Overview\n",
        "\n",
        "The `train` function has the following components:\n",
        "\n",
        "1. **Model and Device Configuration:**\n",
        "   - The function starts by moving the model to the specified device (CPU or GPU) using `model.to(device=device)`. This ensures that all computations occur on the selected hardware.\n",
        "   \n",
        "2. **Epochs Loop:**\n",
        "   - The training process is executed for a specified number of training epochs. The outer loop iterates over each epoch using `for epoch in range(epochs)`.\n",
        "\n",
        "3. **Data Loading:**\n",
        "   - Within each epoch, the inner loop iterates over the training data using `for i, (x, y) in enumerate(train_loader)`. This loop allows the model to process the entire training dataset in batches.\n",
        "\n",
        "4. **Training Mode:**\n",
        "   - The model is set in training mode with `model.train()`. This is necessary to enable gradient computation and backpropagation during training.\n",
        "\n",
        "5. **Data Preparation:**\n",
        "   - Input data (`x`) is moved to the specified device with the appropriate data type (`dtype=torch.float32`), and target labels (`y`) are also moved to the device with the appropriate data type (`dtype=torch.long`).\n",
        "\n",
        "6. **Forward Pass and Loss Computation:**\n",
        "   - The model is used to predict scores for the input data (`scores`).\n",
        "   - The cross-entropy loss is computed using `F.cross_entropy`. This loss quantifies the error between predicted scores and true labels.\n",
        "\n",
        "7. **Gradient Computation:**\n",
        "   - The gradients are cleared to prevent gradient accumulation with `optimiser.zero_grad()`.\n",
        "   - Backpropagation is performed using `cost.backward()` to compute gradients.\n",
        "\n",
        "8. **Parameter Update:**\n",
        "   - The model's parameters are updated using the optimizer (`optimiser`) with `optimiser.step()`.\n",
        "\n",
        "9. **Validation and Logging:**\n",
        "   - After each epoch, the accuracy of the model on the validation set is calculated using the `accuracy` function.\n",
        "   - Training statistics such as the current epoch, cost (loss), and accuracy are printed to monitor the training progress using `print(f'Epoch: {epoch}, cost: {cost.item()}, accuracy: {acc}.')`.\n",
        "\n",
        "This `train` function is a fundamental component for training machine learning models. It encapsulates the process of forward and backward passes, parameter updates, and performance monitoring over multiple training epochs.\n"
      ]
    },
    {
      "cell_type": "code",
      "execution_count": 18,
      "id": "5e843e1f",
      "metadata": {
        "code_folding": [],
        "id": "5e843e1f"
      },
      "outputs": [],
      "source": [
        "# Define a training function for a machine learning model.\n",
        "def train(model, optimizer, epochs=100):\n",
        "    model = model.to(device=device)  # Move the model to the specified device (CPU or GPU).\n",
        "\n",
        "    for epoch in range(epochs):  # Iterate over the specified number of training epochs.\n",
        "        for i, (x, y) in enumerate(train_loader):  # Loop through the training data.\n",
        "            model.train()  # Set the model in training mode to enable gradient computation.\n",
        "            x = x.to(device=device, dtype=torch.float32)  # Move input data to the specified device with the appropriate data type.\n",
        "            y = y.to(device=device, dtype=torch.long)  # Move target labels to the specified device with the appropriate data type.\n",
        "            scores = model(x)  # Get the model's predicted scores.\n",
        "            cost = F.cross_entropy(input=scores, target=y)  # Calculate the cross-entropy loss.\n",
        "            optimizer.zero_grad()  # Zero the gradients to prevent gradient accumulation.\n",
        "            cost.backward()  # Perform backpropagation to compute gradients.\n",
        "            optimizer.step()  # Update model parameters using the optimizer.\n",
        "\n",
        "        acc = accuracy(model, val_loader)  # Calculate the accuracy of the model on the validation set.\n",
        "        print(f'Epoch: {epoch+1}/{epochs}, Loss: {cost.item()}, Accuracy: {acc}') # Print training statistics including the current epoch, loss, and accuracy on the validation set."
      ]
    },
    {
      "cell_type": "code",
      "execution_count": 19,
      "id": "87775b29",
      "metadata": {
        "id": "87775b29"
      },
      "outputs": [],
      "source": [
        "# Set the number of training epochs to 20 for model training.\n",
        "epochs = 20\n",
        "\n",
        "# Set the learning rate (lr) to 0.001 for the Adam optimizer.\n",
        "lr = 0.001\n",
        "\n",
        "# Create an instance of the RNN model (RNN_Model_1) with specified parameters.\n",
        "rnn_model = RNN_Model_1(EMBEDDING_SIZE, NEURONS, LAYERS, NUM_CLASSES)\n",
        "\n",
        "# Initialize the optimizer (Adam) for updating the model's parameters with the specified learning rate (lr).\n",
        "optimiser = torch.optim.Adam(rnn_model.parameters(), lr=lr)"
      ]
    },
    {
      "cell_type": "code",
      "execution_count": 20,
      "id": "aec12a1b",
      "metadata": {
        "colab": {
          "base_uri": "https://localhost:8080/"
        },
        "id": "aec12a1b",
        "outputId": "728bee22-a569-4653-9670-da5cfff8c16a",
        "scrolled": true
      },
      "outputs": [
        {
          "output_type": "stream",
          "name": "stdout",
          "text": [
            "Epoch: 1/20, Loss: 0.38565394282341003, Accuracy: 0.8710833191871643\n",
            "Epoch: 2/20, Loss: 0.30775880813598633, Accuracy: 0.8949166536331177\n",
            "Epoch: 3/20, Loss: 0.16241714358329773, Accuracy: 0.9053333401679993\n",
            "Epoch: 4/20, Loss: 0.15579906105995178, Accuracy: 0.9049166440963745\n",
            "Epoch: 5/20, Loss: 0.15590102970600128, Accuracy: 0.9052500128746033\n",
            "Epoch: 6/20, Loss: 0.2156207263469696, Accuracy: 0.903249979019165\n",
            "Epoch: 7/20, Loss: 0.13682718575000763, Accuracy: 0.8973333239555359\n",
            "Epoch: 8/20, Loss: 0.050756100565195084, Accuracy: 0.8969166278839111\n",
            "Epoch: 9/20, Loss: 0.026812395080924034, Accuracy: 0.9018332958221436\n",
            "Epoch: 10/20, Loss: 0.13617978990077972, Accuracy: 0.8968333005905151\n",
            "Epoch: 11/20, Loss: 0.06638635694980621, Accuracy: 0.8955000042915344\n",
            "Epoch: 12/20, Loss: 0.029301265254616737, Accuracy: 0.8942499756813049\n",
            "Epoch: 13/20, Loss: 0.04254913330078125, Accuracy: 0.8934999704360962\n",
            "Epoch: 14/20, Loss: 0.04453205689787865, Accuracy: 0.8980000019073486\n",
            "Epoch: 15/20, Loss: 0.0089045325294137, Accuracy: 0.8987500071525574\n",
            "Epoch: 16/20, Loss: 0.024306852370500565, Accuracy: 0.8964166641235352\n",
            "Epoch: 17/20, Loss: 0.012717442587018013, Accuracy: 0.8970000147819519\n",
            "Epoch: 18/20, Loss: 0.020447460934519768, Accuracy: 0.8963333368301392\n",
            "Epoch: 19/20, Loss: 0.026777004823088646, Accuracy: 0.8990833163261414\n",
            "Epoch: 20/20, Loss: 0.011953094974160194, Accuracy: 0.8943333029747009\n"
          ]
        }
      ],
      "source": [
        "# Train the RNN model using the provided optimizer and the specified number of training epochs.\n",
        "train(rnn_model, optimiser, epochs)"
      ]
    },
    {
      "cell_type": "markdown",
      "id": "3fee34f9",
      "metadata": {
        "id": "3fee34f9"
      },
      "source": [
        "<span style='color:red'>**WARNING: IF the device selected is MPS, the accuracy and losses can be set to NAN. This can be due to a conflict in the used library versions in pytorch. Make sure to be using the latests.**</span>"
      ]
    },
    {
      "cell_type": "code",
      "execution_count": 21,
      "id": "7a3ef175",
      "metadata": {
        "colab": {
          "base_uri": "https://localhost:8080/"
        },
        "id": "7a3ef175",
        "outputId": "dc65aa45-aeff-4b1b-aa02-11a8c245d9d0"
      },
      "outputs": [
        {
          "output_type": "stream",
          "name": "stdout",
          "text": [
            "accuracy: 0.8939\n"
          ]
        }
      ],
      "source": [
        "# Print and display the test accuracy of the trained RNN model on the test dataset with four decimal places.\n",
        "print(f'accuracy: {accuracy(rnn_model, test_loader):.4f}')"
      ]
    },
    {
      "cell_type": "markdown",
      "id": "U77ZexAhBPpl",
      "metadata": {
        "id": "U77ZexAhBPpl"
      },
      "source": [
        "### **Sample_text Function**\n",
        "\n",
        "The `sample_text` function is designed to display text samples and their corresponding predictions generated by a natural language processing model. Here's a breakdown of how it works:\n",
        "\n",
        "- **Model Evaluation**: The function sets the model in evaluation mode, which ensures that the model's parameters are not updated during inference.\n",
        "\n",
        "- **Storage of Predicted Results**: An empty list named `predicted_results` is initialized to store the predicted results, and a counter, `sample_count`, is established to keep track of the number of displayed samples.\n",
        "\n",
        "- **Iteration Through Test Data**: The function iterates through the test data using a DataLoader. For each data sample, it performs the following steps:\n",
        "\n",
        "  - **Data Preparation**: It moves the input data to the specified computing device and changes its data type.\n",
        "\n",
        "  - **Inference with Gradient Tracking Disabled**: The function uses the model to predict scores for the input data, while disabling gradient tracking for efficiency.\n",
        "\n",
        "  - **Determination of Predicted Classes**: It identifies the predicted classes by selecting the index of the highest score for each sample.\n",
        "\n",
        "  - **Random Sample Selection**: The function randomly selects a sample index from the available index range.\n",
        "\n",
        "  - **Text Retrieval**: It retrieves the original text corresponding to the selected sample from the test dataset.\n",
        "\n",
        "  - **Class Prediction Retrieval**: The predicted class corresponding to the selected index is obtained.\n",
        "\n",
        "  - **Sample Count Update**: The sample counter is incremented to keep track of the number of displayed samples.\n",
        "\n",
        "  - **Display**: It displays the original text and the predicted class for the sample.\n",
        "\n",
        "  - **Controlled Termination**: The loop exits when the desired number of samples has been displayed, as controlled by the `num_samples` parameter.\n"
      ]
    },
    {
      "cell_type": "code",
      "execution_count": 84,
      "id": "ed30693d",
      "metadata": {
        "id": "ed30693d"
      },
      "outputs": [],
      "source": [
        "def sample_text(model, test_loader, num_samples=1):\n",
        "    model.eval()  # Set the model in evaluation mode.\n",
        "    predicted_results = []  # Initialize a list to store predicted results.\n",
        "    sample_count = 0  # Initialize a counter for the displayed samples.\n",
        "\n",
        "    for x, _ in test_loader:  # Iterate through the test_loader.\n",
        "        x = x.to(device=device, dtype=torch.int32)  # Move input data to the specified device.\n",
        "        with torch.no_grad():  # Disable gradient tracking for inference.\n",
        "            scores = model(x)  # Use the model to predict scores for the input text.\n",
        "\n",
        "        predicted_classes = scores.argmax(dim=1)  # Find the predicted classes.\n",
        "\n",
        "        random_index = np.random.randint(0, len(predicted_classes))  # Choose a random prediction.\n",
        "        random_sample_text = test_loader.dataset[random_index][1]  # Get the original phrase from the test dataset.\n",
        "        random_predicted_class = labels[predicted_classes[random_index].item()]  # Get the predicted class.\n",
        "\n",
        "        sample_count += 1  # Increase the sample counter.\n",
        "\n",
        "        print(f'Original text: {random_sample_text}')  # Display the original text.\n",
        "        print(f'Prediction: {random_predicted_class}')  # Display the predicted class.\n",
        "\n",
        "        if sample_count >= num_samples:\n",
        "            break  # Exit the loop after displaying the specified number of samples."
      ]
    },
    {
      "cell_type": "code",
      "execution_count": 96,
      "id": "534f0220",
      "metadata": {
        "colab": {
          "base_uri": "https://localhost:8080/"
        },
        "id": "534f0220",
        "outputId": "c124d1bb-4589-4ceb-a9a2-675a4c3aa5cc"
      },
      "outputs": [
        {
          "output_type": "stream",
          "name": "stdout",
          "text": [
            "Original text: Immigrants settled in big cities, but less likely to find work: StatsCan (Canadian Press) Canadian Press - OTTAWA (CP) - Most of the nearly two million immigrants who arrived in Canada during the 1990s settled in one of the country's 27 census metropolitan areas, but still found it harder to find work than natural-born citizens, Statistics Canada reported Wednesday.\n",
            "Prediction: World\n"
          ]
        }
      ],
      "source": [
        "sample_text(rnn_model, test_loader) # Testing sample_text function"
      ]
    },
    {
      "cell_type": "markdown",
      "source": [
        "### Function for Creating a Confusion Matrix and ROC Curve Metrics\n",
        "\n",
        "This Python code defines a function to evaluate a classification model and generate a confusion matrix, classification report, and ROC (Receiver Operating Characteristic) curves for each class in the model's predictions. Let's break down the code step by step:\n",
        "\n",
        "#### 1. Initialize Lists\n",
        "\n",
        "- `true_labels`, `predicted_labels`, and `tested_phrases` are initialized as empty lists. These lists will be used to store the true labels, predicted labels, and tested phrases, respectively.\n",
        "\n",
        "#### 2. Define the `create_confusion_matrix_metrics` Function\n",
        "\n",
        "This function takes the following parameters:\n",
        "- `model`: The trained PyTorch model.\n",
        "- `data_loader`: The data loader for the test dataset.\n",
        "- `class_names`: A list of class names.\n",
        "- `device`: The device on which the model should run (e.g., GPU).\n",
        "\n",
        "#### 3. Set Model to Evaluation Mode\n",
        "\n",
        "- `model.eval()`: Sets the model to evaluation mode, which disables training-specific behaviors such as dropout.\n",
        "\n",
        "#### 4. Initialize Arrays for ROC Curve Analysis\n",
        "\n",
        "- `true_labels_bin` and `predicted_scores` are initialized as empty lists. These lists will be used to store binarized true labels and predicted scores, respectively, for ROC curve analysis.\n",
        "\n",
        "#### 5. Disable Gradient Computation\n",
        "\n",
        "- `with torch.no_grad()`: Disables gradient computation during evaluation to save memory and speed up inference.\n",
        "\n",
        "#### 6. Iterate Over the Data Loader\n",
        "\n",
        "- The function iterates through the test data loader, extracting input data and true labels for each batch. Data is moved to the specified device (e.g., GPU).\n",
        "\n",
        "#### 7. Get Model Predictions\n",
        "\n",
        "- Model predictions are obtained using `model(inputs)`. The predicted class with the highest probability is found using `torch.max(outputs, 1)`.\n",
        "\n",
        "#### 8. Record True and Predicted Labels\n",
        "\n",
        "- True labels and predicted labels are recorded in `true_labels` and `predicted_labels`, respectively. The `label_binarize` function is used to binarize true labels for ROC curve analysis.\n",
        "\n",
        "#### 9. Generate and Plot the Confusion Matrix\n",
        "\n",
        "- A confusion matrix is computed using scikit-learn's `confusion_matrix` function. It is then plotted using `sns.heatmap`.\n",
        "\n",
        "#### 10. Print the Classification Report\n",
        "\n",
        "- The classification report is printed using scikit-learn's `classification_report` function, providing detailed metrics for each class.\n",
        "\n",
        "#### 11. Prepare Data for ROC Curve Analysis\n",
        "\n",
        "- True labels and predicted scores are converted into NumPy arrays for ROC curve analysis.\n",
        "\n",
        "#### 12. Compute ROC Curves and Areas\n",
        "\n",
        "- ROC curves and areas under the curve (AUC) are computed for each class using scikit-learn's `roc_curve` and `auc` functions.\n",
        "\n",
        "#### 13. Plot All ROC Curves\n",
        "\n",
        "- ROC curves for each class are plotted, with class-specific AUC values displayed.\n",
        "\n",
        "#### 14. Return Lists\n",
        "\n",
        "- The function returns the `true_labels`, `predicted_labels`, and `tested_phrases` lists for further analysis if needed."
      ],
      "metadata": {
        "id": "EAaB5lq-BTr4"
      },
      "id": "EAaB5lq-BTr4"
    },
    {
      "cell_type": "code",
      "execution_count": 97,
      "id": "bb38e093",
      "metadata": {
        "id": "bb38e093"
      },
      "outputs": [],
      "source": [
        "# Initialize empty lists to store true labels, predicted labels, and tested phrases\n",
        "true_labels = []\n",
        "predicted_labels = []\n",
        "tested_phrases = []\n",
        "\n",
        "# Define a function to create confusion matrix and ROC curve metrics\n",
        "def create_confusion_matrix_metrics(model, data_loader, class_names, device):\n",
        "    # Set the model in evaluation mode\n",
        "    model.eval()\n",
        "\n",
        "    # Initialize arrays for ROC curve analysis\n",
        "    true_labels_bin = []\n",
        "    predicted_scores = []\n",
        "\n",
        "    # Disable gradient computation to save memory and speed up inference\n",
        "    with torch.no_grad():\n",
        "        # Iterate through the data loader\n",
        "        for data in data_loader:\n",
        "            # Extract input data and labels from the current batch\n",
        "            inputs, labels = data\n",
        "            # Move data to the specified device (e.g., GPU)\n",
        "            inputs, labels = inputs.to(device), labels.to(device)\n",
        "\n",
        "            # Get the model output\n",
        "            outputs = model(inputs)\n",
        "            # Find the predicted class with the highest probability\n",
        "            _, predicted = torch.max(outputs, 1)\n",
        "\n",
        "            # Record the true and predicted labels in their respective lists\n",
        "            true_labels.extend(labels.cpu().numpy())\n",
        "            predicted_labels.extend(predicted.cpu().numpy())\n",
        "\n",
        "            # Record the scores for ROC curve analysis\n",
        "            predicted_scores.extend(outputs.cpu().numpy())\n",
        "\n",
        "            # Binarize true labels for ROC curve analysis\n",
        "            true_labels_bin.extend(label_binarize(labels.cpu().numpy(), classes=range(len(class_names))))\n",
        "\n",
        "    # Generate and plot the confusion matrix\n",
        "    cm = confusion_matrix(true_labels, predicted_labels)\n",
        "    plt.figure(figsize=(10, 8))\n",
        "    sns.heatmap(cm, annot=True, fmt='d', cmap='Blues', xticklabels=class_names, yticklabels=class_names)\n",
        "    plt.title('Confusion Matrix')\n",
        "    plt.ylabel('True Labels')\n",
        "    plt.xlabel('Predicted Labels')\n",
        "    plt.show()\n",
        "\n",
        "    # Print the classification report\n",
        "    print(classification_report(true_labels, predicted_labels, target_names=class_names))\n",
        "\n",
        "    # Prepare data for ROC curve analysis\n",
        "    true_labels_bin = np.array(true_labels_bin)\n",
        "    predicted_scores = np.array(predicted_scores)\n",
        "    n_classes = len(class_names)\n",
        "\n",
        "    # Compute ROC curve and ROC area for each class\n",
        "    fpr = dict()\n",
        "    tpr = dict()\n",
        "    roc_auc = dict()\n",
        "    for i in range(n_classes):\n",
        "        fpr[i], tpr[i], _ = roc_curve(true_labels_bin[:, i], predicted_scores[:, i])\n",
        "        roc_auc[i] = auc(fpr[i], tpr[i])\n",
        "\n",
        "    # Plot all ROC curves\n",
        "    plt.figure()\n",
        "    for i in range(n_classes):\n",
        "        plt.plot(fpr[i], tpr[i], label='ROC curve (area = {0:0.2f}) for label {1}'.format(roc_auc[i], class_names[i]))\n",
        "    plt.xlabel('False Positive Rate')\n",
        "    plt.ylabel('True Positive Rate')\n",
        "    plt.title('Receiver Operating Characteristic (ROC)')\n",
        "    plt.legend(loc=\"lower right\")\n",
        "    plt.show()\n",
        "\n",
        "    # Return the lists for further analysis if needed\n",
        "    return true_labels, predicted_labels, tested_phrases\n",
        "\n"
      ]
    },
    {
      "cell_type": "code",
      "execution_count": 98,
      "id": "e7d73f69",
      "metadata": {
        "colab": {
          "base_uri": "https://localhost:8080/",
          "height": 1000
        },
        "id": "e7d73f69",
        "outputId": "286464bd-6020-46d5-edd5-323f760643da"
      },
      "outputs": [
        {
          "output_type": "display_data",
          "data": {
            "text/plain": [
              "<Figure size 1000x800 with 2 Axes>"
            ],
            "image/png": "[encoded data removed]"
          },
          "metadata": {}
        },
        {
          "output_type": "stream",
          "name": "stdout",
          "text": [
            "              precision    recall  f1-score   support\n",
            "\n",
            "       World       0.91      0.89      0.90      1900\n",
            "      Sports       0.95      0.95      0.95      1900\n",
            "    Business       0.84      0.89      0.86      1900\n",
            "    Sci/Tech       0.87      0.85      0.86      1900\n",
            "\n",
            "    accuracy                           0.89      7600\n",
            "   macro avg       0.89      0.89      0.89      7600\n",
            "weighted avg       0.89      0.89      0.89      7600\n",
            "\n"
          ]
        },
        {
          "output_type": "display_data",
          "data": {
            "text/plain": [
              "<Figure size 640x480 with 1 Axes>"
            ],
            "image/png": "[encoded data removed]"
          },
          "metadata": {}
        }
      ],
      "source": [
        "create_confusion_matrix_metrics(rnn_model, test_loader, labels, device); # Plot the confusion matrix, show the classification report and ROC curve"
      ]
    },
    {
      "cell_type": "markdown",
      "id": "60dd2bda",
      "metadata": {
        "id": "60dd2bda"
      },
      "source": [
        "## Model Insights\n",
        "\n",
        "Upon an extensive review of the model's aggregate performance, incorporating all categorical classes, it is observed that the model achieves an overall accuracy of 89%. This signifies that a substantial majority of predictions are accurate. Nevertheless, it is imperative to note that the classes 'Business' and 'Sci/Tech' exhibit a comparatively diminished prediction efficacy, with the 'Sci/Tech' category, in particular, demonstrating a pronounced disparity between precision and recall metrics. This discrepancy is a contributing factor to the elevated incidence of both false positives and false negatives within these categories.\n",
        "\n",
        "The classification of the 'Sports' category is notably exceptional, showcasing superior results relative to other classes. To enhance the predictive capabilities of the remaining categories, the following strategic initiatives are recommended for consideration:\n",
        "\n",
        "1. **Data Augmentation**: Implement advanced techniques to synthetically expand the training dataset, which can lead to improved model generalization.\n",
        "\n",
        "2. **Hyperparameter Optimization**: Undertake a meticulous process of tuning hyperparameters to identify the most efficacious model configuration.\n",
        "\n",
        "3. **Regularization Techniques**: Apply appropriate regularization methods to mitigate overfitting, thus ensuring the model's ability to generalize well to unseen data.\n",
        "\n",
        "4. **Early Stopping**: Introduce early stopping in the training process to prevent overfitting by terminating the training when the validation metric ceases to improve.\n",
        "\n",
        "These measures are anticipated to fortify the model's performance, particularly in the 'Business' and 'Sci/Tech' categories, thereby reducing the rate of misclassification and bolstering overall accuracy.\n"
      ]
    },
    {
      "cell_type": "markdown",
      "id": "a0549586",
      "metadata": {
        "id": "a0549586"
      },
      "source": [
        "## Common Downsides and Mistakes with RNNs\n",
        "\n",
        "Recurrent Neural Networks (RNNs) are a powerful class of neural networks, but they have several common downsides and potential mistakes that are important to be aware of when using them:\n",
        "\n",
        "1. **Vanishing and Exploding Gradients:** RNNs can suffer from vanishing gradients, where the gradients become extremely small as they are backpropagated through time. This can make it challenging to train RNNs on long sequences. On the other hand, exploding gradients can also occur, where the gradients become extremely large, leading to numerical instability. Techniques like gradient clipping and using alternative RNN architectures (e.g., LSTMs and GRUs) can help mitigate these issues. Other techinques are batch normalization or using Resnet arquitechtures.\n",
        "\n",
        "2. **Limited Context:** RNNs have a limited memory of previous time steps. They might not capture long-range dependencies in data efficiently. This limitation can be addressed by using more complex RNN architectures or other types of neural networks like Transformers for certain tasks.\n",
        "\n",
        "3. **Inefficient Training:** Training RNNs can be computationally expensive, especially for deep networks and long sequences. It may require substantial resources, making it impractical for some applications. Training on GPUs or TPUs can help alleviate this issue.\n",
        "\n",
        "4. **Data Preprocessing:** RNNs are sensitive to the quality of input data. Poorly preprocessed or noisy data can lead to suboptimal results. Data preprocessing, including text tokenization or sequence padding, is crucial.\n",
        "\n",
        "5. **Sequential Computation:** RNNs are inherently sequential models, which makes parallelization challenging. Training and inference may be slower compared to models like CNNs.\n",
        "\n",
        "6. **Overfitting:** RNNs are prone to overfitting, especially when dealing with small datasets. Regularization techniques like dropout and early stopping can help mitigate this issue.\n",
        "\n",
        "7. **Hyperparameter Tuning:** Properly tuning the hyperparameters of an RNN, such as the learning rate, batch size, and architecture, can be a time-consuming task. It's essential to perform hyperparameter searches to achieve optimal performance.\n",
        "\n",
        "8. **Lack of Interpretability:** RNNs are often considered black-box models, making it challenging to interpret how they arrive at a particular decision or prediction. Techniques like attention mechanisms and visualization tools can offer some insights.\n",
        "\n",
        "9. **Model Selection:** Selecting the right RNN architecture (e.g., LSTM, GRU) for your task can be a crucial decision. It's not always clear which one will perform best, and it may require experimentation.\n",
        "\n",
        "10. **Data Imbalance:** Handling imbalanced datasets with RNNs can be challenging. Careful handling of class imbalances and selection of appropriate evaluation metrics are necessary.\n",
        "\n",
        "11. **Unidirectional Information:** By default, RNNs are unidirectional, meaning they only consider past context. In some tasks, it's crucial to consider future context as well. Bidirectional RNNs and Transformers can address this issue.\n",
        "\n",
        "12. **Prone to Noise:** RNNs can be sensitive to noisy input data or data with missing values. Preprocessing and data cleaning are essential.\n",
        "\n",
        "13. **Long Training Times:** Training large RNN models on long sequences can be time-consuming. Efficient hardware and distributed training can help, but it's still a consideration for resource-constrained setups.\n",
        "\n",
        "To mitigate these issues and mistakes, it's important to understand the nature of your specific problem, experiment with different architectures and hyperparameters, preprocess your data carefully, and consider alternatives like Transformers for tasks where RNNs might not be the most suitable choice.\n"
      ]
    }
  ],
  "metadata": {
    "accelerator": "GPU",
    "colab": {
      "gpuType": "T4",
      "provenance": [],
      "include_colab_link": true
    },
    "kernelspec": {
      "display_name": "Python 3",
      "name": "python3"
    },
    "language_info": {
      "codemirror_mode": {
        "name": "ipython",
        "version": 3
      },
      "file_extension": ".py",
      "mimetype": "text/x-python",
      "name": "python",
      "nbconvert_exporter": "python",
      "pygments_lexer": "ipython3",
      "version": "3.11.3"
    },
    "varInspector": {
      "cols": {
        "lenName": 16,
        "lenType": 16,
        "lenVar": 40
      },
      "kernels_config": {
        "python": {
          "delete_cmd_postfix": "",
          "delete_cmd_prefix": "del ",
          "library": "var_list.py",
          "varRefreshCmd": "print(var_dic_list())"
        },
        "r": {
          "delete_cmd_postfix": ") ",
          "delete_cmd_prefix": "rm(",
          "library": "var_list.r",
          "varRefreshCmd": "cat(var_dic_list()) "
        }
      },
      "types_to_exclude": [
        "module",
        "function",
        "builtin_function_or_method",
        "instance",
        "_Feature"
      ],
      "window_display": false
    }
  },
  "nbformat": 4,
  "nbformat_minor": 5
}